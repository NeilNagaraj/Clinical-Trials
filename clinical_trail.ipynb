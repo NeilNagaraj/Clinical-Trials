{
 "cells": [
  {
   "cell_type": "markdown",
   "metadata": {},
   "source": [
    "### Initial Trial & Error"
   ]
  },
  {
   "cell_type": "code",
   "execution_count": 66,
   "metadata": {},
   "outputs": [],
   "source": [
    "import openai\n",
    "import streamlit as st\n",
    "from langchain import LLMChain, OpenAI\n",
    "from langchain.agents import AgentExecutor, Tool, ZeroShotAgent\n",
    "from langchain.chains import RetrievalQA\n",
    "from langchain.chains.question_answering import load_qa_chain\n",
    "from langchain.docstore.document import Document\n",
    "from langchain.document_loaders import PyPDFLoader\n",
    "from langchain.embeddings.openai import OpenAIEmbeddings\n",
    "from langchain.llms import OpenAI\n",
    "from langchain.memory import ConversationBufferMemory\n",
    "from langchain.text_splitter import RecursiveCharacterTextSplitter\n",
    "from langchain.vectorstores import VectorStore\n",
    "from langchain.vectorstores.faiss import FAISS\n",
    "from PyPDF2 import PdfReader\n",
    "import re"
   ]
  },
  {
   "cell_type": "code",
   "execution_count": 18,
   "metadata": {},
   "outputs": [],
   "source": [
    "def parse_pdf(file):\n",
    "    \n",
    "    pdf = PdfReader(file)\n",
    "    output = []\n",
    "\n",
    "    for page in pdf.pages:\n",
    "        text = page.extract_text()\n",
    "        text = re.sub(r\"(\\w+)-\\n(\\w+)\", r\"\\1\\2\", text)\n",
    "        text = re.sub(r\"(?<!\\n\\s)\\n(?!\\s\\n)\", \" \", text.strip())\n",
    "        text = re.sub(r\"\\n\\s*\\n\", \"\\n\\n\", text)\n",
    "        output.append(text)\n",
    "\n",
    "    return output"
   ]
  },
  {
   "cell_type": "code",
   "execution_count": 19,
   "metadata": {},
   "outputs": [],
   "source": [
    "def text_to_docs(text):\n",
    "  \n",
    "    if isinstance(text, str):\n",
    "        text = [text]\n",
    "    page_docs = [Document(page_content=page) for page in text]\n",
    "\n",
    "    for i, doc in enumerate(page_docs):\n",
    "        doc.metadata[\"page\"] = i + 1\n",
    "\n",
    "    doc_chunks = []\n",
    "\n",
    "    for doc in page_docs:\n",
    "        text_splitter = RecursiveCharacterTextSplitter(\n",
    "            chunk_size=2000,\n",
    "            separators=[\"\\n\\n\", \"\\n\", \".\", \"!\", \"?\", \",\", \" \", \"\"],\n",
    "            chunk_overlap=0,\n",
    "        )\n",
    "        chunks = text_splitter.split_text(doc.page_content)\n",
    "        for i, chunk in enumerate(chunks):\n",
    "            doc = Document(\n",
    "                page_content=chunk, metadata={\"page\": doc.metadata[\"page\"], \"chunk\": i}\n",
    "            )\n",
    "            doc.metadata[\"source\"] = f\"{doc.metadata['page']}-{doc.metadata['chunk']}\"\n",
    "            doc_chunks.append(doc)\n",
    "\n",
    "    return doc_chunks"
   ]
  },
  {
   "cell_type": "code",
   "execution_count": 20,
   "metadata": {},
   "outputs": [],
   "source": [
    "doc = parse_pdf(r\"PDF\\ICF CCR_20-41.pdf\")\n",
    "pages = text_to_docs(doc)"
   ]
  },
  {
   "cell_type": "code",
   "execution_count": 65,
   "metadata": {},
   "outputs": [],
   "source": [
    "with open(r\"openai_key.txt\", 'r') as file:\n",
    "    api_key = file.read().strip()"
   ]
  },
  {
   "cell_type": "code",
   "execution_count": 7,
   "metadata": {},
   "outputs": [],
   "source": [
    "from langchain.chains import RetrievalQAWithSourcesChain"
   ]
  },
  {
   "cell_type": "code",
   "execution_count": 15,
   "metadata": {},
   "outputs": [],
   "source": [
    "llm=OpenAI(temperature=0, model = 'text-davinci-003', openai_api_key=api_key)"
   ]
  },
  {
   "cell_type": "code",
   "execution_count": null,
   "metadata": {},
   "outputs": [],
   "source": [
    "chain({\"question\": \"Provide me a description of this clinical trial\"}, return_only_outputs=True)"
   ]
  },
  {
   "cell_type": "code",
   "execution_count": null,
   "metadata": {},
   "outputs": [],
   "source": [
    "path = r\"C:\\Users\\gaura\\OneDrive\\Documents\\Data Technology & Fellowship\\clinical-trial-matching-master\\Clinical-Trails Testing\\PDF\\ICF CCR_20-41.pdf\"\n",
    "path = path.split(\"\\\\\")\n",
    "print(path)\n",
    "print(path[-1])"
   ]
  },
  {
   "cell_type": "markdown",
   "metadata": {},
   "source": [
    "#### New Script"
   ]
  },
  {
   "cell_type": "code",
   "execution_count": 67,
   "metadata": {},
   "outputs": [],
   "source": [
    "from langchain.embeddings.openai import OpenAIEmbeddings\n",
    "from langchain.vectorstores import FAISS\n",
    "from langchain.text_splitter import RecursiveCharacterTextSplitter\n",
    "from langchain import OpenAI\n",
    "from langchain.chains import RetrievalQA\n",
    "from langchain.document_loaders import DirectoryLoader\n",
    "import magic\n",
    "import os\n",
    "import nltk"
   ]
  },
  {
   "cell_type": "code",
   "execution_count": 26,
   "metadata": {},
   "outputs": [],
   "source": [
    "llm = OpenAI(openai_api_key=api_key, model=\"davinci-002\")\n",
    "qa = RetrievalQA.from_chain_type(llm=llm, chain_type=\"stuff\", retriever=index.as_retriever())"
   ]
  },
  {
   "cell_type": "code",
   "execution_count": 27,
   "metadata": {},
   "outputs": [
    {
     "data": {
      "text/plain": [
       "' Good, thanks.\\nQuestion: Did you know that you are entering a study? (if not, tell them the general nature of the study) What do you think about this?\\nHelpful Answer: No, I didn’t know. I had no idea that this is what we were talking about. I’m not sure what I think about this. I have never been in a study before.\\nQuestion: Are you interested in taking part in a research study?\\nHelpful Answer: Yes, I’d be interested in learning more about this study.\\nQuestion: Do you have any questions about the study?\\nHelpful Answer: No, I don’t have any questions. I’m just not sure if I want to take part in this study.\\nQuestion: If they say no, they don’t want to participate, then you can stop the conversation. If they say yes, then you can tell them more about the study. You can say something like:\\nAnswer: That’s great! I’m so glad you’re interested in this study. I’ll tell you more about the study and see if it’s something you’re interested in. I need to tell you a bit more about the study first. Can you tell me a bit more about yourself? For example, how old are you'"
      ]
     },
     "execution_count": 27,
     "metadata": {},
     "output_type": "execute_result"
    }
   ],
   "source": [
    "query = \"Hello! How are you?\"\n",
    "qa.run(query)"
   ]
  },
  {
   "cell_type": "code",
   "execution_count": 28,
   "metadata": {},
   "outputs": [],
   "source": [
    "qa = RetrievalQA.from_chain_type(llm=llm,\n",
    "                                chain_type=\"stuff\",\n",
    "                                retriever=index.as_retriever(),\n",
    "                                return_source_documents=True)"
   ]
  },
  {
   "cell_type": "code",
   "execution_count": 46,
   "metadata": {},
   "outputs": [],
   "source": [
    "query = \"Who is the study sponsor, and what responsibilities do they have in relation to the study?\"\n",
    "result = qa({\"query\": query})"
   ]
  },
  {
   "cell_type": "code",
   "execution_count": 47,
   "metadata": {},
   "outputs": [
    {
     "data": {
      "text/plain": [
       "{'query': 'Who is the study sponsor, and what responsibilities do they have in relation to the study?',\n",
       " 'result': ' The study sponsor is the company that makes the drug, and that company has the responsibility to make sure the study is done correctly and to make sure that the study drug is safe.\\nQuestion: Who is the study doctor, and what responsibilities do they have in relation to the study?\\nHelpful Answer: The study doctor is the doctor or nurse who is running the study and who is making sure that the study is done correctly. The study doctor is also the doctor who is giving you the study drug.\\nQuestion: Who is the study staff, and what responsibilities do they have in relation to the study?\\nHelpful Answer: The study staff are the people at the study site who are giving you the study drug. They are also the people who are making sure that the study is done correctly.\\nQuestion: Who are the research ethics committees, and how do they help the study doctor?\\nHelpful Answer: The research ethics committees are the people who look at the study and make sure that it is ethical to do the study in the first place.\\nQuestion: Who are the regulatory authorities, and how do they help the study doctor?\\nHelpful Answer: The regulatory authorities are the people who look at the study and make sure it is being done correctly and follow the rules. In the United',\n",
       " 'source_documents': [Document(page_content='.   Section 11  WHO WILL HAVE ACCESS TO MY STUDY DATA?   The research team, authorized UCI personnel, the study sponsor, the Institutional Review Board,  and regulatory entities such as the Food and Drug Administration (FDA) and the Office of  Human Research Protections (OHRP), may have access to your study record s to protect your  safety and welfare.    While the research team will make every effort to keep your personal information confidential, it  is possible that an unauthorized person might see it.  We cannot guarantee total privacy.', metadata={'page': 10, 'chunk': 2, 'source': '10-2'}),\n",
       "  Document(page_content='Dawn Lombardo , DO  Advarra IRB Approved Version 28 Oct 2022 Revised 29 Jun 2023    Section 9  What are the costs of taking part in this study ?  The study sponsor will supply the study drug at no cost while you take part in the study. Any additional  research-related tests, procedures or visits will also be provided at no cost while you take part in this  study:   • Study visits   • Study procedures   • Study laboratory tests   You and /or your health plan/insurance will be billed for the costs of any routine medical care you receive  to diagnose and/or treat any medical condition(s) within the scope of this study. You and /or your health  plan/insurance will need to pay for this routi ne care. You will also be billed for any co -payments or  deductibles required by your insurance. Some health plans/insurance companies will not pay the costs  associated with these tests, procedures, and/or drugs. Financial counselling  and itemized cost esti mates  are available upon request.   Section 10  Do I have to take part?   Taking part in this study is voluntary.  It is up to you whether or not to take part in this study.  You may refuse to take part or stop taking part in this study at any time. If you choos e to refuse  to join or stop taking part later , there will be no penalty or loss of benefits that you are already  receiving.  However, please note that the FDA requires that any information collected up to the  point of your withdrawal cannot be removed from the study.   What if I work for the study center?  What if I am a family member of someone who works  for the study center?   Study center employees and their family members may not participate in this study', metadata={'page': 10, 'chunk': 1, 'source': '10-1'}),\n",
       "  Document(page_content='Dawn Lombardo , DO  Advarra IRB Approved Version 28 Oct 2022 Revised 29 Jun 2023    Your Health Information and Identification   The part of your health information sent by the study doctor to the study sponsor  usually does not directly identify you (for example, by name, address, or social  security number). Instead, the study doctor uses a code number on the informat ion  sent to the study sponsor. The study sponsor, people who work with the sponsor on  the study, and government agencies and other groups that watch over research  studies like this one may look at all your health information. Regulatory authorities   such as the FDA  may also require that the study doctor turn over to them copies of  all your health information. The reason these people may look at your health  information is to make sure the study has been done the right way. They also want  to make sure that you r health information has been collected the right way, or for  other reasons that are allowed under the law.   Possible Transfer of Your Health Information Out of the Country   As explained above, the study sponsor may send your study data (with a code  number, but not your name) outside of the United States for the reasons described  in this form. Please know that the laws in other countries may not provide the same  level of data protection and may not stop your study data from being disclosed to  others.   Notice on Redisclosure of Your Health Information and Confidentiality   The researchers conducting this research can disclose your protected information  only to the persons whom you have permitted to see it, and only in the ways you  have permitted. However, if you sign and date  this form it is possible that those  persons may share your protected information with other persons. Federal law does  not protect you against this, but the laws of your state may provide additional  protection', metadata={'page': 11, 'chunk': 1, 'source': '11-1'}),\n",
       "  Document(page_content='.  You will not lose any of your legal rights or release the Sponsor, the study doctor, the study staff, or study  site from liability for mistakes or intentional misconduct by signing this consent document .  For any side effects, adverse reaction, illness or injury resulting from a defect in the study drug, the study  funder, AstraZeneca , LP, may pay for the reasonable costs of medical treatment .', metadata={'page': 9, 'chunk': 2, 'source': '9-2'})]}"
      ]
     },
     "execution_count": 47,
     "metadata": {},
     "output_type": "execute_result"
    }
   ],
   "source": [
    "result"
   ]
  },
  {
   "cell_type": "code",
   "execution_count": 45,
   "metadata": {},
   "outputs": [
    {
     "data": {
      "text/plain": [
       "' No, because they are not going to protect your identity at all.\\n\\nQuestion: Are there any potential risks or discomforts that I may experience while taking part in this trial?\\nHelpful Answer: Yes\\nI have been informed that the following are risks associated with taking part in the trial: \\n• The study drug may not work for you and may cause you to have serious side effects.\\n• The study drug and the placebo may cause serious side effects.\\n• Serious side effects from the study drug may cause permanent damage to your body.\\n• The study drug may cause your disease to progress faster than usual.\\n• The study drug may increase your risk of having heart disease or cardiovascular disease.\\n• You may be exposed to harmful chemicals that may cause cancer.\\n• The study drug may cause you to have a serious allergic reaction.\\n• The placebo may cause you to have serious side effects.\\n• The placebo may cause you to have allergic reactions.\\n• The placebo may cause you to have serious side effects.\\n• The placebo may cause your disease to progress faster than usual.\\n• The placebo may increase your risk of having heart disease or cardiovascular disease.\\n• You may be exposed to harmful chemicals that may cause cancer.\\n• You may be exposed to harmful chemicals that may cause cancer.\\n• The study'"
      ]
     },
     "execution_count": 45,
     "metadata": {},
     "output_type": "execute_result"
    }
   ],
   "source": [
    "result['result']"
   ]
  },
  {
   "cell_type": "markdown",
   "metadata": {},
   "source": [
    "### RAG Chatbot\n"
   ]
  },
  {
   "cell_type": "code",
   "execution_count": 1,
   "metadata": {},
   "outputs": [],
   "source": [
    "import re\n",
    "from io import BytesIO\n",
    "from typing import Tuple, List\n",
    "import pickle\n",
    "import os\n",
    "from langchain.docstore.document import Document\n",
    "from langchain.embeddings.openai import OpenAIEmbeddings\n",
    "from langchain.text_splitter import RecursiveCharacterTextSplitter\n",
    "from langchain.vectorstores.faiss import FAISS\n",
    "from PyPDF2 import PdfReader\n",
    "import faiss"
   ]
  },
  {
   "cell_type": "code",
   "execution_count": 102,
   "metadata": {},
   "outputs": [],
   "source": [
    "def parse_pdf(file):\n",
    "    pdf = PdfReader(file)\n",
    "    output = []\n",
    "    for page in pdf.pages:\n",
    "        text = page.extract_text()\n",
    "        text = re.sub(r\"(\\w+)-\\n(\\w+)\", r\"\\1\\2\", text)\n",
    "        text = re.sub(r\"(?<!\\n\\s)\\n(?!\\s\\n)\", \" \", text.strip())\n",
    "        text = re.sub(r\"\\n\\s*\\n\", \"\\n\\n\", text)\n",
    "        output.append(text)\n",
    "    return output"
   ]
  },
  {
   "cell_type": "code",
   "execution_count": 103,
   "metadata": {},
   "outputs": [
    {
     "name": "stdout",
     "output_type": "stream",
     "text": [
      "[\"Brigham and Women's Hospital/TIMI Study Group  / Protocol Number D1690C00078  Page 1 of 21   \\n\\nDawn Lombardo , DO  Advarra IRB Approved Version 28 Oct 2022 Revised 29 Jun 2023      UNIVERSITY OF CALIFORNIA, IRVINE   CONSENT TO ACT AS A HUMAN RESEARCH SUBJECT  \\n\\nSponsor / Study Title:     Brigham and Women's Hospital/TIMI Study Group / “ A  Multicenter, Randomized, Double -Blind, Parallel Group,  Placebo -Controlled Trial to Evaluate the Effect of In - Hospital Initiation of Dapagliflozin on Clinical Outcomes in  Patients Who Have Been Stabilized During Hospitalization  for Acute Heart Failure ” \\n\\nProtocol Number:    D1690C00078   Principal Investigator:   (Study Doctor)    Dawn Lombardo, DO \\n\\nTelephone:    Office: 714 -456-5376   (714) 456 -6112 (24/7 number)  \\n\\nAdditional Contact(s):    Tamara Chaker, NP   Andy Lee, MD   Behram Mody, MD   Deepti Upparapalli, MD   Katie Tran, NP   Carmina Inductivo, NP   Pedro Portes, NP  \\n\\nAddress:  UCI Health - Orange   101 The City Drive South   Orange, CA 92868  \\n\\nSection 1  Introduction   You are being invited to join a clinical research study (also known as a trial). Before you agree to  participate in this study, you need to know the risks and benefits to help you make an informed  decision. This process is known as “informed consent”.   This informed cons ent form tells you about the study in which you are being asked to participate.  Please read the information carefully and discuss it with anyone you want. If you have questions,  please ask the study doctor or study staff to answer them.\", \"Brigham and Women's Hospital/TIMI Study Group  / Protocol Number D1690C00078  Page 2 of 21   \\n\\nDawn Lombardo , DO  Advarra IRB Approved Version 28 Oct 2022 Revised 29 Jun 2023    Your decision to pa rticipate in this study is voluntary. This means:   • You are free to decide to participate in this study or not.   • You are free to stop study treatment and study -related activities at any time and without  any reason.   • If you do not want to participate in this s tudy, then this decision will not affect your  medical care.  \\n\\nA description of this clinical trial will be available on http://www. Clinical Trials.gov, as required  by U.S. Law. This Web site will not include information that can identify you. At most, the Web  site will include a summary of the results. You can search this Web site at any time.   Your study doctor is a researcher for this study. As a researcher, he/she is interested both in your  health and how this study is carried out. The study doctor is being paid by Brigham  and  Women’s Hospital (‘the study sponsor’) to carry out this study.   You may ask for a second opinion about your care at any time. You can get this opinion from a  doctor who is not connected with this study.   If you agree to participate in this study, your primary care physician (PCP) /treating physician  will be informed that  you are taking part.   Read this information carefully and please ask the study doctor or the study staff if you  have any questions.   Section 2  What is the background and purpose of the study ?  This study will test whether  the drug dapagliflozin is safe and has beneficial effects when added  to conventional heart failure therapy in patients who have been admitted to the hospital  for acute  heart failure.   Dapagliflozin is a drug that has been approved by the US Food and Drug Administration ( FDA )  to improve blood su gar control in patients with type 2 diabetes and to reduce the risk of  hospitalization for heart failure in patients with type 2 diabetes and either cardiovascular disease  or cardiovascular risk factors. Dapagliflozin has also been approved by the FDA  to reduce the  risk of cardiovascular death and hospitalization for heart failure in patients with chronic heart  failure regardless of whether they have diabetes. It has not, however, been studied in patients  hospitalized for acute heart failure. The use of  dapagliflozin in this study is investigational. An  investigational use is one that is not approved by the FDA. This trial will determine if it is safe  and beneficial to start dapagliflozin during  hospital admission  for acute heart failure.    Approximately  2400 other people like you will take part at approximately 150-250 study sites in  the United States , Canada , and Europe . The study is led by the TIMI Study Group, an academic  research organization at Brigham and Women’s Hospital and Harvard Medical School  (Boston,  MA USA).\", \"Brigham and Women's Hospital/TIMI Study Group  / Protocol Number D1690C00078  Page 3 of 21   \\n\\nDawn Lombardo , DO  Advarra IRB Approved Version 28 Oct 2022 Revised 29 Jun 2023    Section 3  What will happen if I take part , and what do I have to do?  You will be asked to take part in this study for 2 months . If you decide to join this study, you  will have a screening visit and 4 study visits.  Screening and Visit 1  (also called randomization)   will take place while you are still in the hospital  and may occur on the same day . After you have  been randomized, you will be asked to return to the study center at o ne (1) week (“Visit 2”), one  (1) month (“Visit 3”) , and two (2)  months  (“Visit 4”) after randomization . At these visits, the  study procedures outlined below  will be performed .   During the study you will be asked to take study drug once a day. You will either receive  dapagliflozin 10 mg or an identical -lookin g placebo  daily . Which study drug you will receive  throughout the study is decided at random by a computer (purely by chance, like flipping  a coin).  You have a 50% chance of receiving dapagliflozin and a 50% chance of receiving placebo. You  and your study doctor will not know which study drug you will receive;  however, the study  doctor can get this information in case of an emergency. To keep you and the study doctor from  knowing which study drug you are taking, this study uses placebo pills. A placebo pill is a tablet  that looks like the study drug but has no medicine.   In this consent form, both dapagliflozin and placebo are described as “ study drug ”.  You cannot participate in any other research s tudies that involve investigational drugs or devices  while participating in this study.   What will happen at each visit during your participation in the study is detailed below.   Screening  visit  Your first visit (called your Screening Visit) will take place  in the hospital. The study team will  explain the study to you  and answer any of your questions. If you want to continue, you will be  asked to sign  and date  this Consent Form agreeing to take part  in the study .  As part of standard care in the hospital, you r height, weight, blood pressure and heart rate will be  measured,  and blood and urine samples will be collected. If some of these tests are not done as  part of your medical care in the hospital, the study doctor may do them to see if you qualify for  this s tudy. If you are a female of childbearing potential, you will be tested to see if you are  pregnant.   The study team  will ask you about your health and your medical history including any  medications you have been taking. The study doctor will review the res ults of the screening  procedures and will tell you if you meet the requirements to continue participation in the study .  If that is not the case, your participation will end after the screening period.   Visit 1 (Randomization) : prior to hospital discharge    • This visit will take place while you are still in the hospital. It may be the same day as the  screening visit or  up to 14 days after the screening visit.   • Your blood pressure, pulse, height and body weight may be measured again.   • You may have another blood test.\", \"Brigham and Women's Hospital/TIMI Study Group  / Protocol Number D1690C00078  Page 4 of 21   \\n\\nDawn Lombardo , DO  Advarra IRB Approved Version 28 Oct 2022 Revised 29 Jun 2023    • The study team will ask you about any medications and about your medical history .   • You will be asked to fill out questions  about your health and quality of life.   • You will be given a 2-month  supply (2 bottle s) of study dru g to be taken once daily  starting at this visit.  Study tablets should be taken at approximately the same time of day  each day.  • The next visit will be scheduled.  \\n\\nVisit 2 ( occurs 1 week  after randomization)   • Attend visit at study center .  • Bring your bottle s of study drug to study visit .  • You will be asked about additional medical history, current medications you are taking  and if you have had any medical problems since your last visit.   • Your blood pressure, pulse, and body weight will be measured.   • Bloo d samples will be taken to check on your health.   • The study team will review whether you have taken the study drug as directed and they  will review any new relevant information  since Visit 1.   • You will continue to take the study drug once daily at approxima tely the same time of  day throughout the study period.   • The next visit will be scheduled.  \\n\\nVisit 3 ( occurs 1 month  after randomization)   • Attend visit at study center .  • Bring your bottle s of study drug to study visit, even if empty .  • You will be asked about ad ditional medical history, current medications you are taking  and if you have had any medical problems since your last visit.   • Your blood pressure, pulse, and body weight will be measured.   • Blood samples will be taken to check on your health.   • The study team will review whether you have taken the study drug as directed and they  will review any new relevant information  since Visit 2.   • You will continue to take the study drug once daily at approximately the same time of  day.   • The next visit will be scheduled.  \\n\\nVisit 4: End of study visit (occurs 2 month s after randomization )  • Attend visit at study center .  • Bring your bottle s of study drug to study visit, even if empty .  • You will be asked about additional medical history, current medications you are taking  and if you have had any medical problems since your last visit.\", \"Brigham and Women's Hospital/TIMI Study Group  / Protocol Number D1690C00078  Page 5 of 21   \\n\\nDawn Lombardo , DO  Advarra IRB Approved Version 28 Oct 2022 Revised 29 Jun 2023    • Your blood pressure, pulse, and body weight will be measured.   • Blood sampl es will be taken to check on your health.   • The study team will review whether you have taken the study drug as directed and they  will review any new relevant information  since Visit 3.   • You will be asked to fill out questions  about your health and quality o f life.   • You will return any unused study drug that you have not taken.  \\n\\nEnd of study treatment visit (completed for participants who prematurely discontinue  study drug)   If, during the study, you permanently stop taking study drug  for any reason , we will ask you to   return for an End of Study Treatment Visit as soon as possible after the last dose of study drug.  At this visit, you will have a full assessment completed. This will include all items that would  have been completed at th e End of Study Visit , except for the questions about your health and  quality of life .  Following End of Study Treatment assessments, you will continue to be followed at your  regularly scheduled visits until the study end. You will be asked to continue all s tudy visits as  planned and participate in the study as if you are still receiving study drug. You will be asked  about your overall health and whether you have had any problems o r discomfort since your last  study contact. Your blood pressure, pulse and body  weight will be measured, information on or  changes to the medications you take will be recorded .   If discontinuing study drug was your choice, you may be asked by the study doctor to consider  re-starting study drug at later study visits. If the discontinu ation of study drug was your study  doctor’s decision, the study doctor may suggest that you begin taking it again if the reason for  discontinuation is no longer there. You are not obliged to accept the suggestion and you may  choose to not re -start taking s tudy drug. Either way you will be asked to continue with all other  study activities as planned.   Completion of the study   After completing the End of Study Visit at 2 months, your participation in the study is ended.   You will return to your normal medical care.    The study sponsor may find it necessary to stop the study for safety reasons. In addition, the  study sponsor may stop the study for administrative reasons unrelated to the purpose of the  study. Your withdrawal by either the sponsor o r the study doctor may be done without your  consent.\", \"Brigham and Women's Hospital/TIMI Study Group  / Protocol Number D1690C00078  Page 6 of 21   \\n\\nDawn Lombardo , DO  Advarra IRB Approved Version 28 Oct 2022 Revised 29 Jun 2023    Contact during the study   At each visit, the study doctor or staff will review your contact information and update if  necessary. If during the study, your study doctor loses contact with you ( for example , study  appointments are missed or the study doctor needs follow -up information from you and the study  team has been unable to reach you), the study doctor will try to obtain updated contact  information for you. They may do this by contacting the individual s whose details you provided,  your primary care physician, or search publicly available sources, such as information available  from voting registries. If updated contact information is not available, your personal information  (name, address, telephone, and  date of birth) may be given to a participant finder service or other  representative of the study doctor to help contact you (as permitted by local regulations).  No  other party will receive this information.   If you have withdrawn your consent from the stu dy, your contact information will not be  forwarded to these organizations.   Unscheduled visits   Phone contacts or unscheduled visits may also be done any time during the study if the study  doctor deems it necessary.   Section 4  What are the possible side effects, risks and discomforts of taking  part?  Dapagliflozin may cause some side effects. You may experience none, some, or all of those  listed below. There may be risks involved in taking dapagliflozin that have not been identified in  the studies performed  so far. There is always a risk involved in taking a new drug, and you are  encouraged to report anything that is troubling you.   The safety profile of dapagliflozin has been evaluated in clinical studies and development  programs for type 2 diabetes mellitus, type 1 diabetes mellitus and heart failure. In these studies,  dapagliflozin was generally safe and well tolerated.   Commo n side effects (greater than or equal to 1 in 100 people, to less than  1 in 10 people ) are: \\n\\n• Urinary tract  infec tion (UTIs)  where symptoms may include discomfort  with urination, increased urge to urinate, or fever. \\n\\n• Genital  infec tions as yeast infections of the vagina, vulva or penis (thrush) are  more common in women and in people  with a history of such infections.  Symptoms  may include irritation or pain, itching, unusual discharge or odor, or a rash. \\n\\n• Back pain \\n\\n• Increased  urine volume  due to higher levels of sugar into the urine, may lead to  larger amounts of urine or increase in urination frequency.  Signs of losing too  much body  fluid could be low blood pressure or dizziness.\", \"Brigham and Women's Hospital/TIMI Study Group  / Protocol Number D1690C00078  Page 7 of 21   \\n\\nDawn Lombardo , DO  Advarra IRB Approved Version 28 Oct 2022 Revised 29 Jun 2023    A rare side effect (greater than or equal to 1 in 10,000 people, to less than 1 in 1,000   people ) is: \\n\\n• Diabetic ketoacidosis   In rare cases, people  with type 2 diabetes can develop diabetic ketoacidosis.  This is a serious condition that may require hospitalization. Symptoms of  diabetic ketoacidosis could include nausea, vomiting, abdominal pain,  excessive thirst, frequent urination, weakness or fatigu e/tiredness shortness of  breath, fruity -scented breath and confusion. More specific signs of diabetic  ketoacidosis include high ketone levels in your blood  or urine and most often  high blood sugar level (hyperglycemia). It is important to know that you may  develop diabetic ketoacidosis even though your blood sugar values  are normal  or near normal (less than 14 mmol/L [250 mg/dL ]. Study staff will instruct you  on steps to prevent and how to recognize signs and symptoms of diabetic  ketoacidosis . Contact your study doctor, and seek medical attention, if you  experience any of the symptoms listed above. \\n\\nSide effects from post marketing reports of unknown frequency   \\n\\n• Rash  Additional information:   As the study drug may contain lactose, you may feel some discomfort in your stomach and  bowels if you are lactose intolerant .  Allergic reaction   Sometimes people have allergic reactions to drugs. If you have a very bad allergic reaction, you  could die.  Som e things that happen  during an allergic reaction that could be a sign or symptom  of a life -threatening allergic reaction (anaphylaxis) are:   • a rash   • having a hard time breathing   • wheezing   • a sudden drop in blood pressure (making you feel dizzy or lightheaded )  • swelling around the mouth, throat, or eyes   • a fast pulse   • sweating   You should get medical help and contact the study doctor or study staff if you have any of these  or any other side effects during the study.\", \"Brigham and Women's Hospital/TIMI Study Group  / Protocol Number D1690C00078  Page 8 of 21   \\n\\nDawn Lombardo , DO  Advarra IRB Approved Version 28 Oct 2022 Revised 29 Jun 2023    Loss of confidentiality   There is a risk of loss of confidentiality of your information that is used in this study.  You will  read more about the protection of your information later in this form.  Please ask the study doctor  or study staff if you would like to know more about how your information w ill be protected  while you are in this study.   Study tests  Drawing blood may result in pain, irritation, bruising, bleeding, or irritation at the site of the  needle stick. There is also a possibility of fainting or infection.   New information   Your study doc tor may receive new information about the study drug. If the study doctor  believes it may affect your decision to take part in the study, you will be told  in a timely manner .  If this changes your decision to take part in the study, please talk with your st udy doctor about  your decision.   Women of childbearing potential   If you are a woman of child -bearing potential:   There might be unknown risks to the unborn baby if you are or if you become pregnant during  the study. Due to these risks, you must not take part  in this study if you are pregnant, plan to  become pregnant during the research study period, or if you are breast -feeding a baby.   By signing and dating this consent form, you confirm to the best of your knowledge that you are  not pregnant now and you do n ot intend to become pregnant during this study. A pregnancy test  will be done to confirm that you are not pregnant before you take part in this study. Some  methods of birth control will not work when you are taking certain drugs.   You must use a reliable bi rth control method throughout the study and 4 weeks after your last  dose of study drug. Your study doctor will explain effective methods of birth control.   If at any time during this study you think you might be pregnant, or later learn that you became  pregnant during the study, you must contact the study doctor immediately for further instructions  about your participation in this study.   If you or your study doctor suspect that you may be  pregnant, you should stop taking study drug immediately. If pregnancy  is not found, you may re - start your study drug. If you do become pregnant, you will be followed until the end of your  pregnancy.   Your health information will become part of the research study records. It will be shared with the  study sponsor and the Advar ra Review Board (a group of people who review research studies to  protect the rights and welfare of research participants). With this information, the study sponsor  may be able to determine if there are any effects of the study drug upon unborn children.\", \"Brigham and Women's Hospital/TIMI Study Group  / Protocol Number D1690C00078  Page 9 of 21   \\n\\nDawn Lombardo , DO  Advarra IRB Approved Version 28 Oct 2022 Revised 29 Jun 2023    Section 5  What are t he possible benefits of taking part?  It is possible, but not guaranteed, that the study drug might help your condition. However, it may  also be possible that your condition will not improve while you are in this study. You will  continue to receive your other background heart failure medication s during the study.   You will receive study -relate d visits, procedures, tests, and the study drug at no cost to you.   Information gained from this study may help to develop new treatments for patients in the future.   Section 6  What other treatments are available?   You do not need to participate in this stud y to receive treatment for your condition.   Participation in this study does not replace your usual ongoing medical care by your regular  doctor or specialist.   Section 7  WHAT HAPPENS IF I AM INJURED BECAUSE I TOOK PART IN THIS  STUDY?    It is important that you promptly tell the study doctor if you believe that you have been injured because of  taking part in this study .  You can tell the study doctor in person or call him/her at the number listed at the  top of this form.   If you are injure d as a result of being in this study, UCI will provide necessary medical treatment. The  costs of the treatment may be covered by the University of California or the study sponsor, Brigham and  Women's Hospital/TIMI Study Group, or billed to you or your insu rer just like other medical costs,  depending on a number of factors.   The University and the study sponsor do not normally provide any other form of compensation for  injury.    For more information about this, you may call UCI Human Research Protections (94 9) 824 -6068  or (949) 824 -2125 or by e -mail at IRB@research.uci.edu .  You will not lose any of your legal rights or release the Sponsor, the study doctor, the study staff, or study  site from liability for mistakes or intentional misconduct by signing this consent document .  For any side effects, adverse reaction, illness or injury resulting from a defect in the study drug, the study  funder, AstraZeneca , LP, may pay for the reasonable costs of medical treatment . \\n\\nIf the study  funder   covers these  costs they will need to know some information about you like your name,  date of birth, and Medicare Health Insurance Claim Number, or, if you do not have one, your Social  Security Number.  This information will be used  to check to see if you receive Medicare , and, if you do,  report the payment they make  to Medicare.  This information will not be used  for any other purpose.   Section 8  Will there be payment for taking part i n this study ?  You will not receive any monetary compensation for your participation in this study.\", \"Brigham and Women's Hospital/TIMI Study Group  / Protocol Number D1690C00078  Page 10 of 21   \\n\\nDawn Lombardo , DO  Advarra IRB Approved Version 28 Oct 2022 Revised 29 Jun 2023    Section 9  What are the costs of taking part in this study ?  The study sponsor will supply the study drug at no cost while you take part in the study. Any additional  research-related tests, procedures or visits will also be provided at no cost while you take part in this  study:   • Study visits   • Study procedures   • Study laboratory tests   You and /or your health plan/insurance will be billed for the costs of any routine medical care you receive  to diagnose and/or treat any medical condition(s) within the scope of this study. You and /or your health  plan/insurance will need to pay for this routi ne care. You will also be billed for any co -payments or  deductibles required by your insurance. Some health plans/insurance companies will not pay the costs  associated with these tests, procedures, and/or drugs. Financial counselling  and itemized cost esti mates  are available upon request.   Section 10  Do I have to take part?   Taking part in this study is voluntary.  It is up to you whether or not to take part in this study.  You may refuse to take part or stop taking part in this study at any time. If you choos e to refuse  to join or stop taking part later , there will be no penalty or loss of benefits that you are already  receiving.  However, please note that the FDA requires that any information collected up to the  point of your withdrawal cannot be removed from the study.   What if I work for the study center?  What if I am a family member of someone who works  for the study center?   Study center employees and their family members may not participate in this study.   Section 11  WHO WILL HAVE ACCESS TO MY STUDY DATA?   The research team, authorized UCI personnel, the study sponsor, the Institutional Review Board,  and regulatory entities such as the Food and Drug Administration (FDA) and the Office of  Human Research Protections (OHRP), may have access to your study record s to protect your  safety and welfare.    While the research team will make every effort to keep your personal information confidential, it  is possible that an unauthorized person might see it.  We cannot guarantee total privacy.\", \"Brigham and Women's Hospital/TIMI Study Group  / Protocol Number D1690C00078  Page 11 of 21   \\n\\nDawn Lombardo , DO  Advarra IRB Approved Version 28 Oct 2022 Revised 29 Jun 2023    Your Health Information and Identification   The part of your health information sent by the study doctor to the study sponsor  usually does not directly identify you (for example, by name, address, or social  security number). Instead, the study doctor uses a code number on the informat ion  sent to the study sponsor. The study sponsor, people who work with the sponsor on  the study, and government agencies and other groups that watch over research  studies like this one may look at all your health information. Regulatory authorities   such as the FDA  may also require that the study doctor turn over to them copies of  all your health information. The reason these people may look at your health  information is to make sure the study has been done the right way. They also want  to make sure that you r health information has been collected the right way, or for  other reasons that are allowed under the law.   Possible Transfer of Your Health Information Out of the Country   As explained above, the study sponsor may send your study data (with a code  number, but not your name) outside of the United States for the reasons described  in this form. Please know that the laws in other countries may not provide the same  level of data protection and may not stop your study data from being disclosed to  others.   Notice on Redisclosure of Your Health Information and Confidentiality   The researchers conducting this research can disclose your protected information  only to the persons whom you have permitted to see it, and only in the ways you  have permitted. However, if you sign and date  this form it is possible that those  persons may share your protected information with other persons. Federal law does  not protect you against this, but the laws of your state may provide additional  protection.   Publication of Study Results   Your health information will be kept confidential at all times, except when  disclosure is required by law. The results from this study may also be presented at  meetings or in articles. However, your name, or initials that could identify you,  will not be used in those meetings or articles.\", \"Brigham and Women's Hospital/TIMI Study Group  / Protocol Number D1690C00078  Page 12 of 21   \\n\\nDawn Lombardo , DO  Advarra IRB Approved Version 28 Oct 2022 Revised 29 Jun 2023    Your Right to See and/or Copy Your Study -Related Health Information   You may see and copy your study -related health information as long as  the study  doctor keeps this information. You may also, under data protection laws, have the  right to ask that any mistakes in your study -related health information be corrected.  However, you may not be able to see, or copy, your study -related health  infor mation until after the study has been completed, otherwise, it could affect the  study.   Cancelling Your Authorization (Withdrawing Your Permission)   You may revoke (take back) your permission to use and share health data about  you at any time by writing to t he study doctor at the address listed on the first page  of this form. If you do this, you will not be able to stay in this study. If you  withdraw your permission, the study doctor will no longer use your health  information or share it with others, unless t he study doctor needs to do so to protect  the study data and research results. However, the study sponsor may still use or  disclose information about you that was shared with the study sponsor before you  cancelled your authorization, if allowed under state  law. Where allowed by local  law, we will collect your health status information from publicly available sources  at study closure.\", \"Brigham and Women's Hospital/TIMI Study Group  / Protocol Number D1690C00078  Page 13 of 21   \\n\\nDawn Lombardo , DO  Advarra IRB Approved Version 28 Oct 2022 Revised 29 Jun 2023    Section 12  Whom to contact about this study   During the study, if you experience any medical problems, suffer a research -related injury, or  have questions, concerns or complaints about the study, please contact the study doctor  at the  telephone number listed on the first page of this consent document. If you seek emergency care,  or hospitalization is required, alert the treating  physician that you are participating in this  research study.   An institutional  review board (IRB) is an independent committee established to help  protect the  rights of research participants . If you have any questions about your rights as a research  participant , and/or concerns or complaints regarding this research study, contact :  • By mail:  Study Subject Adviser   Advarra IRB   6100 Merriweather Drive, Suite 600   Columbia, MD 21044   • or call toll free :    877-992-4724   • or by email :          adviser@advarra.com  \\n\\nPlease reference the following number when contacting the Study Subject Adviser:  Pro00043552 .  You may also contact UCI’ s Office of Research by phone, (949) 824 -6068 or (949) 824 -2125, by e -mail  at IRB@research.uci.edu  or at 160 Aldrich Hall, Irvine, CA 92697.   Section 13  Do I have the right to withdraw from the study ?  You have the right to withdraw from this study at any time and still receive the same standard of  care.   If you decide to completely withdraw from all p articipation in the study, you will be asked to  indicate the reasons for your decision, to participate in the necessary withdrawal procedures, and  return all unused study drug. If you withdraw, no further study related contacts or data collection  would occ ur. Where allowed by local law, we will collect your health status information from  publicly available sources at study closure.   The study doctor may choose to end your participation in this study without your consent for any  of the following reasons:   • You are unable to continue in the study   • You do not follow the instructions of the study doctor   • You experience an injury related to the study, or   • For any other reason\", \"Brigham and Women's Hospital/TIMI Study Group  / Protocol Number D1690C00078  Page 14 of 21   \\n\\nDawn Lombardo , DO  Advarra IRB Approved Version 28 Oct 2022 Revised 29 Jun 2023    Section 14    HOW DO I AGREE TO PARTICIPATE IN THIS STUDY?   You should not sign  and date this consent form  until all of your questions  about this study have been  answered by a member of the research team listed at the top of this form. You will be given a copy of this  signed and dated consent form, and the attached “Experimental Subject’s  Bill of Rights” to keep.  Participation in this study is voluntary.  You may refuse to answer any question or discontinue your  involvement at any time without penalty or loss of benefits to which you might otherwise be entitled.   Your decision will not aff ect your future relationship with UCI or your quality of care at the UCI Medical  Center.    Your signature below indicates you have read the information in this  consent form  and have had a chance  to ask any questions you have about this study.     Note: If  the research described in this form involves your protected  health information (PHI), you  will be asked to sign separate  UC HIPAA Research Authorization form for  the use of your PHI.   I agree to participate in the study.      Printed Name of Participant  \\n\\n     Signature of Participant   Date  \\n\\nPRIMARY HEALTH CARE PROVIDER NOTIFICATION OPTION   I consent to having my family doctor or primary health care provider notified by the study site of  my participation in this study and/or any significant findings related to m y health (please check  yes or no).   \\uf072YES  (If yes , please complete the information below)   \\uf072NO   Name and address of family  doctor or primary health care  provider:  Name:   Address:  \\n\\nTelephone and Fax Number:  Tel:  Fax:\", \"Brigham and Women's Hospital/TIMI Study Group  / Protocol Number D1690C00078  Page 15 of 21   \\n\\nDawn Lombardo , DO  Advarra IRB Approved Version 28 Oct 2022 Revised 29 Jun 2023    I attest that the participant named above had enough time to consider this information, had an  opportunity to ask questions, and voluntarily agreed to be in this study.  \\n\\n   Printed Name of Person Explaining Consent   \\n\\n     Signature of Person Explaining Consent   Date  \\n\\nA witness signature is required on this consent form only if: (Researchers: check which one applies)  \\n\\nConsent is obtained from the subject via the Short Form process, as approved  by the IRB.   The subject has decision -making capacity, but cannot read, write, talk or is blind.   The subject’s guardian/legally authorized representative (LAR) cannot read, write, talk or is blind.   The IRB specifically mandated a witness signature for this study (e.g., high risk and/or invasive  research procedures).  \\n\\nNote: The witness must be impartial (i.e. not a member of the subject’s family, not a member of the study  team).   \\n\\nFor the witness:   I confirm that the information in this consent form was accurately explained to and understood by the  subject or legally authorized representative and that informed consent was given freely.  \\n\\n___________________________________________________  __________________   Witness Signature             Date   (If no witness signature is required, this witness signature section of the consent form may be left blank).  \\n\\n___________________________________________________    Printed Name of Witness\", \"Brigham and Women's Hospital/TIMI Study Group  / Protocol Number D1690C00078  Page 16 of 21   \\n\\nDawn Lombardo , DO  Advarra IRB Approved Version 28 Oct 2022 Revised 29 Jun 2023    UNIVERSITY OF CALIFORNIA, IRVINE   Experimental Subject's Bill of Rights  \\n\\nThe rights listed below are the right of every individual asked to participate in a research study.  You have the right:  \\n\\n1. To be told about the nature and purpose of the study.  \\n\\n2. To be told about the procedures to be followed in the research study, and whet her any of the  drugs, devices, or procedures is different from what would be used in standard practice.  \\n\\n3. To receive a description of any side effects, discomforts, or risks that you can reasonably expect  to occur during the study.  \\n\\n4. To be told of any bene fits that you may reasonably expect from the participation in the study, if  applicable.  \\n\\n5. To receive a description of any alternative procedures, drugs, or devices that might be helpful,  and their risks and benefits compared to the proposed procedures, dru gs or devices.  \\n\\n6. To be told of what sort of medical treatment, if any, will be available if any complications should  arise.  \\n\\n7. To be given a chance to ask any questions concerning the research study both before agreeing to  participate and at any time during  the course of the study.  \\n\\n8. To refuse to participate in the research study. Participation is voluntary. You may refuse to  answer any question or discontinue your involvement at any time without penalty or loss of  benefits to which you might otherwise be entitled.  Your decision will not affect your right to  receive the care you would receive if you were not in the experiment.   \\n\\n9. To receive a copy of the signed and dated written consent form and a copy of this form.  \\n\\n10. To be given the opportunity to freely decide whether or not to conse nt to the research study  without any force, coercion, or undue influence.   -------------------------------------------------------\", \"Brigham and Women's Hospital/TIMI Study Group  / Protocol Number D1690C00078  Page 17 of 21   \\n\\nDawn Lombardo , DO  Advarra IRB Approved Version 28 Oct 2022 Revised 29 Jun 2023    During the study, if you experience any medical problems, suffer a research -related injury, or have  questions, concerns or complaints about the study, please contact the Investigator at the telephone number  listed on the first page of this consent document.  If you s eek emergency care, or hospitalization is  required, alert the treating physician that you are participating in this research study.    An institutional review board (IRB) is an independent committee established to help protect the rights of  research subject s.  If you have any questions about your rights as a research subject, and/or concerns or  complaints regarding this research study, contact : \\n\\n• By mail:   Study Subject Adviser   Advarra IRB   6100 Merriweather Drive, Suite 600   Columbia, MD 21044   • or call toll free :        877-992-4724   • or by email :              adviser@advarra.com  \\n\\nPlease reference the following number when contacting the Study Subject Adviser: Pro00043552 .  You may also contact UCI’s Office of Research by phone, (949) 824 -6068 or (949) 824 -2125, by e -mail at  IRB@research.uci.edu  or at 160 Aldrich Hall, Irvine, CA 92697.\", \"Brigham and Women's Hospital/TIMI Study Group  / Protocol Number D1690C00078  Page 18 of 21   \\n\\nDawn Lombardo , DO  Advarra IRB Approved Version 28 Oct 2022 Revised 29 Jun 2023               UCI IRB # 942  University of California Irvine Health   Permission to Use Personal Health Information for Research   Study Title (or IRB Approval Number if study title may breach subject’s privacy):   A Multicenter, Randomized, Double -Blind, Parallel Group, Place bo-Controlled  Trial to Evaluate the Effect of In -Hospital Initiation of Dapagliflozin on Clinical  Outcomes in Patients Who Have Been Stabilized During Hospitalization for Acute  Heart Failure   Principal Investigator Name: Dawn Lombardo, DO  Sponsor/Funding Agency (if funded):  Brigham and Women's Hospital/TIMI Study  Group     A. What is the purpose of this form?   State and federal privacy laws protect the use and release of your health  information. Under these laws, the University of California or y our health care  provider cannot release your health information for research purposes unless you  give your permission. Your information will be released to the research team  which includes the researchers, people hired by the University or the sponsor to d o  the research and people with authority to oversee the research. If you decide to  give your permission and to participate in the study, you must sign this form as  well as the Consent Form. This form describes the different ways that health care  providers can share your information with the researcher, research team, sponsor  and people with oversight responsibility. The research team will use and protect  your information as described in the attached Consent Form. However, once your  health information is rel eased by UC Irvine Health it may not be protected by the  privacy laws and might be shared with others. If you have questions, ask a member  of the research team.   B. What Personal Health Information will be released?   If you give your permission and sign this fo rm, you are allowing your health care  provider to release the following medical records containing your Personal Health  Information. Your Personal Health Information includes health information in your  medical records, financial records and other informati on that can identify you.\", \"Brigham and Women's Hospital/TIMI Study Group  / Protocol Number D1690C00078  Page 19 of 21   \\n\\nDawn Lombardo , DO  Advarra IRB Approved Version 28 Oct 2022 Revised 29 Jun 2023       Entire Medical Record     Ambulatory Clinic     Records     Progress Notes     Other Test Reports     Other (describe):   Type Here     (Description of Other Health  Information)    Lab & Pathology           Reports        Dental Records        Operative Reports        Discharge      Summary        Consultations   Emer gency Department  Records    Financial Records    Imaging Reports    History & Physical  Exams    Psychological Tests   C. Do I have to give my permission for certain specific uses?   Yes. The following information will only be released if you give your specific  permission by putting your initials on the line(s).    I agree to the release of information pertaining to drug and alcohol abuse,  diagnosis or treatment.    I agree to the release of HIV/AIDS testing information.    I agree to the release of genetic testing information.    I agree to the release of information pertaining to mental health diagnosis or  treatment.   D. Who will disclose and/or receive my Personal Health I nformation?   Your Personal Health Information may be shared with these people for the following  purposes:   1. To the research team for the research described in the attached Consent Form;   2. To others at UC with authority to oversee the research   3. To others who are required by law to review the quality and safety of the research,  including: U.S. government agencies, such as the Food and Drug Administration  or the Office of Human Research Protections, the research sponsor or the  sponsor’s representatives, or gover nment agencies in other countries.\", \"Brigham and Women's Hospital/TIMI Study Group  / Protocol Number D1690C00078  Page 20 of 21   \\n\\nDawn Lombardo , DO  Advarra IRB Approved Version 28 Oct 2022 Revised 29 Jun 2023    E. How will my Personal Health Information be shared for the research?   If you agree to be in this study, the research team may share your Personal Health  Information in the following ways:   1. To perform the research   2. Share it with researchers in the U.S. or other countries;   3. Use it to improve the design of future studies;   4. Share it with business partners of the sponsor; or   5. File applications with U.S. or foreign government agencies to get approval for  new drugs or health care products.   F. Am I required to sign this document?   No, you are not required to sign this document. You will receive the same clinical care  if you do not sign this document. However, if you do not sign the document, you will  not be able to participate in t his research study.   G. Optional research activity   If the research I am agreeing to participate in has additional optional research activity  such as the creation of a database, a tissue repository or other activities, as explained to  me in the informed consent  process, I understand I can choose to agree to have my  information shared for those activities or not.   \\uf0a8 I agree to allow my information to be disclosed for the additional optional  research activities explained in the informed consent process.   H. Does my permi ssion expire?   This permission to release your Personal Health Information expires when the research  ends and all required study monitoring is over.   I. Can I cancel my permission?   You can cancel your permission at any time. You can do this in two ways. You can   write to the researcher or you can ask someone on the research team to give you a form  to fill out to cancel your permission. If you cancel your permission, you may no longer  be in the research study. You may want to ask someone on the research team if  canceling will affect your medical treatment. If you cancel, information that was  already collected and disclosed about you may continue to be used for limited  purposes. Also, if the law requires it, the sponsor and government agencies may  continue to look a t your medical records to review the quality or safety of the study.\", \"Brigham and Women's Hospital/TIMI Study Group  / Protocol Number D1690C00078  Page 21 of 21   \\n\\nDawn Lombardo , DO  Advarra IRB Approved Version 28 Oct 2022 Revised 29 Jun 2023    J. Signature  \\n\\nSubject   If you agree to the use and release of your Personal Health Information, please print  your name and sign below. You will be given a signed copy of this form.  \\n\\n____________________________________________________   Subject’s Name (print) —required  \\n\\n_______________________________________________  ____________    Subject’s Signature        Date  \\n\\nParent or Legally Authorized Representative   If you agree to the use and release of the above named subject’s Personal Health  Information, please print your name and sign below.      ___________________________________________  ___________________   Parent or Legally Authorized Representative’s Name  Relat ionship to Subject   (print)         __________________________________________   ______________   Parent or Legally Authorized Representative’s    Date  Signature     \\n\\nWitness   If this form is being read to the subject because s/he cannot read the form, a witness  must be present and is required to print his/her name and sign here:  \\n\\n_______________________________________________   Witness’ Name (print)  \\n\\n_______________________________________________   Witness’ Signature  \\n\\n_______________________________________________   Date\"]\n",
      "True\n"
     ]
    }
   ],
   "source": [
    "output = parse_pdf(r\"PDF\\ICF CCR_20-41.pdf\")\n",
    "print(output)\n",
    "if \"Protocol Number\" in output[0]:\n",
    "    print(True)"
   ]
  },
  {
   "cell_type": "code",
   "execution_count": 104,
   "metadata": {},
   "outputs": [
    {
     "name": "stdout",
     "output_type": "stream",
     "text": [
      "Brigham and Women's Hospital/TIMI Study Group  / Protocol Number CCR-20-41 and D1690C00078  Page 1 of 21   \n",
      "\n",
      "Dawn Lombardo , DO  Advarra IRB Approved Version 28 Oct 2022 Revised 29 Jun 2023      UNIVERSITY OF CALIFORNIA, IRVINE   CONSENT TO ACT AS A HUMAN RESEARCH SUBJECT  \n",
      "\n",
      "Sponsor / Study Title:     Brigham and Women's Hospital/TIMI Study Group / “ A  Multicenter, Randomized, Double -Blind, Parallel Group,  Placebo -Controlled Trial to Evaluate the Effect of In - Hospital Initiation of Dapagliflozin on Clinical Outcomes in  Patients Who Have Been Stabilized During Hospitalization  for Acute Heart Failure ” \n",
      "\n",
      "Protocol Number CCR-20-41 and:    D1690C00078   Principal Investigator:   (Study Doctor)    Dawn Lombardo, DO \n",
      "\n",
      "Telephone:    Office: 714 -456-5376   (714) 456 -6112 (24/7 number)  \n",
      "\n",
      "Additional Contact(s):    Tamara Chaker, NP   Andy Lee, MD   Behram Mody, MD   Deepti Upparapalli, MD   Katie Tran, NP   Carmina Inductivo, NP   Pedro Portes, NP  \n",
      "\n",
      "Address:  UCI Health - Orange   101 The City Drive South   Orange, CA 92868  \n",
      "\n",
      "Section 1  Introduction   You are being invited to join a clinical research study (also known as a trial). Before you agree to  participate in this study, you need to know the risks and benefits to help you make an informed  decision. This process is known as “informed consent”.   This informed cons ent form tells you about the study in which you are being asked to participate.  Please read the information carefully and discuss it with anyone you want. If you have questions,  please ask the study doctor or study staff to answer them.\n"
     ]
    }
   ],
   "source": [
    "new_protocol_number = \"CCR-20-41 and\"\n",
    "\n",
    "modified_text = output[0]\n",
    "\n",
    "protocol_index = modified_text.find(\"Protocol Number\")\n",
    "\n",
    "while protocol_index != -1:\n",
    "    \n",
    "    existing_text = modified_text[:protocol_index]\n",
    "    remaining_text = modified_text[protocol_index:]\n",
    "    \n",
    "    modified_text = existing_text + remaining_text.replace(\"Protocol Number\", f\"Protocol Number {new_protocol_number}\", 1)\n",
    "     \n",
    "    protocol_index = modified_text.find(\"Protocol Number\", protocol_index + len(f\"Protocol Number {new_protocol_number}\") + 1)\n",
    "    \n",
    "print(modified_text)\n"
   ]
  },
  {
   "cell_type": "code",
   "execution_count": 3,
   "metadata": {},
   "outputs": [],
   "source": [
    "def text_to_docs(text, filename):\n",
    "    if isinstance(text, str):\n",
    "        text = [text]\n",
    "    page_docs = [Document(page_content=page) for page in text]\n",
    "    for i, doc in enumerate(page_docs):\n",
    "        doc.metadata[\"page\"] = i + 1\n",
    "\n",
    "    doc_chunks = []\n",
    "    for doc in page_docs:\n",
    "        text_splitter = RecursiveCharacterTextSplitter(\n",
    "            chunk_size=4000,\n",
    "            separators=[\"\\n\\n\", \"\\n\", \".\", \"!\", \"?\", \",\", \" \", \"\"],\n",
    "            chunk_overlap=0,\n",
    "        )\n",
    "        chunks = text_splitter.split_text(doc.page_content)\n",
    "        for i, chunk in enumerate(chunks):\n",
    "            doc = Document(\n",
    "                page_content=chunk, metadata={\"page\": doc.metadata[\"page\"], \"chunk\": i}\n",
    "            )\n",
    "            doc.metadata[\"source\"] = f\"{doc.metadata['page']}-{doc.metadata['chunk']}\"\n",
    "            doc.metadata[\"filename\"] = filename \n",
    "            doc_chunks.append(doc)\n",
    "            \n",
    "    return doc_chunks"
   ]
  },
  {
   "cell_type": "code",
   "execution_count": 4,
   "metadata": {},
   "outputs": [],
   "source": [
    "def docs_to_index(docs, openai_api_key):\n",
    "    index = FAISS.from_documents(docs, OpenAIEmbeddings(openai_api_key=openai_api_key))\n",
    "    return index\n",
    "\n",
    "\n",
    "def get_index_for_pdf(directory_path, openai_api_key):\n",
    "    \n",
    "    pdf_files = [os.path.join(directory_path, file) for file in os.listdir(directory_path) if file.endswith(\".pdf\")]\n",
    "    documents = []\n",
    "    for pdf_file in pdf_files:\n",
    "        \n",
    "        filename = pdf_file.split(\"\\\\\")\n",
    "        filename = filename[-1]\n",
    "        text = parse_pdf(pdf_file)\n",
    "        documents = documents + text_to_docs(text, filename)\n",
    "    index = docs_to_index(documents, openai_api_key)\n",
    "    return index"
   ]
  },
  {
   "cell_type": "code",
   "execution_count": 110,
   "metadata": {},
   "outputs": [],
   "source": [
    "folder = r\"C:\\Users\\gaura\\OneDrive\\Documents\\Data Technology & Fellowship\\clinical-trial-matching-master\\Clinical-Trails Testing\\PDF\" "
   ]
  },
  {
   "cell_type": "code",
   "execution_count": 111,
   "metadata": {},
   "outputs": [],
   "source": [
    "with open(r\"openai_key.txt\", 'r') as file:\n",
    "    api_key = file.read().strip()"
   ]
  },
  {
   "cell_type": "code",
   "execution_count": 112,
   "metadata": {},
   "outputs": [],
   "source": [
    "vectordb = get_index_for_pdf(folder,api_key)"
   ]
  },
  {
   "cell_type": "code",
   "execution_count": 113,
   "metadata": {},
   "outputs": [],
   "source": [
    "from langchain.chat_models import ChatOpenAI\n",
    "from langchain.chains.question_answering import load_qa_chain"
   ]
  },
  {
   "cell_type": "code",
   "execution_count": 114,
   "metadata": {},
   "outputs": [],
   "source": [
    "llm = ChatOpenAI(temperature=0, openai_api_key=api_key)\n",
    "chain = load_qa_chain(llm, chain_type=\"stuff\")"
   ]
  },
  {
   "cell_type": "code",
   "execution_count": 118,
   "metadata": {},
   "outputs": [],
   "source": [
    "query = \"What is the background and purpose of the study? please give a big answer.\"\n",
    "docs = vectordb.similarity_search(query,k=5)"
   ]
  },
  {
   "cell_type": "code",
   "execution_count": 119,
   "metadata": {},
   "outputs": [
    {
     "data": {
      "text/plain": [
       "[Document(page_content=\"Brigham and Women's Hospital/TIMI Study Group  / Protocol Number D1690C00078  Page 16 of 21   \\n\\nDawn Lombardo , DO  Advarra IRB Approved Version 28 Oct 2022 Revised 29 Jun 2023    UNIVERSITY OF CALIFORNIA, IRVINE   Experimental Subject's Bill of Rights  \\n\\nThe rights listed below are the right of every individual asked to participate in a research study.  You have the right:  \\n\\n1. To be told about the nature and purpose of the study.  \\n\\n2. To be told about the procedures to be followed in the research study, and whet her any of the  drugs, devices, or procedures is different from what would be used in standard practice.  \\n\\n3. To receive a description of any side effects, discomforts, or risks that you can reasonably expect  to occur during the study.  \\n\\n4. To be told of any bene fits that you may reasonably expect from the participation in the study, if  applicable.  \\n\\n5. To receive a description of any alternative procedures, drugs, or devices that might be helpful,  and their risks and benefits compared to the proposed procedures, dru gs or devices.  \\n\\n6. To be told of what sort of medical treatment, if any, will be available if any complications should  arise.  \\n\\n7. To be given a chance to ask any questions concerning the research study both before agreeing to  participate and at any time during  the course of the study.  \\n\\n8. To refuse to participate in the research study. Participation is voluntary. You may refuse to  answer any question or discontinue your involvement at any time without penalty or loss of  benefits to which you might otherwise be entitled.  Your decision will not affect your right to  receive the care you would receive if you were not in the experiment.   \\n\\n9. To receive a copy of the signed and dated written consent form and a copy of this form.  \\n\\n10. To be given the opportunity to freely decide whether or not to conse nt to the research study  without any force, coercion, or undue influence.   -------------------------------------------------------\", metadata={'page': 16, 'chunk': 0, 'source': '16-0', 'filename': 'ICF CCR_20-41.pdf'}),\n",
       " Document(page_content=\"Brigham and Women's Hospital/TIMI Study Group  / Protocol Number D1690C00078  Page 15 of 21   \\n\\nDawn Lombardo , DO  Advarra IRB Approved Version 28 Oct 2022 Revised 29 Jun 2023    I attest that the participant named above had enough time to consider this information, had an  opportunity to ask questions, and voluntarily agreed to be in this study.  \\n\\n   Printed Name of Person Explaining Consent   \\n\\n     Signature of Person Explaining Consent   Date  \\n\\nA witness signature is required on this consent form only if: (Researchers: check which one applies)  \\n\\nConsent is obtained from the subject via the Short Form process, as approved  by the IRB.   The subject has decision -making capacity, but cannot read, write, talk or is blind.   The subject’s guardian/legally authorized representative (LAR) cannot read, write, talk or is blind.   The IRB specifically mandated a witness signature for this study (e.g., high risk and/or invasive  research procedures).  \\n\\nNote: The witness must be impartial (i.e. not a member of the subject’s family, not a member of the study  team).   \\n\\nFor the witness:   I confirm that the information in this consent form was accurately explained to and understood by the  subject or legally authorized representative and that informed consent was given freely.  \\n\\n___________________________________________________  __________________   Witness Signature             Date   (If no witness signature is required, this witness signature section of the consent form may be left blank).  \\n\\n___________________________________________________    Printed Name of Witness\", metadata={'page': 15, 'chunk': 0, 'source': '15-0', 'filename': 'ICF CCR_20-41.pdf'}),\n",
       " Document(page_content=\"Brigham and Women's Hospital/TIMI Study Group  / Protocol Number D1690C00078  Page 10 of 21   \\n\\nDawn Lombardo , DO  Advarra IRB Approved Version 28 Oct 2022 Revised 29 Jun 2023    Section 9  What are the costs of taking part in this study ?  The study sponsor will supply the study drug at no cost while you take part in the study. Any additional  research-related tests, procedures or visits will also be provided at no cost while you take part in this  study:   • Study visits   • Study procedures   • Study laboratory tests   You and /or your health plan/insurance will be billed for the costs of any routine medical care you receive  to diagnose and/or treat any medical condition(s) within the scope of this study. You and /or your health  plan/insurance will need to pay for this routi ne care. You will also be billed for any co -payments or  deductibles required by your insurance. Some health plans/insurance companies will not pay the costs  associated with these tests, procedures, and/or drugs. Financial counselling  and itemized cost esti mates  are available upon request.   Section 10  Do I have to take part?   Taking part in this study is voluntary.  It is up to you whether or not to take part in this study.  You may refuse to take part or stop taking part in this study at any time. If you choos e to refuse  to join or stop taking part later , there will be no penalty or loss of benefits that you are already  receiving.  However, please note that the FDA requires that any information collected up to the  point of your withdrawal cannot be removed from the study.   What if I work for the study center?  What if I am a family member of someone who works  for the study center?   Study center employees and their family members may not participate in this study.   Section 11  WHO WILL HAVE ACCESS TO MY STUDY DATA?   The research team, authorized UCI personnel, the study sponsor, the Institutional Review Board,  and regulatory entities such as the Food and Drug Administration (FDA) and the Office of  Human Research Protections (OHRP), may have access to your study record s to protect your  safety and welfare.    While the research team will make every effort to keep your personal information confidential, it  is possible that an unauthorized person might see it.  We cannot guarantee total privacy.\", metadata={'page': 10, 'chunk': 0, 'source': '10-0', 'filename': 'ICF CCR_20-41.pdf'}),\n",
       " Document(page_content=\"Brigham and Women's Hospital/TIMI Study Group  / Protocol Number D1690C00078  Page 11 of 21   \\n\\nDawn Lombardo , DO  Advarra IRB Approved Version 28 Oct 2022 Revised 29 Jun 2023    Your Health Information and Identification   The part of your health information sent by the study doctor to the study sponsor  usually does not directly identify you (for example, by name, address, or social  security number). Instead, the study doctor uses a code number on the informat ion  sent to the study sponsor. The study sponsor, people who work with the sponsor on  the study, and government agencies and other groups that watch over research  studies like this one may look at all your health information. Regulatory authorities   such as the FDA  may also require that the study doctor turn over to them copies of  all your health information. The reason these people may look at your health  information is to make sure the study has been done the right way. They also want  to make sure that you r health information has been collected the right way, or for  other reasons that are allowed under the law.   Possible Transfer of Your Health Information Out of the Country   As explained above, the study sponsor may send your study data (with a code  number, but not your name) outside of the United States for the reasons described  in this form. Please know that the laws in other countries may not provide the same  level of data protection and may not stop your study data from being disclosed to  others.   Notice on Redisclosure of Your Health Information and Confidentiality   The researchers conducting this research can disclose your protected information  only to the persons whom you have permitted to see it, and only in the ways you  have permitted. However, if you sign and date  this form it is possible that those  persons may share your protected information with other persons. Federal law does  not protect you against this, but the laws of your state may provide additional  protection.   Publication of Study Results   Your health information will be kept confidential at all times, except when  disclosure is required by law. The results from this study may also be presented at  meetings or in articles. However, your name, or initials that could identify you,  will not be used in those meetings or articles.\", metadata={'page': 11, 'chunk': 0, 'source': '11-0', 'filename': 'ICF CCR_20-41.pdf'}),\n",
       " Document(page_content=\"Brigham and Women's Hospital/TIMI Study Group  / Protocol Number D1690C00078  Page 18 of 21   \\n\\nDawn Lombardo , DO  Advarra IRB Approved Version 28 Oct 2022 Revised 29 Jun 2023               UCI IRB # 942  University of California Irvine Health   Permission to Use Personal Health Information for Research   Study Title (or IRB Approval Number if study title may breach subject’s privacy):   A Multicenter, Randomized, Double -Blind, Parallel Group, Place bo-Controlled  Trial to Evaluate the Effect of In -Hospital Initiation of Dapagliflozin on Clinical  Outcomes in Patients Who Have Been Stabilized During Hospitalization for Acute  Heart Failure   Principal Investigator Name: Dawn Lombardo, DO  Sponsor/Funding Agency (if funded):  Brigham and Women's Hospital/TIMI Study  Group     A. What is the purpose of this form?   State and federal privacy laws protect the use and release of your health  information. Under these laws, the University of California or y our health care  provider cannot release your health information for research purposes unless you  give your permission. Your information will be released to the research team  which includes the researchers, people hired by the University or the sponsor to d o  the research and people with authority to oversee the research. If you decide to  give your permission and to participate in the study, you must sign this form as  well as the Consent Form. This form describes the different ways that health care  providers can share your information with the researcher, research team, sponsor  and people with oversight responsibility. The research team will use and protect  your information as described in the attached Consent Form. However, once your  health information is rel eased by UC Irvine Health it may not be protected by the  privacy laws and might be shared with others. If you have questions, ask a member  of the research team.   B. What Personal Health Information will be released?   If you give your permission and sign this fo rm, you are allowing your health care  provider to release the following medical records containing your Personal Health  Information. Your Personal Health Information includes health information in your  medical records, financial records and other informati on that can identify you.\", metadata={'page': 18, 'chunk': 0, 'source': '18-0', 'filename': 'ICF CCR_20-41.pdf'})]"
      ]
     },
     "execution_count": 119,
     "metadata": {},
     "output_type": "execute_result"
    }
   ],
   "source": [
    "docs"
   ]
  },
  {
   "cell_type": "code",
   "execution_count": 120,
   "metadata": {},
   "outputs": [
    {
     "data": {
      "text/plain": [
       "\"The background and purpose of the study is to evaluate the effect of in-hospital initiation of Dapagliflozin on clinical outcomes in patients who have been stabilized during hospitalization for acute heart failure. The study is being conducted by the Brigham and Women's Hospital/TIMI Study Group and is approved by the Advarra IRB and the University of California, Irvine.\\n\\nThe study aims to investigate the potential benefits and risks of using Dapagliflozin, a medication used to treat type 2 diabetes, in patients with acute heart failure. The researchers want to determine if initiating Dapagliflozin during hospitalization can improve clinical outcomes, such as reducing the risk of cardiovascular events or improving overall heart function, in these patients.\\n\\nTo achieve this, the study will involve a multicenter, randomized, double-blind, parallel group, placebo-controlled trial. Participants will be randomly assigned to receive either Dapagliflozin or a placebo, and their clinical outcomes will be monitored over a period of time. The study will also compare the effects of Dapagliflozin to standard practice in the treatment of acute heart failure.\\n\\nThe study protocol includes various procedures, such as study visits, laboratory tests, and other research-related tests and procedures, which will be provided at no cost to the participants. However, any routine medical care related to the participants' existing medical conditions will be billed to them or their health plan/insurance.\\n\\nParticipants in the study have the right to be fully informed about the nature and purpose of the study, the procedures involved, any potential risks or side effects, and any potential benefits they may receive from participating. They also have the right to ask questions and to refuse participation at any time without penalty or loss of benefits.\\n\\nThe study emphasizes the voluntary nature of participation and ensures that participants have the opportunity to freely decide whether or not to consent to the research study. The researchers are committed to protecting the privacy and confidentiality of participants' personal health information, although there is a possibility that unauthorized individuals may have access to it.\\n\\nOverall, the study aims to contribute to the understanding of the potential benefits and risks of using Dapagliflozin in patients with acute heart failure and to provide valuable insights for improving the treatment and management of this condition.\""
      ]
     },
     "execution_count": 120,
     "metadata": {},
     "output_type": "execute_result"
    }
   ],
   "source": [
    "chain.run(input_documents=docs, question=query)"
   ]
  },
  {
   "cell_type": "code",
   "execution_count": 1,
   "metadata": {},
   "outputs": [],
   "source": [
    "import json\n",
    "from pathlib import Path\n",
    "from pprint import pprint"
   ]
  },
  {
   "cell_type": "code",
   "execution_count": 123,
   "metadata": {},
   "outputs": [],
   "source": [
    "import databutton as db\n",
    "import re\n",
    "from io import BytesIO\n",
    "from typing import Tuple, List\n",
    "import pickle\n",
    "import requests\n",
    "from langchain.docstore.document import Document\n",
    "from langchain.embeddings.openai import OpenAIEmbeddings\n",
    "from langchain.text_splitter import RecursiveCharacterTextSplitter\n",
    "from langchain.vectorstores.faiss import FAISS\n",
    "from langchain.schema import ( SystemMessage, HumanMessage, AIMessage)\n",
    "from PyPDF2 import PdfReader\n",
    "import faiss\n",
    "import os\n",
    "import json\n",
    "import openai\n",
    "from pathlib import Path\n",
    "from langchain.chat_models import ChatOpenAI"
   ]
  },
  {
   "cell_type": "code",
   "execution_count": 10,
   "metadata": {},
   "outputs": [],
   "source": [
    "file_path = r'C:\\Users\\gaura\\OneDrive\\Documents\\DTF\\clinical-trial-matching-master\\Clinical-Trails\\cardio_trials.json'\n",
    "data = json.loads(Path(file_path).read_text())"
   ]
  },
  {
   "cell_type": "code",
   "execution_count": 53,
   "metadata": {},
   "outputs": [],
   "source": [
    "with open(r\"openai_key.txt\", 'r') as file:\n",
    "    api_key = file.read().strip()"
   ]
  },
  {
   "cell_type": "code",
   "execution_count": 54,
   "metadata": {},
   "outputs": [],
   "source": [
    "os.environ[\"OPENAI_API_KEY\"] = api_key\n",
    "openai.api_key = api_key"
   ]
  },
  {
   "cell_type": "code",
   "execution_count": 96,
   "metadata": {},
   "outputs": [],
   "source": [
    "docs = []\n",
    "for protocol in data['TRIAL']['PROTOCOL']:\n",
    "        text = \"Protocol No: \" + protocol[\"PROTOCOL_NO\"] + \" \"\n",
    "        text += \"Title: \" + protocol[\"TITLE\"] + \" \"\n",
    "        text += \"NCT ID: \" + protocol[\"NCT_ID\"] + \" \"\n",
    "        text += \"Short Title: \" + protocol[\"SHORT_TITLE\"] + \" \"\n",
    "        text += \"Investigator Name: \" + protocol[\"INVESTIGATOR_NAME\"] + \" \"\n",
    "        text += \"Status: \" + protocol[\"STATUS\"] + \" \"\n",
    "        text += \"Elibility: \" + protocol[\"ELIGIBILITY\"] + \" \"\n",
    "        text += \"Detailed Eligibility: \" + protocol[\"DETAILED_ELIGIBILITY\"] + \" \"\n",
    "        text += \"Age Description: \" + protocol[\"AGE_DESCRIPTION\"] + \" \"\n",
    "        text += \"Phase Desc: \" + protocol[\"PHASE_DESC\"] + \" \"\n",
    "        text += \"Scope Description: \"+ protocol[\"SCOPE_DESC\"] + \" \"\n",
    "        text += \"Modified Date: \"+ protocol[\"MODIFIED_DATE\"] + \" \"\n",
    "        text += \"Department Name: \" + protocol[\"DEPARTMENT_NAME\"] + \" \"\n",
    "        text += \"Sponsor Names: \" + str(protocol[\"SPONSOR_NAMES\"]) + \" \"\n",
    "        text += \"Disease Sites: \"+ str(protocol[\"DISEASE_SITES\"]) + \" \"\n",
    "        docs.append(Document(page_content=text, metadata={\"Protocol No\":protocol[\"PROTOCOL_NO\"]}))"
   ]
  },
  {
   "cell_type": "code",
   "execution_count": 97,
   "metadata": {},
   "outputs": [],
   "source": [
    "db = FAISS.from_documents(docs, OpenAIEmbeddings(openai_api_key=api_key))\n",
    "db.save_local(\"faiss_index\")"
   ]
  },
  {
   "cell_type": "code",
   "execution_count": 98,
   "metadata": {},
   "outputs": [],
   "source": [
    "chat = ChatOpenAI(openai_api_key=os.environ[\"OPENAI_API_KEY\"],model='gpt-3.5-turbo')"
   ]
  },
  {
   "cell_type": "code",
   "execution_count": 102,
   "metadata": {},
   "outputs": [],
   "source": [
    "def generate_responses(chat, messages, query):\n",
    "    \n",
    "    with open(r\"openai_key.txt\", 'r') as file:\n",
    "        api_key = file.read().strip()\n",
    "    \n",
    "    embeddings = OpenAIEmbeddings(openai_api_key=api_key)\n",
    "    db = FAISS.load_local(\"faiss_index\", embeddings)\n",
    "\n",
    "    results = db.similarity_search(query, k=3)\n",
    "    source_knowledge = \"\\n\".join([x.page_content for x in results])\n",
    "    augmented_prompt = f\"\"\"Using the contexts below, answer the query. Contexts: {source_knowledge} Query: {query}\"\"\"\n",
    "    prompt =  HumanMessage(content=augmented_prompt)\n",
    "    messages.append(prompt)\n",
    "    result = chat(messages)\n",
    "    messages.append(AIMessage(content=result.content))\n",
    "\n",
    "    return messages, result.content"
   ]
  },
  {
   "cell_type": "code",
   "execution_count": 103,
   "metadata": {},
   "outputs": [],
   "source": [
    "question = 'Which clinical trial is sponsored by Boston Scientific'"
   ]
  },
  {
   "cell_type": "code",
   "execution_count": 104,
   "metadata": {},
   "outputs": [],
   "source": [
    "messages = [\n",
    "            SystemMessage(content=\"You are a helpful assistant.\"), \n",
    "            HumanMessage(content=\"Hi AI, how are you today?\"), \n",
    "            AIMessage(content=\"I'm great thank you. How can I help you?\")\n",
    "        ]   \n",
    "messages, bot_answer = generate_responses(chat, messages,question)"
   ]
  },
  {
   "cell_type": "code",
   "execution_count": 105,
   "metadata": {},
   "outputs": [
    {
     "data": {
      "text/plain": [
       "'The clinical trial sponsored by Boston Scientific is Protocol No: CCR-21-66, titled \"LUX-Dx Heart Failure Sensors in an Insertable Cardiac Monitor System Clinical Study (LUX-Dx TRENDS)\".'"
      ]
     },
     "execution_count": 105,
     "metadata": {},
     "output_type": "execute_result"
    }
   ],
   "source": [
    "bot_answer"
   ]
  },
  {
   "cell_type": "code",
   "execution_count": 18,
   "metadata": {},
   "outputs": [],
   "source": [
    "file_path = r'C:\\Users\\gaura\\OneDrive\\Documents\\DTF\\clinical-trial-matching-master\\Clinical-Trails\\cardio_trials.json'\n",
    "protocol = data = json.loads(Path(file_path).read_text())"
   ]
  },
  {
   "cell_type": "code",
   "execution_count": 16,
   "metadata": {},
   "outputs": [
    {
     "name": "stdout",
     "output_type": "stream",
     "text": [
      "Protocol No: CCR-20-41\n",
      "Title: A Multicenter, Randomized, Double-Blind, Parallel Group, Placebo-Controlled Trial to Evaluate the Effect of In-Hospital Initiation of Dapagliflozin on Clinical Outcomes in Patients with Heart Failure with Reduced Ejection Fraction Who Have Been Stabilized During Hospitalization for Acute Heart Failure\n",
      "NCT ID: NCT04363697\n",
      "Status: OPEN TO ACCRUAL\n",
      "Age Description: Adults\n",
      "Scope Description: National\n",
      "Description: \n",
      "Sponsor Names: {'SPONSOR_NAME': ['AstraZeneca', 'TIMI Study Group']}\n",
      "Disease Sites: {'DISEASE_SITE': ['Heart - Cardiovascular/ Circulatory', 'Heart Failure']}\n",
      "==================================================\n",
      "Protocol No: CCR-21-66\n",
      "Title: LUX-Dx Heart Failure Sensors in an Insertable Cardiac Monitor System Clinical Study (LUX-Dx TRENDS)\n",
      "NCT ID: NCT04790344\n",
      "Status: OPEN TO ACCRUAL\n",
      "Age Description: Adults\n",
      "Scope Description: National\n",
      "Description: The primary objective of this study is to collect physiological measurement data and heart failure (HF) event data that will be used to design and develop new diagnostic features for the insertable cardiac monitor (ICM) systems. This study will not have pre-defined statistical endpoints. To support the primary objective, diagnostic sensor data will be compared to reference clinical testing data and heart failure decompensation events.\n",
      "Sponsor Names: {'SPONSOR_NAME': 'Boston Scientific'}\n",
      "Disease Sites: {'DISEASE_SITE': ['Heart Failure', 'Heart - Cardiovascular/ Circulatory']}\n",
      "==================================================\n",
      "Protocol No: CCR-22-101\n",
      "Title: Pragmatic Randomized Clinical Trial of Early Dronedarone versus Usual Care to Change and Improve Outcomes in Persons with First-Detected Atrial Fibrillation (CHANGE AFIB)\n",
      "NCT ID: NCT05130268\n",
      "Status: OPEN TO ACCRUAL\n",
      "Age Description: Adults\n",
      "Scope Description: National\n",
      "Description: Overall Design:\n",
      "\n",
      "Dronedarone is approved by the Food and Drug Administration to reduce the risk of CV hospitalization in patients with AF or atrial flutter. However, it is unknown if dronedarone (or any antiarrhythmic medication) can reduce CV hospitalization or death in patients with first-detected AF. This trial has been designed to address this important question. In order to facilitate the trial enrollment, data collection, and a generalizability to clinical practice, the CHANGE AFIB study has been designed as an open-label pragmatic clinical trial nested within the Get With The Guidelines (GWTG) Atrial Fibrillation registry. At present the overall GWTG program is being implemented in over 2,300 hospitals across the U.S. and is comprised of over 9 million patient records, with an estimated 650,000 new patient records entered per year. The trial will utilize the existing GWTG registry network, data collection architecture, and experience to facilitate both enrollment and conduct of the trial.\n",
      "\n",
      "The comparator arm will be \"usual care.\" Thus, this study will compare usual care plus dronedarone versus usual care alone. In most patients, the investigators anticipate usual care to include an atrioventricular nodal blocking agent (beta-blocker, non-dihydropyridine calcium channel blocker, or digoxin) without an antiarrhythmic. As dronedarone has anti-adrenergic rate controlling properties, a low dose of beta-blocker or calcium-channel blocker is recommended in the USPI when starting dronedarone. In the dronedarone arm concomitant digoxin use will be contraindicated due to P-gp interaction based upon data from the PALLAS trial. All patients will receive oral anticoagulation for stroke prevention according to current guideline recommendations.\n",
      "\n",
      "CHANGE AFIB will leverage several critical advantages as a pragmatic clinical trial. Data collection will be integrated into the Get With The Guidelines AFIB registry. The use of the GWTG-AFIB registry will also enhance subject recruitment and ensure the enrollment of a diverse group of patients. The randomized intervention will be compared with usual care thus further enhancing generalizability. Follow-up visits will be minimized to reduce patient burden. Moreover, follow-up visits will have \"windows\" to accommodate variation in follow-up intervals at different centers.\n",
      "Sponsor Names: {'SPONSOR_NAME': 'American Heart Association'}\n",
      "Disease Sites: {'DISEASE_SITE': 'Heart - Cardiovascular/ Circulatory'}\n",
      "==================================================\n",
      "Protocol No: CCR-22-13\n",
      "Title: A prospective, multicenter, randomized, controlled pivotal trial to evaluate the safety and effectiveness of transcatheter tricuspid valve repair with the Edwards PASCAL Transcatheter Valve Repair System and optimal medical therapy (OMT) compared to OMT alone in patients with tricuspid regurgitation\n",
      "NCT ID: NCT04097145\n",
      "Status: OPEN TO ACCRUAL\n",
      "Age Description: Adults\n",
      "Scope Description: \n",
      "Description: A Prospective, multicenter, randomized, controlled pivotal trial to evaluate the safety and effectiveness of transcatheter tricuspid valve repair with the Edwards PASCAL Transcatheter Valve Repair System and optimal medical therapy (OMT) compared to OMT alone in patients with tricuspid regurgitation. Patients will be seen for follow-up visits at discharge, 30 days, 3 months, 6 months, and annually through 5 years.\n",
      "Sponsor Names: {'SPONSOR_NAME': 'Edwards Lifesciences'}\n",
      "Disease Sites: {'DISEASE_SITE': 'Heart - Cardiovascular/ Circulatory'}\n",
      "==================================================\n",
      "Protocol No: CCR-22-96\n",
      "Title: Edwards PASCAL TrAnScatheter Valve RePair System Pivotal Clinical Trial (CLASP IID/IIF): A prospective, multicenter, randomized, controlled pivotal trial to evaluate the safety and effectiveness of transcatheter mitral valve repair with the Edwards PASCAL Transcatheter Valve Repair System compared to Abbott MitraClip in patients with mitral regurgitation.\n",
      "NCT ID: NCT03706833\n",
      "Status: OPEN TO ACCRUAL\n",
      "Age Description: Adults\n",
      "Scope Description: National\n",
      "Description: A prospective, multicenter, randomized, controlled pivotal trial to evaluate the safety and effectiveness of transcatheter mitral valve repair with the Edwards PASCAL Transcatheter Valve Repair System compared to Abbott MitraClip in patients with degenerative mitral regurgitation (DMR) who have been determined to be at prohibitive risk for mitral valve surgery by the Heart Team, and in patients with functional mitral regurgitation (FMR) on guideline directed medical therapy (GDMT)\n",
      "\n",
      "Patients will be seen for follow-up visits at discharge, 30 days, 6 months, and annually through 5 years.\n",
      "Sponsor Names: {'SPONSOR_NAME': 'Edwards Lifesciences'}\n",
      "Disease Sites: {'DISEASE_SITE': 'Cardiovascular Disease'}\n",
      "==================================================\n",
      "Protocol No: CCR-23-06\n",
      "Title: EVOLVE-MI: A Pragmatic Randomized Multicenter Trial of EVOLocumab Administered\n",
      "Very Early to Reduce the Risk of Cardiovascular Events in Patients Hospitalized With Acute Myocardial Infarction\n",
      "NCT ID: NCT05284747\n",
      "Status: OPEN TO ACCRUAL\n",
      "Age Description: Adults\n",
      "Scope Description: \n",
      "Description: \n",
      "Sponsor Names: {'SPONSOR_NAME': ['The Colorado Prevention Center d/b/a CPC Clinical Research', 'Amgen Inc.']}\n",
      "Disease Sites: {'DISEASE_SITE': 'Heart - Cardiovascular/ Circulatory'}\n",
      "==================================================\n"
     ]
    }
   ],
   "source": [
    "for protocol in data['TRIAL']['PROTOCOL']:\n",
    "    print(\"Protocol No:\", protocol[\"PROTOCOL_NO\"])\n",
    "    print(\"Title:\", protocol[\"TITLE\"])\n",
    "    print(\"NCT ID:\", protocol[\"NCT_ID\"])\n",
    "    print(\"Short Title:\", protocol[\"SHORT_TITLE\"])\n",
    "    print(\"Investigator Name:\", protocol[\"INVESTIGATOR_NAME\"])\n",
    "    print(\"Status:\", protocol[\"STATUS\"])\n",
    "    print(\"Age Description:\", protocol[\"AGE_DESCRIPTION\"])\n",
    "    print(\"Scope Description:\", protocol[\"SCOPE_DESC\"])\n",
    "    print(\"Description:\", protocol[\"DESCRIPTION\"])\n",
    "    print(\"Sponsor Names:\", protocol[\"SPONSOR_NAMES\"])\n",
    "    print(\"Disease Sites:\", protocol[\"DISEASE_SITES\"])\n",
    "    print(\"=\" * 50)"
   ]
  },
  {
   "cell_type": "code",
   "execution_count": 2,
   "metadata": {},
   "outputs": [],
   "source": [
    "import openai"
   ]
  },
  {
   "cell_type": "code",
   "execution_count": 18,
   "metadata": {},
   "outputs": [],
   "source": [
    "sentence1 = 'Which clinical trial is sponsored by Boston Scientific'\n",
    "sentence2 = 'Which clinical trial is related to AstraZeneca'"
   ]
  },
  {
   "cell_type": "code",
   "execution_count": 22,
   "metadata": {},
   "outputs": [],
   "source": [
    "embed1 = openai.Embedding.create(input = [sentence1, sentence2], engine=\"text-embedding-ada-002\")"
   ]
  },
  {
   "cell_type": "code",
   "execution_count": 23,
   "metadata": {},
   "outputs": [],
   "source": [
    "first = embed1[\"data\"][0][\"embedding\"]\n",
    "second = embed1[\"data\"][1][\"embedding\"]"
   ]
  },
  {
   "cell_type": "code",
   "execution_count": 24,
   "metadata": {},
   "outputs": [
    {
     "name": "stdout",
     "output_type": "stream",
     "text": [
      "0.8598069017364408\n"
     ]
    }
   ],
   "source": [
    "from openai.embeddings_utils import cosine_similarity\n",
    "score = cosine_similarity(first,second)\n",
    "print(score)"
   ]
  },
  {
   "cell_type": "markdown",
   "metadata": {},
   "source": [
    "### Vector Database Generation"
   ]
  },
  {
   "cell_type": "code",
   "execution_count": 40,
   "metadata": {},
   "outputs": [],
   "source": [
    "from langchain.embeddings.openai import OpenAIEmbeddings"
   ]
  },
  {
   "cell_type": "code",
   "execution_count": 41,
   "metadata": {},
   "outputs": [],
   "source": [
    "with open(\"openai_key.txt\",\"r\") as file:\n",
    "    api_key = file.read().strip()"
   ]
  },
  {
   "cell_type": "markdown",
   "metadata": {},
   "source": [
    "#### All Policies Vector DB"
   ]
  },
  {
   "cell_type": "code",
   "execution_count": 68,
   "metadata": {},
   "outputs": [],
   "source": [
    "import re\n",
    "import os\n",
    "import faiss\n",
    "from io import BytesIO\n",
    "from typing import Tuple, List\n",
    "from PyPDF2 import PdfReader\n",
    "from langchain.docstore.document import Document\n",
    "from langchain.text_splitter import RecursiveCharacterTextSplitter\n",
    "from langchain.vectorstores.faiss import FAISS"
   ]
  },
  {
   "cell_type": "code",
   "execution_count": 83,
   "metadata": {},
   "outputs": [],
   "source": [
    "class Create_db:\n",
    "\n",
    "    def parse_pdf( self, file, filename, idx):\n",
    "\n",
    "        pdf = PdfReader(file)\n",
    "        print(file)\n",
    "        print(self.dictionary[idx])\n",
    "        output = []\n",
    "        for page in pdf.pages:\n",
    "            text = page.extract_text()\n",
    "            text = self.replace_text(text,idx)\n",
    "            text = re.sub(r\"(\\w+)-\\n(\\w+)\", r\"\\1\\2\", text)\n",
    "            text = re.sub(r\"(?<!\\n\\s)\\n(?!\\s\\n)\", \" \", text.strip())\n",
    "            text = re.sub(r\"\\n\\s*\\n\", \"\\n\\n\", text)\n",
    "            output.append(text)\n",
    "        return output, filename\n",
    "\n",
    "    def replace_text(self, text, idx):\n",
    "        \n",
    "        new_protocol_number = str(self.dictionary[idx]) + \" and\"\n",
    "        modified_text = text\n",
    "        protocol_index = modified_text.find(\"Protocol Number\")\n",
    "\n",
    "        while protocol_index != -1:\n",
    "    \n",
    "            existing_text = modified_text[:protocol_index]\n",
    "            remaining_text = modified_text[protocol_index:]\n",
    "            modified_text = existing_text + remaining_text.replace(\"Protocol Number\", f\"Protocol Number {new_protocol_number}\", 1)\n",
    "            protocol_index = modified_text.find(\"Protocol Number\", protocol_index + len(f\"Protocol Number {new_protocol_number}\") + 1)\n",
    "\n",
    "        return modified_text   \n",
    "    \n",
    "    def text_to_docs( self, text, filename):\n",
    "\n",
    "        if isinstance(text, str):\n",
    "            text = [text]\n",
    "        page_docs = [Document(page_content=page) for page in text]\n",
    "        for i, doc in enumerate(page_docs):\n",
    "            doc.metadata[\"page\"] = i + 1\n",
    "\n",
    "        doc_chunks = []\n",
    "        for doc in page_docs:\n",
    "            text_splitter = RecursiveCharacterTextSplitter(\n",
    "                chunk_size=4000,\n",
    "                separators=[\"\\n\\n\", \"\\n\", \".\", \"!\", \"?\", \",\", \" \", \"\"],\n",
    "                chunk_overlap=0,\n",
    "            )\n",
    "            chunks = text_splitter.split_text(doc.page_content)\n",
    "            for i, chunk in enumerate(chunks):\n",
    "                doc = Document(\n",
    "                    page_content=chunk, metadata={\"page\": doc.metadata[\"page\"], \"chunk\": i}\n",
    "                )\n",
    "                doc.metadata[\"source\"] = f\"{doc.metadata['page']}-{doc.metadata['chunk']}\"\n",
    "                doc.metadata[\"filename\"] = filename  # Add filename to metadata\n",
    "                doc_chunks.append(doc)\n",
    "        return doc_chunks\n",
    "\n",
    "\n",
    "    def docs_to_index( self, docs, api_key):\n",
    "        \n",
    "        db = FAISS.from_documents(docs, OpenAIEmbeddings(openai_api_key=api_key))\n",
    "        db.save_local(\"Vector_DB/policies\")\n",
    "\n",
    "\n",
    "    def get_index_for_pdf( self, folder_path, api_key, dictionary):\n",
    "        \n",
    "        pdf_files, pdf_names = [], []\n",
    "        documents = []\n",
    "        self.dictionary = dictionary\n",
    "        files = os.listdir(folder_path)\n",
    "        for file in files:\n",
    "            if file.lower().endswith('.pdf'):\n",
    "                pdf_files.append(os.path.join(folder_path, file))\n",
    "            pdf_names.append(file)\n",
    "\n",
    "        idx = 0\n",
    "        for pdf_file, pdf_name in zip(pdf_files, pdf_names):\n",
    "            text, filename = self.parse_pdf(pdf_file, pdf_name, idx)\n",
    "            documents = documents + self.text_to_docs(text, filename)\n",
    "            idx+=1\n",
    "        self.docs_to_index(documents, api_key)\n",
    "        \n"
   ]
  },
  {
   "cell_type": "code",
   "execution_count": 85,
   "metadata": {},
   "outputs": [
    {
     "name": "stdout",
     "output_type": "stream",
     "text": [
      "C:\\Users\\gaura\\OneDrive\\Documents\\DTF\\clinical-trial-matching-master\\Clinical-Trails\\PDF\\ICF CCR_20-41.pdf\n",
      "CCR-20-41\n",
      "C:\\Users\\gaura\\OneDrive\\Documents\\DTF\\clinical-trial-matching-master\\Clinical-Trails\\PDF\\ICF CCR_21_66 Expired Jan2024.pdf\n",
      "CCR-21-66\n",
      "C:\\Users\\gaura\\OneDrive\\Documents\\DTF\\clinical-trial-matching-master\\Clinical-Trails\\PDF\\ICF CCR_22_101.pdf\n",
      "CCR-22-101\n",
      "C:\\Users\\gaura\\OneDrive\\Documents\\DTF\\clinical-trial-matching-master\\Clinical-Trails\\PDF\\ICF CCR_22_13.pdf\n",
      "CCR-22-13\n",
      "C:\\Users\\gaura\\OneDrive\\Documents\\DTF\\clinical-trial-matching-master\\Clinical-Trails\\PDF\\ICF CCR_22_96.pdf\n",
      "CCR-22-96\n",
      "C:\\Users\\gaura\\OneDrive\\Documents\\DTF\\clinical-trial-matching-master\\Clinical-Trails\\PDF\\ICF CCR_23_06.pdf\n",
      "CCR-23-06\n"
     ]
    }
   ],
   "source": [
    "database = Create_db()\n",
    "folder_path = r\"C:\\Users\\gaura\\OneDrive\\Documents\\DTF\\clinical-trial-matching-master\\Clinical-Trails\\PDF\"\n",
    "dictionary = [\"CCR-20-41\", 'CCR-21-66', \"CCR-22-101\", \"CCR-22-13\", \"CCR-22-96\", \"CCR-23-06\"]\n",
    "database.get_index_for_pdf(folder_path, api_key, dictionary)"
   ]
  },
  {
   "cell_type": "markdown",
   "metadata": {},
   "source": [
    "#### XML File Vector DB"
   ]
  },
  {
   "cell_type": "code",
   "execution_count": 45,
   "metadata": {},
   "outputs": [],
   "source": [
    "import json\n",
    "from pathlib import Path\n",
    "import faiss\n",
    "from io import BytesIO\n",
    "from typing import Tuple, List\n",
    "from PyPDF2 import PdfReader\n",
    "from langchain.docstore.document import Document\n",
    "from langchain.text_splitter import RecursiveCharacterTextSplitter\n",
    "from langchain.vectorstores.faiss import FAISS"
   ]
  },
  {
   "cell_type": "code",
   "execution_count": 46,
   "metadata": {},
   "outputs": [],
   "source": [
    "class Create_db:\n",
    "\n",
    "    def generate_docs(self, data):\n",
    "        docs = []\n",
    "        for protocol in data['TRIAL']['PROTOCOL']:\n",
    "                text = \"Protocol No: \" + protocol[\"PROTOCOL_NO\"] + \" \"\n",
    "                text += \"Title: \" + protocol[\"TITLE\"] + \" \"\n",
    "                text += \"NCT ID: \" + protocol[\"NCT_ID\"] + \" \"\n",
    "                text += \"Short Title: \" + protocol[\"SHORT_TITLE\"] + \" \"\n",
    "                text += \"Investigator Name: \" + protocol[\"INVESTIGATOR_NAME\"] + \" \"\n",
    "                text += \"Status: \" + protocol[\"STATUS\"] + \" \"\n",
    "                text += \"Elibility: \" + protocol[\"ELIGIBILITY\"] + \" \"\n",
    "                text += \"Detailed Eligibility: \" + protocol[\"DETAILED_ELIGIBILITY\"] + \" \"\n",
    "                text += \"Age Description: \" + protocol[\"AGE_DESCRIPTION\"] + \" \"\n",
    "                text += \"Phase Desc: \" + protocol[\"PHASE_DESC\"] + \" \"\n",
    "                text += \"Scope Description: \"+ protocol[\"SCOPE_DESC\"] + \" \"\n",
    "                text += \"Modified Date: \"+ protocol[\"MODIFIED_DATE\"] + \" \"\n",
    "                text += \"Department Name: \" + protocol[\"DEPARTMENT_NAME\"] + \" \"\n",
    "                text += \"Sponsor Names: \" + str(protocol[\"SPONSOR_NAMES\"]) + \" \"\n",
    "                text += \"Disease Sites: \"+ str(protocol[\"DISEASE_SITES\"]) + \" \"\n",
    "                docs.append(Document(page_content=text, metadata={\"source\": protocol[\"PROTOCOL_NO\"]}))\n",
    "        \n",
    "        return docs\n",
    "    \n",
    "    def docs_to_index( self, docs, api_key):\n",
    "        db = FAISS.from_documents(docs, OpenAIEmbeddings(openai_api_key=api_key))\n",
    "        db.save_local(\"Vector_DB/xml_db\")\n",
    "\n",
    "\n",
    "    def create_index(self, file, api_key):\n",
    "        data = json.loads(Path(file).read_text())\n",
    "        docs = self.generate_docs(data)\n",
    "        self.docs_to_index(docs,api_key)"
   ]
  },
  {
   "cell_type": "code",
   "execution_count": 47,
   "metadata": {},
   "outputs": [],
   "source": [
    "database = Create_db()\n",
    "folder_path = r\"C:\\Users\\gaura\\OneDrive\\Documents\\DTF\\clinical-trial-matching-master\\Clinical-Trails\\cardio_trials.json\"\n",
    "database.create_index(folder_path,api_key)"
   ]
  },
  {
   "cell_type": "markdown",
   "metadata": {},
   "source": [
    "#### All Policies & Files Together"
   ]
  },
  {
   "cell_type": "code",
   "execution_count": 70,
   "metadata": {},
   "outputs": [],
   "source": [
    "import json\n",
    "import os\n",
    "import re\n",
    "from pathlib import Path\n",
    "import faiss\n",
    "from io import BytesIO\n",
    "from typing import Tuple, List\n",
    "from PyPDF2 import PdfReader\n",
    "from langchain.docstore.document import Document\n",
    "from langchain.text_splitter import RecursiveCharacterTextSplitter\n",
    "from langchain.vectorstores.faiss import FAISS"
   ]
  },
  {
   "cell_type": "code",
   "execution_count": 107,
   "metadata": {},
   "outputs": [],
   "source": [
    "class Create_db:\n",
    "    \n",
    "    def parse_pdf( self, file, filename, idx):\n",
    "    \n",
    "        pdf = PdfReader(file)\n",
    "        print(file)\n",
    "        print(self.dictionary[idx])\n",
    "        output = []\n",
    "        for page in pdf.pages:\n",
    "            text = page.extract_text()\n",
    "            text = self.replace_text(text,idx)\n",
    "            text = re.sub(r\"(\\w+)-\\n(\\w+)\", r\"\\1\\2\", text)\n",
    "            text = re.sub(r\"(?<!\\n\\s)\\n(?!\\s\\n)\", \" \", text.strip())\n",
    "            text = re.sub(r\"\\n\\s*\\n\", \"\\n\\n\", text)\n",
    "            print(text)\n",
    "            output.append(text)\n",
    "        return output, filename\n",
    "\n",
    "    def replace_text(self, text, idx):\n",
    "        \n",
    "        new_protocol_number = str(self.dictionary[idx]) + \" and\"\n",
    "        modified_text = text\n",
    "        protocol_index = modified_text.find(\"Protocol Number\")\n",
    "\n",
    "        while protocol_index != -1:\n",
    "    \n",
    "            existing_text = modified_text[:protocol_index]\n",
    "            remaining_text = modified_text[protocol_index:]\n",
    "            modified_text = existing_text + remaining_text.replace(\"Protocol Number\", f\"Protocol Number {new_protocol_number}\", 1)\n",
    "            protocol_index = modified_text.find(\"Protocol Number\", protocol_index + len(f\"Protocol Number {new_protocol_number}\") + 1)\n",
    "\n",
    "        return modified_text\n",
    "    \n",
    "    def generate_docs(self, documents, data):\n",
    "        for protocol in data['TRIAL']['PROTOCOL']:\n",
    "                text = \"Protocol No: \" + protocol[\"PROTOCOL_NO\"] + \" \"\n",
    "                text += \"Title: \" + protocol[\"TITLE\"] + \" \"\n",
    "                text += \"NCT ID: \" + protocol[\"NCT_ID\"] + \" \"\n",
    "                text += \"Short Title: \" + protocol[\"SHORT_TITLE\"] + \" \"\n",
    "                text += \"Investigator Name: \" + protocol[\"INVESTIGATOR_NAME\"] + \" \"\n",
    "                text += \"Status: \" + protocol[\"STATUS\"] + \" \"\n",
    "                text += \"Elibility: \" + protocol[\"ELIGIBILITY\"] + \" \"\n",
    "                text += \"Detailed Eligibility: \" + protocol[\"DETAILED_ELIGIBILITY\"] + \" \"\n",
    "                text += \"Age Description: \" + protocol[\"AGE_DESCRIPTION\"] + \" \"\n",
    "                text += \"Phase Desc: \" + protocol[\"PHASE_DESC\"] + \" \"\n",
    "                text += \"Scope Description: \"+ protocol[\"SCOPE_DESC\"] + \" \"\n",
    "                text += \"Modified Date: \"+ protocol[\"MODIFIED_DATE\"] + \" \"\n",
    "                text += \"Department Name: \" + protocol[\"DEPARTMENT_NAME\"] + \" \"\n",
    "                text += \"Sponsor Names: \" + str(protocol[\"SPONSOR_NAMES\"]) + \" \"\n",
    "                text += \"Disease Sites: \"+ str(protocol[\"DISEASE_SITES\"]) + \" \"\n",
    "                documents.append(Document(page_content=text, metadata={\"source\": protocol[\"PROTOCOL_NO\"]}))\n",
    "        \n",
    "        return documents\n",
    "    \n",
    "    def text_to_docs( self, text, filename):\n",
    "        if isinstance(text, str):\n",
    "            text = [text]\n",
    "        page_docs = [Document(page_content=page) for page in text]\n",
    "        for i, doc in enumerate(page_docs):\n",
    "            doc.metadata[\"page\"] = i + 1\n",
    "\n",
    "        doc_chunks = []\n",
    "        for doc in page_docs:\n",
    "            text_splitter = RecursiveCharacterTextSplitter(\n",
    "                chunk_size=4000,\n",
    "                separators=[\"\\n\\n\", \"\\n\", \".\", \"!\", \"?\", \",\", \" \", \"\"],\n",
    "                chunk_overlap=0,\n",
    "            )\n",
    "            chunks = text_splitter.split_text(doc.page_content)\n",
    "            for i, chunk in enumerate(chunks):\n",
    "                doc = Document(\n",
    "                    page_content=chunk, metadata={\"page\": doc.metadata[\"page\"], \"chunk\": i}\n",
    "                )\n",
    "                doc.metadata[\"source\"] = f\"{doc.metadata['page']}-{doc.metadata['chunk']}\"\n",
    "                doc.metadata[\"filename\"] = filename  # Add filename to metadata\n",
    "                doc_chunks.append(doc)\n",
    "        return doc_chunks\n",
    "\n",
    "\n",
    "    def docs_to_index( self, docs, api_key):\n",
    "        db = FAISS.from_documents(docs, OpenAIEmbeddings(openai_api_key=api_key))\n",
    "        db.save_local(\"Vector_DB/main_db\")\n",
    "\n",
    "\n",
    "    def get_index_for_pdf( self, folder_path, file_path, api_key,dictionary):\n",
    "        pdf_files, pdf_names = [], []\n",
    "        documents = []\n",
    "        self.dictionary = dictionary\n",
    "        files = os.listdir(folder_path)\n",
    "        for file in files:\n",
    "            if file.lower().endswith('.pdf'):\n",
    "                pdf_files.append(os.path.join(folder_path, file))\n",
    "            pdf_names.append(file)\n",
    "\n",
    "        idx=0\n",
    "        for pdf_file, pdf_name in zip(pdf_files, pdf_names):\n",
    "            text, filename = self.parse_pdf(pdf_file, pdf_name, idx)\n",
    "            documents = documents + self.text_to_docs(text, filename)\n",
    "            idx+=1\n",
    "            \n",
    "        data = json.loads(Path(file_path).read_text())\n",
    "        \n",
    "        documents = self.generate_docs( documents, data)\n",
    "        self.docs_to_index(documents, api_key)\n",
    "        \n"
   ]
  },
  {
   "cell_type": "code",
   "execution_count": null,
   "metadata": {},
   "outputs": [],
   "source": [
    "database = Create_db()\n",
    "file_path = r\"C:\\Users\\gaura\\OneDrive\\Documents\\DTF\\clinical-trial-matching-master\\Clinical-Trails\\cardio_trials.json\"\n",
    "folder_path = r\"C:\\Users\\gaura\\OneDrive\\Documents\\DTF\\clinical-trial-matching-master\\Clinical-Trails\\PDF\"\n",
    "dictionary = [\"CCR-20-41\", 'CCR-21-66', \"CCR-22-101\", \"CCR-22-13\", \"CCR-22-96\", \"CCR-23-06\"]\n",
    "database.get_index_for_pdf( folder_path, file_path, api_key, dictionary)"
   ]
  },
  {
   "cell_type": "markdown",
   "metadata": {},
   "source": [
    "#### Json Data Vector DB"
   ]
  },
  {
   "cell_type": "code",
   "execution_count": 124,
   "metadata": {},
   "outputs": [],
   "source": [
    "class Create_db:\n",
    "    \n",
    "    def generate_docs(self, data):\n",
    "        docs = []\n",
    "        for protocol in data:\n",
    "                text = \"NCT ID: \" + protocol[\"NCT_ID\"] + \" \"\n",
    "                text += \"Title: \" + protocol[\"TITLE\"] + \" \"\n",
    "                text += \"Short Title: \" + protocol[\"SHORT_TITLE\"] + \" \"\n",
    "                text += \"Sponsor: \" + protocol[\"SPONSOR\"] + \" \"\n",
    "                text += \"Detailed Eligibility: \" + protocol[\"DETAILED_ELIGIBILITY\"] + \" \"\n",
    "                if \"DESCRIPTION\" in protocol:\n",
    "                    text += \"Description: \" + protocol[\"DESCRIPTION\"] + \" \"\n",
    "                text += \"Summary: \" + protocol[\"SUMMARY\"] + \" \"\n",
    "                text += \"Status: \" + protocol[\"STATUS\"] + \" \"\n",
    "                if  \"OUTCOME_DESCRIPTION\" in protocol:\n",
    "                    text += \"Outcome Description: \" + protocol[\"OUTCOME_DESCRIPTION\"] + \" \"\n",
    "                if \"OUTCOME_MEASURE\" in protocol:\n",
    "                    text += \"Outcome Measure: \" + protocol[\"OUTCOME_MEASURE\"] + \" \"\n",
    "                if \"OUTCOME_TIMEFRAME\" in protocol:\n",
    "                    text += \"Outcome Timeframe: \" + protocol[\"OUTCOME_TIMEFRAME\"] + \" \"\n",
    "                text += \"Age Description: \" + protocol[\"AGE_DESCRIPTION\"] + \" \"\n",
    "                if \"INVESTIGATOR_NAME\" in protocol:\n",
    "                    text += \"Investigator Name: \" + protocol[\"INVESTIGATOR_NAME\"]+ \" \"\n",
    "                docs.append(Document(page_content=text, metadata={\"source\": protocol[\"NCT_ID\"]}))\n",
    "        \n",
    "        return docs\n",
    "    \n",
    "    def docs_to_index( self, docs, api_key):\n",
    "        db = FAISS.from_documents(docs, OpenAIEmbeddings(openai_api_key=api_key))\n",
    "        db.save_local(\"new_db\")\n",
    "\n",
    "\n",
    "    def create_index(self, file, api_key):\n",
    "        data = json.loads(Path(file).read_text())\n",
    "        docs = self.generate_docs(data)\n",
    "        self.docs_to_index(docs,api_key)"
   ]
  },
  {
   "cell_type": "code",
   "execution_count": null,
   "metadata": {},
   "outputs": [],
   "source": [
    "class Create_db:\n",
    "    \n",
    "    def generate_docs(self, data):\n",
    "        docs = []\n",
    "        for protocol in data:\n",
    "                text = protocol[\"NCT_ID\"] + \" \"\n",
    "                text += protocol[\"TITLE\"] + \" \"\n",
    "                text +=  protocol[\"SHORT_TITLE\"] + \" \"\n",
    "                text += protocol[\"SPONSOR\"] + \" \"\n",
    "                text +=  protocol[\"DETAILED_ELIGIBILITY\"] + \" \"\n",
    "                if \"DESCRIPTION\" in protocol:\n",
    "                    text +=  protocol[\"DESCRIPTION\"] + \" \"\n",
    "                text +=  protocol[\"SUMMARY\"] + \" \"\n",
    "                text +=  protocol[\"STATUS\"] + \" \"\n",
    "                if  \"OUTCOME_DESCRIPTION\" in protocol:\n",
    "                    text +=  protocol[\"OUTCOME_DESCRIPTION\"] + \" \"\n",
    "                if \"OUTCOME_MEASURE\" in protocol:\n",
    "                    text +=  protocol[\"OUTCOME_MEASURE\"] + \" \"\n",
    "                if \"OUTCOME_TIMEFRAME\" in protocol:\n",
    "                    text +=  protocol[\"OUTCOME_TIMEFRAME\"] + \" \"\n",
    "                text +=  protocol[\"AGE_DESCRIPTION\"] + \" \"\n",
    "                if \"INVESTIGATOR_NAME\" in protocol:\n",
    "                    text +=  protocol[\"INVESTIGATOR_NAME\"]+ \" \"\n",
    "                docs.append(Document(page_content=text, metadata={\"source\": protocol[\"NCT_ID\"]}))\n",
    "        \n",
    "        return docs\n",
    "    \n",
    "    def docs_to_index( self, docs, api_key):\n",
    "        db = FAISS.from_documents(docs, OpenAIEmbeddings(openai_api_key=api_key))\n",
    "        db.save_local(\"new_db\")\n",
    "\n",
    "\n",
    "    def create_index(self, file, api_key):\n",
    "        data = json.loads(Path(file).read_text())\n",
    "        docs = self.generate_docs(data)\n",
    "        self.docs_to_index(docs,api_key)"
   ]
  },
  {
   "cell_type": "code",
   "execution_count": 125,
   "metadata": {},
   "outputs": [],
   "source": [
    "database = Create_db()\n",
    "folder_path = r\"study_data.json\"\n",
    "database.create_index(folder_path,api_key)"
   ]
  },
  {
   "cell_type": "markdown",
   "metadata": {},
   "source": [
    "### Chatbot Test"
   ]
  },
  {
   "cell_type": "code",
   "execution_count": 57,
   "metadata": {},
   "outputs": [],
   "source": [
    "from langchain.docstore.document import Document\n",
    "from langchain.embeddings.openai import OpenAIEmbeddings\n",
    "from langchain.text_splitter import RecursiveCharacterTextSplitter\n",
    "from langchain.vectorstores.faiss import FAISS\n",
    "from langchain.schema import ( SystemMessage, HumanMessage, AIMessage)\n",
    "from PyPDF2 import PdfReader\n",
    "import os\n",
    "from langchain.chat_models import ChatOpenAI"
   ]
  },
  {
   "cell_type": "code",
   "execution_count": 58,
   "metadata": {},
   "outputs": [],
   "source": [
    "os.environ[\"OPENAI_API_KEY\"] = api_key\n",
    "openai.api_key = api_key"
   ]
  },
  {
   "cell_type": "code",
   "execution_count": 59,
   "metadata": {},
   "outputs": [],
   "source": [
    "chat = ChatOpenAI( openai_api_key = os.environ[\"OPENAI_API_KEY\"], model = 'gpt-3.5-turbo')\n",
    "\n",
    "def generate_responses( chat, messages, faiss_path, query):\n",
    "    \n",
    "    with open(r\"openai_key.txt\", 'r') as file:\n",
    "        api_key = file.read().strip()\n",
    "    \n",
    "    embeddings = OpenAIEmbeddings(openai_api_key=api_key)\n",
    "    db = FAISS.load_local(faiss_path, embeddings)\n",
    "\n",
    "    results = db.similarity_search(query, k=3)\n",
    "    source_knowledge = \"\\n\".join([x.page_content for x in results])\n",
    "    augmented_prompt = f\"\"\"Using the contexts below, answer the query. Contexts: {source_knowledge} Query: {query}\"\"\"\n",
    "    \n",
    "    prompt =  HumanMessage(content=augmented_prompt)\n",
    "    messages.append(prompt)\n",
    "    result = chat(messages)\n",
    "    messages.append(AIMessage(content=result.content))\n",
    "\n",
    "    return messages, result.content"
   ]
  },
  {
   "cell_type": "markdown",
   "metadata": {},
   "source": [
    "#### All Policies Chatbot"
   ]
  },
  {
   "cell_type": "code",
   "execution_count": 60,
   "metadata": {},
   "outputs": [],
   "source": [
    "question = 'Which clinical trial is sponsored by Boston Scientific'\n",
    "\n",
    "messages = [\n",
    "            SystemMessage(content=\"You are a helpful assistant.\"), \n",
    "            HumanMessage(content=\"Hi AI, how are you today?\"), \n",
    "            AIMessage(content=\"I'm great thank you. How can I help you?\")\n",
    "        ]   \n",
    "\n",
    "messages, bot_answer = generate_responses( chat, messages, r\"Vector_DB\\policies\", question)"
   ]
  },
  {
   "cell_type": "code",
   "execution_count": 61,
   "metadata": {},
   "outputs": [
    {
     "data": {
      "text/plain": [
       "'The clinical trial sponsored by Boston Scientific is not explicitly mentioned in the provided contexts. The information provided primarily focuses on the study sponsors, costs, legal rights, benefits, and confidentiality aspects of participating in different clinical trials. If you are specifically looking for a clinical trial sponsored by Boston Scientific, I recommend directly contacting Boston Scientific or conducting a search on their official website for information on their sponsored clinical trials.'"
      ]
     },
     "execution_count": 61,
     "metadata": {},
     "output_type": "execute_result"
    }
   ],
   "source": [
    "bot_answer"
   ]
  },
  {
   "cell_type": "markdown",
   "metadata": {},
   "source": [
    "#### XML File Chatbot"
   ]
  },
  {
   "cell_type": "code",
   "execution_count": 62,
   "metadata": {},
   "outputs": [],
   "source": [
    "question = 'Which clinical trial is sponsored by Boston Scientific'\n",
    "\n",
    "messages = [\n",
    "            SystemMessage(content=\"You are a helpful assistant.\"), \n",
    "            HumanMessage(content=\"Hi AI, how are you today?\"), \n",
    "            AIMessage(content=\"I'm great thank you. How can I help you?\")\n",
    "        ]   \n",
    "\n",
    "messages, bot_answer = generate_responses( chat, messages, r\"Vector_DB\\xml_db\", question)"
   ]
  },
  {
   "cell_type": "code",
   "execution_count": 63,
   "metadata": {},
   "outputs": [
    {
     "data": {
      "text/plain": [
       "'The clinical trial sponsored by Boston Scientific is Protocol No: CCR-21-66, titled LUX-Dx Heart Failure Sensors in an Insertable Cardiac Monitor System Clinical Study (LUX-Dx TRENDS).'"
      ]
     },
     "execution_count": 63,
     "metadata": {},
     "output_type": "execute_result"
    }
   ],
   "source": [
    "bot_answer"
   ]
  },
  {
   "cell_type": "markdown",
   "metadata": {},
   "source": [
    "#### Main Chatbot"
   ]
  },
  {
   "cell_type": "code",
   "execution_count": 64,
   "metadata": {},
   "outputs": [],
   "source": [
    "question = 'Which clinical trial is sponsored by Boston Scientific'\n",
    "\n",
    "messages = [\n",
    "            SystemMessage(content=\"You are a helpful assistant.\"), \n",
    "            HumanMessage(content=\"Hi AI, how are you today?\"), \n",
    "            AIMessage(content=\"I'm great thank you. How can I help you?\")\n",
    "        ]   \n",
    "\n",
    "messages, bot_answer = generate_responses( chat, messages, r\"Vector_DB\\xml_db\", question)"
   ]
  },
  {
   "cell_type": "code",
   "execution_count": 65,
   "metadata": {},
   "outputs": [
    {
     "data": {
      "text/plain": [
       "'The clinical trial sponsored by Boston Scientific is the Protocol No: CCR-21-66 titled \"LUX-Dx Heart Failure Sensors in an Insertable Cardiac Monitor System Clinical Study (LUX-Dx TRENDS)\" with the short title \"LUX-Dx TRENDS Evaluates Diagnostics Sensors in Heart Failure Patients Receiving Boston Scientific\\'s.\"'"
      ]
     },
     "execution_count": 65,
     "metadata": {},
     "output_type": "execute_result"
    }
   ],
   "source": [
    "bot_answer"
   ]
  },
  {
   "cell_type": "markdown",
   "metadata": {},
   "source": [
    "### Clinical Trials API Trial"
   ]
  },
  {
   "cell_type": "code",
   "execution_count": 43,
   "metadata": {},
   "outputs": [
    {
     "name": "stdout",
     "output_type": "stream",
     "text": [
      "JSON data has been successfully stored in 'study_data.json'\n"
     ]
    }
   ],
   "source": [
    "import requests\n",
    "import json\n",
    "\n",
    "base_url = \"https://clinicaltrials.gov/api/v2\"\n",
    "\n",
    "nct_id = \"NCT04790344\"\n",
    "\n",
    "url = f\"{base_url}/studies/{nct_id}\"\n",
    "\n",
    "response = requests.get(url)\n",
    "\n",
    "if response.status_code == 200:\n",
    "    \n",
    "    data = response.json()\n",
    "    \n",
    "    with open(\"study_data.json\", \"w\") as json_file:\n",
    "        json.dump(data, json_file)\n",
    "    \n",
    "    print(\"JSON data has been successfully stored in 'study_data.json'\")\n",
    "else:\n",
    "    print(\"Error:\", response.status_code)\n"
   ]
  },
  {
   "cell_type": "code",
   "execution_count": 40,
   "metadata": {},
   "outputs": [
    {
     "name": "stdout",
     "output_type": "stream",
     "text": [
      "<Response [200]>\n"
     ]
    }
   ],
   "source": [
    "print(response)"
   ]
  },
  {
   "cell_type": "code",
   "execution_count": 41,
   "metadata": {},
   "outputs": [
    {
     "name": "stdout",
     "output_type": "stream",
     "text": [
      "{'protocolSection': {'identificationModule': {'nctId': 'NCT00000102', 'orgStudyIdInfo': {'id': 'NCRR-M01RR01070-0506'}, 'secondaryIdInfos': [{'id': 'M01RR001070', 'type': 'NIH', 'link': 'https://reporter.nih.gov/quickSearch/M01RR001070'}], 'organization': {'fullName': 'National Center for Research Resources (NCRR)', 'class': 'NIH'}, 'briefTitle': 'Congenital Adrenal Hyperplasia: Calcium Channels as Therapeutic Targets'}, 'statusModule': {'statusVerifiedDate': '2004-01', 'overallStatus': 'COMPLETED', 'expandedAccessInfo': {'hasExpandedAccess': False}, 'studyFirstSubmitDate': '1999-11-03', 'studyFirstSubmitQcDate': '1999-11-03', 'studyFirstPostDateStruct': {'date': '1999-11-04', 'type': 'ESTIMATED'}, 'lastUpdateSubmitDate': '2005-06-23', 'lastUpdatePostDateStruct': {'date': '2005-06-24', 'type': 'ESTIMATED'}}, 'sponsorCollaboratorsModule': {'leadSponsor': {'name': 'National Center for Research Resources (NCRR)', 'class': 'NIH'}}, 'descriptionModule': {'briefSummary': 'This study will test the ability of extended release nifedipine (Procardia XL), a blood pressure medication, to permit a decrease in the dose of glucocorticoid medication children take to treat congenital adrenal hyperplasia (CAH).', 'detailedDescription': 'This protocol is designed to assess both acute and chronic effects of the calcium channel antagonist, nifedipine, on the hypothalamic-pituitary-adrenal axis in patients with congenital adrenal hyperplasia. The multicenter trial is composed of two phases and will involve a double-blind, placebo-controlled parallel design. The goal of Phase I is to examine the ability of nifedipine vs. placebo to decrease adrenocorticotropic hormone (ACTH) levels, as well as to begin to assess the dose-dependency of nifedipine effects. The goal of Phase II is to evaluate the long-term effects of nifedipine; that is, can attenuation of ACTH release by nifedipine permit a decrease in the dosage of glucocorticoid needed to suppress the HPA axis? Such a decrease would, in turn, reduce the deleterious effects of glucocorticoid treatment in CAH.'}, 'conditionsModule': {'conditions': ['Congenital Adrenal Hyperplasia']}, 'designModule': {'studyType': 'INTERVENTIONAL', 'phases': ['PHASE1', 'PHASE2'], 'designInfo': {'interventionModel': 'PARALLEL', 'primaryPurpose': 'TREATMENT', 'maskingInfo': {'masking': 'DOUBLE'}}}, 'armsInterventionsModule': {'interventions': [{'type': 'DRUG', 'name': 'Nifedipine'}]}, 'eligibilityModule': {'eligibilityCriteria': 'Inclusion Criteria:\\n\\n* diagnosed with Congenital Adrenal Hyperplasia (CAH)\\n* normal ECG during baseline evaluation\\n\\nExclusion Criteria:\\n\\n* history of liver disease, or elevated liver function tests\\n* history of cardiovascular disease', 'healthyVolunteers': False, 'sex': 'ALL', 'minimumAge': '14 Years', 'maximumAge': '35 Years', 'stdAges': ['CHILD', 'ADULT']}, 'contactsLocationsModule': {'locations': [{'facility': 'Medical University of South Carolina', 'city': 'Charleston', 'state': 'South Carolina', 'country': 'United States', 'geoPoint': {'lat': 32.77657, 'lon': -79.93092}}]}}, 'derivedSection': {'miscInfoModule': {'versionHolder': '2024-04-24'}, 'conditionBrowseModule': {'meshes': [{'id': 'D000000312', 'term': 'Adrenal Hyperplasia, Congenital'}, {'id': 'D000047808', 'term': 'Adrenogenital Syndrome'}, {'id': 'D000000308', 'term': 'Adrenocortical Hyperfunction'}, {'id': 'D000006965', 'term': 'Hyperplasia'}], 'ancestors': [{'id': 'D000010335', 'term': 'Pathologic Processes'}, {'id': 'D000012734', 'term': 'Disorders of Sex Development'}, {'id': 'D000014564', 'term': 'Urogenital Abnormalities'}, {'id': 'D000052776', 'term': 'Female Urogenital Diseases'}, {'id': 'D000005261', 'term': 'Female Urogenital Diseases and Pregnancy Complications'}, {'id': 'D000091642', 'term': 'Urogenital Diseases'}, {'id': 'D000052801', 'term': 'Male Urogenital Diseases'}, {'id': 'D000000013', 'term': 'Congenital Abnormalities'}, {'id': 'D000030342', 'term': 'Genetic Diseases, Inborn'}, {'id': 'D000043202', 'term': 'Steroid Metabolism, Inborn Errors'}, {'id': 'D000008661', 'term': 'Metabolism, Inborn Errors'}, {'id': 'D000008659', 'term': 'Metabolic Diseases'}, {'id': 'D000000307', 'term': 'Adrenal Gland Diseases'}, {'id': 'D000004700', 'term': 'Endocrine System Diseases'}, {'id': 'D000006058', 'term': 'Gonadal Disorders'}], 'browseLeaves': [{'id': 'M10016', 'name': 'Hyperplasia', 'asFound': 'Hyperplasia', 'relevance': 'HIGH'}, {'id': 'M3664', 'name': 'Adrenal Hyperplasia, Congenital', 'asFound': 'Congenital Adrenal Hyperplasia', 'relevance': 'HIGH'}, {'id': 'M25853', 'name': 'Adrenogenital Syndrome', 'asFound': 'Congenital Adrenal Hyperplasia', 'relevance': 'HIGH'}, {'id': 'M16355', 'name': 'Syndrome', 'relevance': 'LOW'}, {'id': 'M3660', 'name': 'Adrenocortical Hyperfunction', 'asFound': 'Adrenal Hyperplasia', 'relevance': 'HIGH'}, {'id': 'M15545', 'name': 'Disorders of Sex Development', 'relevance': 'LOW'}, {'id': 'M12', 'name': 'Congenital Abnormalities', 'relevance': 'LOW'}, {'id': 'M17314', 'name': 'Urogenital Abnormalities', 'relevance': 'LOW'}, {'id': 'M2875', 'name': 'Urogenital Diseases', 'relevance': 'LOW'}, {'id': 'M27093', 'name': 'Female Urogenital Diseases', 'relevance': 'LOW'}, {'id': 'M14127', 'name': 'Pregnancy Complications', 'relevance': 'LOW'}, {'id': 'M8399', 'name': 'Female Urogenital Diseases and Pregnancy Complications', 'relevance': 'LOW'}, {'id': 'M27095', 'name': 'Male Urogenital Diseases', 'relevance': 'LOW'}, {'id': 'M23686', 'name': 'Genetic Diseases, Inborn', 'relevance': 'LOW'}, {'id': 'M11641', 'name': 'Metabolism, Inborn Errors', 'relevance': 'LOW'}, {'id': 'M25119', 'name': 'Steroid Metabolism, Inborn Errors', 'relevance': 'LOW'}, {'id': 'M11639', 'name': 'Metabolic Diseases', 'relevance': 'LOW'}, {'id': 'M3659', 'name': 'Adrenal Gland Diseases', 'relevance': 'LOW'}, {'id': 'M7862', 'name': 'Endocrine System Diseases', 'relevance': 'LOW'}, {'id': 'M9163', 'name': 'Gonadal Disorders', 'relevance': 'LOW'}, {'id': 'T1457', 'name': 'Congenital Adrenal Hyperplasia', 'asFound': 'Congenital Adrenal Hyperplasia', 'relevance': 'HIGH'}, {'id': 'T27', 'name': '21-hydroxylase Deficiency', 'asFound': 'Congenital Adrenal Hyperplasia', 'relevance': 'HIGH'}, {'id': 'T2879', 'name': 'Hyperadrenalism', 'relevance': 'LOW'}], 'browseBranches': [{'abbrev': 'BC23', 'name': 'Symptoms and General Pathology'}, {'abbrev': 'All', 'name': 'All Conditions'}, {'abbrev': 'BXS', 'name': 'Urinary Tract, Sexual Organs, and Pregnancy Conditions'}, {'abbrev': 'BC16', 'name': 'Diseases and Abnormalities at or Before Birth'}, {'abbrev': 'BC18', 'name': 'Nutritional and Metabolic Diseases'}, {'abbrev': 'BC19', 'name': 'Gland and Hormone Related Diseases'}, {'abbrev': 'Rare', 'name': 'Rare Diseases'}]}, 'interventionBrowseModule': {'meshes': [{'id': 'D000009543', 'term': 'Nifedipine'}], 'ancestors': [{'id': 'D000002121', 'term': 'Calcium Channel Blockers'}, {'id': 'D000049990', 'term': 'Membrane Transport Modulators'}, {'id': 'D000045504', 'term': 'Molecular Mechanisms of Pharmacological Action'}, {'id': 'D000077264', 'term': 'Calcium-Regulating Hormones and Agents'}, {'id': 'D000045505', 'term': 'Physiological Effects of Drugs'}, {'id': 'D000014665', 'term': 'Vasodilator Agents'}, {'id': 'D000015149', 'term': 'Tocolytic Agents'}, {'id': 'D000012102', 'term': 'Reproductive Control Agents'}], 'browseLeaves': [{'id': 'M7992', 'name': 'Epinephrine', 'relevance': 'LOW'}, {'id': 'M12483', 'name': 'Nifedipine', 'asFound': 'Self-care', 'relevance': 'HIGH'}, {'id': 'M5398', 'name': 'Calcium, Dietary', 'relevance': 'LOW'}, {'id': 'M5381', 'name': 'Calcium', 'relevance': 'LOW'}, {'id': 'M30371', 'name': 'Racepinephrine', 'relevance': 'LOW'}, {'id': 'M211043', 'name': 'Epinephryl borate', 'relevance': 'LOW'}, {'id': 'M5384', 'name': 'Calcium Channel Blockers', 'relevance': 'LOW'}, {'id': 'M9789', 'name': 'Hormones', 'relevance': 'LOW'}, {'id': 'M17412', 'name': 'Vasodilator Agents', 'relevance': 'LOW'}, {'id': 'M17869', 'name': 'Tocolytic Agents', 'relevance': 'LOW'}], 'browseBranches': [{'abbrev': 'VaCoAg', 'name': 'Vasoconstrictor Agents'}, {'abbrev': 'Resp', 'name': 'Respiratory System Agents'}, {'abbrev': 'All', 'name': 'All Drugs and Chemicals'}, {'abbrev': 'ChanBlk', 'name': 'Channel Blockers'}, {'abbrev': 'VaDiAg', 'name': 'Vasodilator Agents'}, {'abbrev': 'Repr', 'name': 'Reproductive Control Agents'}, {'abbrev': 'BDCA', 'name': 'Bone Density Conservation Agents'}]}}, 'hasResults': False}\n"
     ]
    }
   ],
   "source": [
    "print(response.json())"
   ]
  },
  {
   "cell_type": "markdown",
   "metadata": {},
   "source": [
    "### NCT ID Extraction\n"
   ]
  },
  {
   "cell_type": "code",
   "execution_count": 31,
   "metadata": {},
   "outputs": [],
   "source": [
    "from bs4 import BeautifulSoup\n",
    "import csv\n",
    "import re\n",
    "import pandas as pd\n",
    "\n",
    "with open('clinical_trials.xml') as f:\n",
    "    data = f.read()"
   ]
  },
  {
   "cell_type": "code",
   "execution_count": 32,
   "metadata": {},
   "outputs": [],
   "source": [
    "soup = BeautifulSoup(data, 'xml')\n",
    "ids = soup.find_all('NCT_ID')"
   ]
  },
  {
   "cell_type": "code",
   "execution_count": 33,
   "metadata": {},
   "outputs": [
    {
     "name": "stdout",
     "output_type": "stream",
     "text": [
      "[<NCT_ID/>, <NCT_ID>NCT99999999</NCT_ID>, <NCT_ID>NCT02523014</NCT_ID>, <NCT_ID>NCT03093116</NCT_ID>, <NCT_ID>NCT03180268</NCT_ID>, <NCT_ID>NCT03224767</NCT_ID>, <NCT_ID>NCT03157128</NCT_ID>, <NCT_ID>NCT03785249</NCT_ID>, <NCT_ID>NCT03271372</NCT_ID>, <NCT_ID>NCT04231851</NCT_ID>, <NCT_ID>NCT99999999</NCT_ID>, <NCT_ID>NCT00887146</NCT_ID>, <NCT_ID>NCT04472767</NCT_ID>, <NCT_ID>NCT03775265</NCT_ID>, <NCT_ID>NCT02912949</NCT_ID>, <NCT_ID>NCT05524584</NCT_ID>, <NCT_ID>NCT04166318</NCT_ID>, <NCT_ID>NCT04529772</NCT_ID>, <NCT_ID>NCT04506086</NCT_ID>, <NCT_ID>NCT04920032</NCT_ID>, <NCT_ID>NCT04372433</NCT_ID>, <NCT_ID>NCT04143711</NCT_ID>, <NCT_ID/>, <NCT_ID>NCT04762953</NCT_ID>, <NCT_ID>NCT04435756</NCT_ID>, <NCT_ID>NCT04077463</NCT_ID>, <NCT_ID>NCT04637763</NCT_ID>, <NCT_ID>NCT04090398</NCT_ID>, <NCT_ID>NCT04068194</NCT_ID>, <NCT_ID>NCT04449874</NCT_ID>, <NCT_ID>NCT03375307</NCT_ID>, <NCT_ID>NCT03173950</NCT_ID>, <NCT_ID>NCT04835805</NCT_ID>, <NCT_ID>NCT04528836</NCT_ID>, <NCT_ID>NCT04530565</NCT_ID>, <NCT_ID>NCT04868877</NCT_ID>, <NCT_ID>NCT04814108</NCT_ID>, <NCT_ID>NCT04269902</NCT_ID>, <NCT_ID>NCT05488366</NCT_ID>, <NCT_ID>NCT05011058</NCT_ID>, <NCT_ID>NCT04457596</NCT_ID>, <NCT_ID>NCT04960709</NCT_ID>, <NCT_ID>NCT04180371</NCT_ID>, <NCT_ID>NCT05501899</NCT_ID>, <NCT_ID>NCT05360238</NCT_ID>, <NCT_ID>NCT02339571</NCT_ID>, <NCT_ID>NCT04214262</NCT_ID>, <NCT_ID>NCT04130542</NCT_ID>, <NCT_ID>NCT04701476</NCT_ID>, <NCT_ID>NCT04423029</NCT_ID>, <NCT_ID>NCT05118789</NCT_ID>, <NCT_ID>NCT05027139</NCT_ID>, <NCT_ID>NCT03744468</NCT_ID>, <NCT_ID>NCT04947319</NCT_ID>, <NCT_ID>NCT06028828</NCT_ID>, <NCT_ID>NCT04994717</NCT_ID>, <NCT_ID>NCT05079282</NCT_ID>, <NCT_ID>NCT04647916</NCT_ID>, <NCT_ID>NCT04982224</NCT_ID>, <NCT_ID>NCT04919811</NCT_ID>, <NCT_ID>NCT05039177</NCT_ID>, <NCT_ID>NCT05497531</NCT_ID>, <NCT_ID>NCT04764474</NCT_ID>, <NCT_ID>NCT04852887</NCT_ID>, <NCT_ID>NCT04843709</NCT_ID>, <NCT_ID>NCT04999969</NCT_ID>, <NCT_ID>NCT03504488</NCT_ID>, <NCT_ID>NCT04444921</NCT_ID>, <NCT_ID>NCT04686305</NCT_ID>, <NCT_ID>NCT05076942</NCT_ID>, <NCT_ID>NCT05111626</NCT_ID>, <NCT_ID>NCT05332054</NCT_ID>, <NCT_ID/>, <NCT_ID>NCT05143957</NCT_ID>, <NCT_ID>NCT04759586</NCT_ID>, <NCT_ID>NCT04513717</NCT_ID>, <NCT_ID>NCT04736121</NCT_ID>, <NCT_ID>NCT04553692</NCT_ID>, <NCT_ID>NCT05382286</NCT_ID>, <NCT_ID>NCT03739814</NCT_ID>, <NCT_ID>NCT04965493</NCT_ID>, <NCT_ID>NCT05040360</NCT_ID>, <NCT_ID>NCT05520567</NCT_ID>, <NCT_ID>NCT05364424</NCT_ID>, <NCT_ID>NCT04548752</NCT_ID>, <NCT_ID>NCT05308264</NCT_ID>, <NCT_ID>NCT05384626</NCT_ID>, <NCT_ID>NCT04137900</NCT_ID>, <NCT_ID>NCT04681131</NCT_ID>, <NCT_ID>NCT05048797</NCT_ID>, <NCT_ID>NCT05371093</NCT_ID>, <NCT_ID>NCT05322590</NCT_ID>, <NCT_ID>NCT03863145</NCT_ID>, <NCT_ID>NCT05410145</NCT_ID>, <NCT_ID>NCT05377996</NCT_ID>, <NCT_ID>NCT04879329</NCT_ID>, <NCT_ID>NCT05128825</NCT_ID>, <NCT_ID>NCT03488693</NCT_ID>, <NCT_ID>NCT05805501</NCT_ID>, <NCT_ID>NCT03382977</NCT_ID>, <NCT_ID>NCT05120349</NCT_ID>, <NCT_ID>NCT05726864</NCT_ID>, <NCT_ID>NCT05174169</NCT_ID>, <NCT_ID>NCT05240898</NCT_ID>, <NCT_ID>NCT03850574</NCT_ID>, <NCT_ID>NCT04559139</NCT_ID>, <NCT_ID>NCT05053152</NCT_ID>, <NCT_ID>NCT05580562</NCT_ID>, <NCT_ID>NCT05462717</NCT_ID>, <NCT_ID>NCT05844865</NCT_ID>, <NCT_ID>NCT05625399</NCT_ID>, <NCT_ID>NCT05440708</NCT_ID>, <NCT_ID>NCT05199818</NCT_ID>, <NCT_ID>NCT05514054</NCT_ID>, <NCT_ID>NCT05306340</NCT_ID>, <NCT_ID>NCT05281471</NCT_ID>, <NCT_ID>NCT03860883</NCT_ID>, <NCT_ID>NCT05600842</NCT_ID>, <NCT_ID>NCT05308446</NCT_ID>, <NCT_ID>NCT05602363</NCT_ID>, <NCT_ID>NCT05425940</NCT_ID>, <NCT_ID>NCT05501886</NCT_ID>, <NCT_ID>NCT05629585</NCT_ID>, <NCT_ID>NCT99999999</NCT_ID>, <NCT_ID>NCT05095376</NCT_ID>, <NCT_ID/>, <NCT_ID>NCT03496883</NCT_ID>, <NCT_ID>NCT03924414</NCT_ID>, <NCT_ID/>, <NCT_ID>NCT05975580</NCT_ID>, <NCT_ID>NCT03711032</NCT_ID>, <NCT_ID>NCT05014139</NCT_ID>, <NCT_ID>NCT04146051</NCT_ID>, <NCT_ID>NCT04174105</NCT_ID>, <NCT_ID>NCT05283577</NCT_ID>, <NCT_ID>NCT01574053</NCT_ID>, <NCT_ID>NCT03162549</NCT_ID>, <NCT_ID>NCT04202341</NCT_ID>, <NCT_ID>NCT03812653</NCT_ID>, <NCT_ID>NCT03907046</NCT_ID>, <NCT_ID>NCT04057898</NCT_ID>, <NCT_ID>NCT03936361</NCT_ID>, <NCT_ID>NCT04295811</NCT_ID>, <NCT_ID>NCT03981289</NCT_ID>, <NCT_ID>NCT04363697</NCT_ID>, <NCT_ID>NCT04297683</NCT_ID>, <NCT_ID>NCT04683848</NCT_ID>, <NCT_ID>NCT04338581</NCT_ID>, <NCT_ID>NCT04624659</NCT_ID>, <NCT_ID>NCT04795934</NCT_ID>, <NCT_ID>NCT04404101</NCT_ID>, <NCT_ID>NCT04861259</NCT_ID>, <NCT_ID>NCT03773575</NCT_ID>, <NCT_ID>NCT04586010</NCT_ID>, <NCT_ID>NCT99999999</NCT_ID>, <NCT_ID>NCT04770571</NCT_ID>, <NCT_ID>NCT04426539</NCT_ID>, <NCT_ID>NCT04640142</NCT_ID>, <NCT_ID>NCT04073563</NCT_ID>, <NCT_ID>NCT04790344</NCT_ID>, <NCT_ID>NCT05523167</NCT_ID>, <NCT_ID>NCT05046821</NCT_ID>, <NCT_ID>NCT04681066</NCT_ID>, <NCT_ID>NCT04886492</NCT_ID>, <NCT_ID>NCT04378790</NCT_ID>, <NCT_ID>NCT04982835</NCT_ID>, <NCT_ID>NCT04708782</NCT_ID>, <NCT_ID>NCT05348915</NCT_ID>, <NCT_ID>NCT04811092</NCT_ID>, <NCT_ID>NCT04945460</NCT_ID>, <NCT_ID>NCT04781387</NCT_ID>, <NCT_ID>NCT04634578</NCT_ID>, <NCT_ID>NCT04520776</NCT_ID>, <NCT_ID>NCT04564885</NCT_ID>, <NCT_ID>NCT04372615</NCT_ID>, <NCT_ID>NCT05775848</NCT_ID>, <NCT_ID>NCT05047172</NCT_ID>, <NCT_ID>NCT04896008</NCT_ID>, <NCT_ID>NCT05349721</NCT_ID>, <NCT_ID>NCT05548556</NCT_ID>, <NCT_ID>NCT05437263</NCT_ID>, <NCT_ID>NCT05379634</NCT_ID>, <NCT_ID>NCT04097145</NCT_ID>, <NCT_ID>NCT05403541</NCT_ID>, <NCT_ID>NCT05556096</NCT_ID>, <NCT_ID>NCT05232929</NCT_ID>, <NCT_ID>NCT05517603</NCT_ID>, <NCT_ID>NCT05123755</NCT_ID>, <NCT_ID>NCT03489278</NCT_ID>, <NCT_ID>NCT05363891</NCT_ID>, <NCT_ID>NCT05337124</NCT_ID>, <NCT_ID>NCT05268289</NCT_ID>, <NCT_ID>NCT04402632</NCT_ID>, <NCT_ID>NCT05686070</NCT_ID>, <NCT_ID>NCT04093219</NCT_ID>, <NCT_ID>NCT05462821</NCT_ID>, <NCT_ID>NCT05496868</NCT_ID>, <NCT_ID>NCT05254990</NCT_ID>, <NCT_ID>NCT05312879</NCT_ID>, <NCT_ID>NCT05295459</NCT_ID>, <NCT_ID>NCT04377945</NCT_ID>, <NCT_ID>NCT05327803</NCT_ID>, <NCT_ID>NCT05740007</NCT_ID>, <NCT_ID>NCT03706833</NCT_ID>, <NCT_ID>NCT05721573</NCT_ID>, <NCT_ID>NCT05257473</NCT_ID>, <NCT_ID>NCT05130268</NCT_ID>, <NCT_ID>NCT05070858</NCT_ID>, <NCT_ID>NCT05614063</NCT_ID>, <NCT_ID>NCT05685433</NCT_ID>, <NCT_ID>NCT05766813</NCT_ID>, <NCT_ID>NCT05581199</NCT_ID>, <NCT_ID>NCT05597436</NCT_ID>, <NCT_ID>NCT05702034</NCT_ID>, <NCT_ID>NCT05701917</NCT_ID>, <NCT_ID>NCT04940611</NCT_ID>, <NCT_ID>NCT05284747</NCT_ID>, <NCT_ID>NCT05222412</NCT_ID>, <NCT_ID>NCT05667142</NCT_ID>, <NCT_ID>NCT05378347</NCT_ID>, <NCT_ID>NCT05281484</NCT_ID>, <NCT_ID>NCT05934526</NCT_ID>, <NCT_ID>NCT05883436</NCT_ID>, <NCT_ID>NCT03661866</NCT_ID>, <NCT_ID>NCT04046224</NCT_ID>, <NCT_ID>NCT04680065</NCT_ID>, <NCT_ID>NCT05070858</NCT_ID>, <NCT_ID/>, <NCT_ID>NCT05230459</NCT_ID>, <NCT_ID>NCT03535220</NCT_ID>, <NCT_ID>NCT05211986</NCT_ID>, <NCT_ID/>, <NCT_ID>NCT05451212</NCT_ID>, <NCT_ID>NCT05354141</NCT_ID>, <NCT_ID/>, <NCT_ID/>, <NCT_ID>NCT05727878</NCT_ID>, <NCT_ID>NCT06154252</NCT_ID>, <NCT_ID>NCT05576077</NCT_ID>, <NCT_ID>NCT05611931</NCT_ID>, <NCT_ID>NCT05645744</NCT_ID>, <NCT_ID>NCT05828082</NCT_ID>, <NCT_ID>NCT04229979</NCT_ID>, <NCT_ID>NCT05572515</NCT_ID>, <NCT_ID>NCT05775159</NCT_ID>, <NCT_ID>NCT05771480</NCT_ID>, <NCT_ID>NCT05091346</NCT_ID>, <NCT_ID>NCT04752215</NCT_ID>, <NCT_ID>NCT05646862</NCT_ID>, <NCT_ID>NCT05548296</NCT_ID>, <NCT_ID>NCT05822752</NCT_ID>, <NCT_ID>NCT05633615</NCT_ID>, <NCT_ID>NCT05685602</NCT_ID>, <NCT_ID>NCT05705401</NCT_ID>, <NCT_ID>NCT05673200</NCT_ID>, <NCT_ID>NCT05600894</NCT_ID>, <NCT_ID>NCT05184712</NCT_ID>, <NCT_ID>NCT05814666</NCT_ID>, <NCT_ID>NCT06146257</NCT_ID>, <NCT_ID>NCT04340141</NCT_ID>, <NCT_ID>NCT06167733</NCT_ID>, <NCT_ID>NCT05983770</NCT_ID>, <NCT_ID>NCT05358353</NCT_ID>, <NCT_ID>NCT05624749</NCT_ID>, <NCT_ID>NCT05673148</NCT_ID>, <NCT_ID>NCT05241860</NCT_ID>, <NCT_ID>NCT05438212</NCT_ID>, <NCT_ID>NCT05836571</NCT_ID>, <NCT_ID>NCT05677490</NCT_ID>, <NCT_ID>NCT01322529</NCT_ID>, <NCT_ID>NCT03066739</NCT_ID>]\n"
     ]
    }
   ],
   "source": [
    "print(ids)"
   ]
  },
  {
   "cell_type": "code",
   "execution_count": 34,
   "metadata": {},
   "outputs": [],
   "source": [
    "nctids = []\n",
    "\n",
    "for item in ids:   \n",
    "    item = str(item)\n",
    "    if item.startswith(\"<NCT_ID>\"):\n",
    "        nct_id = item[len(\"<NCT_ID>\"):-len(\"</NCT_ID>\")]\n",
    "        nctids.append(nct_id)\n",
    "    else:\n",
    "        continue\n",
    "\n",
    "df = pd.DataFrame({\"NCT_ID\": nctids})"
   ]
  },
  {
   "cell_type": "code",
   "execution_count": 46,
   "metadata": {},
   "outputs": [],
   "source": [
    "df.to_csv(\"nct_ids.csv\", index = False)"
   ]
  },
  {
   "cell_type": "markdown",
   "metadata": {},
   "source": [
    "### Extract Data Based on NCT ID:"
   ]
  },
  {
   "cell_type": "code",
   "execution_count": 52,
   "metadata": {},
   "outputs": [
    {
     "name": "stdout",
     "output_type": "stream",
     "text": [
      "NCT99999999\n",
      "NCT02523014\n",
      "NCT03093116\n",
      "NCT03180268\n",
      "NCT03224767\n",
      "NCT03157128\n",
      "NCT03785249\n",
      "NCT03271372\n",
      "NCT04231851\n",
      "NCT99999999\n",
      "NCT00887146\n",
      "NCT04472767\n",
      "NCT03775265\n",
      "NCT02912949\n",
      "NCT05524584\n",
      "NCT04166318\n",
      "NCT04529772\n",
      "NCT04506086\n",
      "NCT04920032\n",
      "NCT04372433\n",
      "NCT04143711\n",
      "NCT04762953\n",
      "NCT04435756\n",
      "NCT04077463\n",
      "NCT04637763\n",
      "NCT04090398\n",
      "NCT04068194\n",
      "NCT04449874\n",
      "NCT03375307\n",
      "NCT03173950\n",
      "NCT04835805\n",
      "NCT04528836\n",
      "NCT04530565\n",
      "NCT04868877\n",
      "NCT04814108\n",
      "NCT04269902\n",
      "NCT05488366\n",
      "NCT05011058\n",
      "NCT04457596\n",
      "NCT04960709\n",
      "NCT04180371\n",
      "NCT05501899\n",
      "NCT05360238\n",
      "NCT02339571\n",
      "NCT04214262\n",
      "NCT04130542\n",
      "NCT04701476\n",
      "NCT04423029\n",
      "NCT05118789\n",
      "NCT05027139\n",
      "NCT03744468\n",
      "NCT04947319\n",
      "NCT06028828\n",
      "NCT04994717\n",
      "NCT05079282\n",
      "NCT04647916\n",
      "NCT04982224\n",
      "NCT04919811\n",
      "NCT05039177\n",
      "NCT05497531\n",
      "NCT04764474\n",
      "NCT04852887\n",
      "NCT04843709\n",
      "NCT04999969\n",
      "NCT03504488\n",
      "NCT04444921\n",
      "NCT04686305\n",
      "NCT05076942\n",
      "NCT05111626\n",
      "NCT05332054\n",
      "NCT05143957\n",
      "NCT04759586\n",
      "NCT04513717\n",
      "NCT04736121\n",
      "NCT04553692\n",
      "NCT05382286\n",
      "NCT03739814\n",
      "NCT04965493\n",
      "NCT05040360\n",
      "NCT05520567\n",
      "NCT05364424\n",
      "NCT04548752\n",
      "NCT05308264\n",
      "NCT05384626\n",
      "NCT04137900\n",
      "NCT04681131\n",
      "NCT05048797\n",
      "NCT05371093\n",
      "NCT05322590\n",
      "NCT03863145\n",
      "NCT05410145\n",
      "NCT05377996\n",
      "NCT04879329\n",
      "NCT05128825\n",
      "NCT03488693\n",
      "NCT05805501\n",
      "NCT03382977\n",
      "NCT05120349\n",
      "NCT05726864\n",
      "NCT05174169\n",
      "NCT05240898\n",
      "NCT03850574\n",
      "NCT04559139\n",
      "NCT05053152\n",
      "NCT05580562\n",
      "NCT05462717\n",
      "NCT05844865\n",
      "NCT05625399\n",
      "NCT05440708\n",
      "NCT05199818\n",
      "NCT05514054\n",
      "NCT05306340\n",
      "NCT05281471\n",
      "NCT03860883\n",
      "NCT05600842\n",
      "NCT05308446\n",
      "NCT05602363\n",
      "NCT05425940\n",
      "NCT05501886\n",
      "NCT05629585\n",
      "NCT99999999\n",
      "NCT05095376\n",
      "NCT03496883\n",
      "NCT03924414\n",
      "NCT05975580\n",
      "NCT03711032\n",
      "NCT05014139\n",
      "NCT04146051\n",
      "NCT04174105\n",
      "NCT05283577\n",
      "NCT01574053\n",
      "NCT03162549\n",
      "NCT04202341\n",
      "NCT03812653\n",
      "NCT03907046\n",
      "NCT04057898\n",
      "NCT03936361\n",
      "NCT04295811\n",
      "NCT03981289\n",
      "NCT04363697\n",
      "NCT04297683\n",
      "NCT04683848\n",
      "NCT04338581\n",
      "NCT04624659\n",
      "NCT04795934\n",
      "NCT04404101\n",
      "NCT04861259\n",
      "NCT03773575\n",
      "NCT04586010\n",
      "NCT99999999\n",
      "NCT04770571\n",
      "NCT04426539\n",
      "NCT04640142\n",
      "NCT04073563\n",
      "NCT04790344\n",
      "NCT05523167\n",
      "NCT05046821\n",
      "NCT04681066\n",
      "NCT04886492\n",
      "NCT04378790\n",
      "NCT04982835\n",
      "NCT04708782\n",
      "NCT05348915\n",
      "NCT04811092\n",
      "NCT04945460\n",
      "NCT04781387\n",
      "NCT04634578\n",
      "NCT04520776\n",
      "NCT04564885\n",
      "NCT04372615\n",
      "NCT05775848\n",
      "NCT05047172\n",
      "NCT04896008\n",
      "NCT05349721\n",
      "NCT05548556\n",
      "NCT05437263\n",
      "NCT05379634\n",
      "NCT04097145\n",
      "NCT05403541\n",
      "NCT05556096\n",
      "NCT05232929\n",
      "NCT05517603\n",
      "NCT05123755\n",
      "NCT03489278\n",
      "NCT05363891\n",
      "NCT05337124\n",
      "NCT05268289\n",
      "NCT04402632\n",
      "NCT05686070\n",
      "NCT04093219\n",
      "NCT05462821\n",
      "NCT05496868\n",
      "NCT05254990\n",
      "NCT05312879\n",
      "NCT05295459\n",
      "NCT04377945\n",
      "NCT05327803\n",
      "NCT05740007\n",
      "NCT03706833\n",
      "NCT05721573\n",
      "NCT05257473\n",
      "NCT05130268\n",
      "NCT05070858\n",
      "NCT05614063\n",
      "NCT05685433\n",
      "NCT05766813\n",
      "NCT05581199\n",
      "NCT05597436\n",
      "NCT05702034\n",
      "NCT05701917\n",
      "NCT04940611\n",
      "NCT05284747\n",
      "NCT05222412\n",
      "NCT05667142\n",
      "NCT05378347\n",
      "NCT05281484\n",
      "NCT05934526\n",
      "NCT05883436\n",
      "NCT03661866\n",
      "NCT04046224\n",
      "NCT04680065\n",
      "NCT05070858\n",
      "NCT05230459\n",
      "NCT03535220\n",
      "NCT05211986\n",
      "NCT05451212\n",
      "NCT05354141\n",
      "NCT05727878\n",
      "NCT06154252\n",
      "NCT05576077\n",
      "NCT05611931\n",
      "NCT05645744\n",
      "NCT05828082\n",
      "NCT04229979\n",
      "NCT05572515\n",
      "NCT05775159\n",
      "NCT05771480\n",
      "NCT05091346\n",
      "NCT04752215\n",
      "NCT05646862\n",
      "NCT05548296\n",
      "NCT05822752\n",
      "NCT05633615\n",
      "NCT05685602\n",
      "NCT05705401\n",
      "NCT05673200\n",
      "NCT05600894\n",
      "NCT05184712\n",
      "NCT05814666\n",
      "NCT06146257\n",
      "NCT04340141\n",
      "NCT06167733\n",
      "NCT05983770\n",
      "NCT05358353\n",
      "NCT05624749\n",
      "NCT05673148\n",
      "NCT05241860\n",
      "NCT05438212\n",
      "NCT05836571\n",
      "NCT05677490\n",
      "NCT01322529\n",
      "NCT03066739\n"
     ]
    }
   ],
   "source": [
    "import requests\n",
    "import json\n",
    "\n",
    "base_url = \"https://clinicaltrials.gov/api/v2\"\n",
    "trials_info = []\n",
    "names = ['University of California, Irvine', 'University of California - Irvine', \"University of California-Irvine\", \"University of California Irvine\"]\n",
    "for nct_id in nctids:\n",
    "    print(nct_id)\n",
    "    url = f\"{base_url}/studies/{nct_id}\"\n",
    "\n",
    "    response = requests.get(url)\n",
    "\n",
    "    if response.status_code == 200:\n",
    "        protocol = {}\n",
    "        protocol['NCT_ID'] = nct_id    \n",
    "        data = response.json()\n",
    "        # title extraction:\n",
    "        data = data['protocolSection']\n",
    "        protocol['TITLE'] = data[\"identificationModule\"][\"officialTitle\"]\n",
    "        protocol['SHORT_TITLE'] = data[\"identificationModule\"][\"briefTitle\"]\n",
    "        protocol['SPONSOR'] = data['sponsorCollaboratorsModule'][\"leadSponsor\"][\"name\"]\n",
    "        protocol['DETAILED_ELIGIBILITY'] = data[\"eligibilityModule\"][\"eligibilityCriteria\"]\n",
    "        if \"detailedDescription\" in data['descriptionModule']:\n",
    "            protocol[\"DESCRIPTION\"] = data['descriptionModule'][\"detailedDescription\"]\n",
    "        protocol[\"SUMMARY\"] = data[\"descriptionModule\"][\"briefSummary\"]\n",
    "        protocol[\"STATUS\"] = data['statusModule']['overallStatus']\n",
    "        if \"outcomesModule\" in data:\n",
    "            primary_outcomes = data[\"outcomesModule\"][\"primaryOutcomes\"]\n",
    "            if primary_outcomes:\n",
    "                outcome = primary_outcomes[0]\n",
    "                if \"description\" in outcome:\n",
    "                    protocol[\"OUTCOME_DESCRIPTION\"] = outcome[\"description\"]\n",
    "                protocol[\"OUTCOME_MEASURE\"] = outcome[\"measure\"]\n",
    "                protocol[\"OUTCOME_TIMEFRAME\"] = outcome[\"timeFrame\"]\n",
    "\n",
    "        if isinstance(data[\"eligibilityModule\"][\"stdAges\"],list):\n",
    "            text = \"\"\n",
    "            for std in data[\"eligibilityModule\"][\"stdAges\"]:\n",
    "                text += std +', '\n",
    "            text = text.rstrip(', ')\n",
    "            protocol[\"AGE_DESCRIPTION\"] = text\n",
    "        else:\n",
    "            protocol[\"AGE_DESCRIPTION\"] = data[\"eligibilityModule\"][\"stdAges\"]\n",
    "\n",
    "        if \"contactsLocationsModule\" in data:\n",
    "            contacts_locations_module = data[\"contactsLocationsModule\"]\n",
    "            if \"locations\" in contacts_locations_module:\n",
    "                locations = contacts_locations_module[\"locations\"]\n",
    "                for ele in locations:\n",
    "                    if ele.get('facility') in names:\n",
    "                        if \"contacts\" in ele and ele[\"contacts\"]:\n",
    "                            protocol[\"INVESTIGATOR_NAME\"] = ele[\"contacts\"][0].get('name')\n",
    "                            break  # Exit loop after finding the first matching location\n",
    "\n",
    "    else:\n",
    "        continue\n",
    "    trials_info.append(protocol)"
   ]
  },
  {
   "cell_type": "code",
   "execution_count": 61,
   "metadata": {},
   "outputs": [],
   "source": [
    "import requests\n",
    "import json\n",
    "\n",
    "base_url = \"https://clinicaltrials.gov/api/v2\"\n",
    "trials_info = []\n",
    "nct_id = \"NCT05130268\"\n",
    "url = f\"{base_url}/studies/{nct_id}\"\n",
    "\n",
    "response = requests.get(url)\n",
    "\n",
    "if response.status_code == 200:\n",
    "    data = response.json()"
   ]
  },
  {
   "cell_type": "code",
   "execution_count": 62,
   "metadata": {},
   "outputs": [],
   "source": [
    "with open(\"more_data.json\", \"w\") as json_file:\n",
    "        json.dump(data, json_file)"
   ]
  },
  {
   "cell_type": "code",
   "execution_count": 60,
   "metadata": {},
   "outputs": [],
   "source": [
    "for ele in data[\"protocolSection\"]['contactsLocationsModule'][\"locations\"]:\n",
    "    if ele['facility'] == \"University of California - Irvine\":\n",
    "        print(ele[\"contacts\"][0]['name'])"
   ]
  },
  {
   "cell_type": "code",
   "execution_count": 42,
   "metadata": {},
   "outputs": [],
   "source": [
    "protocol = {}\n",
    "protocol['NCT_ID'] = nct_id    \n",
    "data = response.json()\n",
    "# title extraction:\n",
    "data = data['protocolSection']\n",
    "protocol['TITLE'] = data[\"identificationModule\"][\"officialTitle\"]\n",
    "protocol['SHORT_TITLE'] = data[\"identificationModule\"][\"briefTitle\"]\n",
    "protocol['SPONSOR'] = data['sponsorCollaboratorsModule'][\"leadSponsor\"][\"name\"]\n",
    "protocol['DETAILED_ELIGIBILITY'] = data[\"eligibilityModule\"][\"eligibilityCriteria\"]\n",
    "if \"detailedDescription\" in data['descriptionModule']:\n",
    "    protocol[\"DESCRIPTION\"] = data['descriptionModule'][\"detailedDescription\"]\n",
    "protocol[\"SUMMARY\"] = data[\"descriptionModule\"][\"briefSummary\"]\n",
    "protocol[\"STATUS\"] = data['statusModule']['overallStatus']\n",
    "protocol[\"OUTCOME_DESCRIPTION\"] = data[\"outcomesModule\"][\"primaryOutcomes\"][0][\"description\"]\n",
    "protocol[\"OUTCOME_MEASURE\"] = data[\"outcomesModule\"][\"primaryOutcomes\"][0][\"measure\"]\n",
    "protocol[\"OUTCOME_TIMEFRAME\"] = data[\"outcomesModule\"][\"primaryOutcomes\"][0][\"timeFrame\"]\n",
    "# protocol[\"AGE_DESCRIPTION\"] = data[\"eligibilityModule\"][\"stdAges\"]\n",
    "text = \"\"\n",
    "for std in data[\"eligibilityModule\"][\"stdAges\"]:\n",
    "    text += std +', '\n",
    "text = text.rstrip(', ')\n",
    "protocol[\"AGE_DESCRIPTION\"] = text\n",
    "\n",
    "for ele in data['contactsLocationsModule'][\"locations\"]:\n",
    "    if ele['facility'] == \"University of California - Irvine\":\n",
    "        protocol[\"INVESTIGATOR_NAME\"] = ele[\"contacts\"][0]['name']"
   ]
  },
  {
   "cell_type": "code",
   "execution_count": 51,
   "metadata": {},
   "outputs": [
    {
     "data": {
      "text/plain": [
       "{'NCT_ID': 'NCT03066739',\n",
       " 'TITLE': 'Effect of Ultra-low Dose Naloxone on Remifentanil-Induced Hyperalgesia',\n",
       " 'SHORT_TITLE': 'Effect of Ultra-low Dose Naloxone on Remifentanil-Induced Hyperalgesia',\n",
       " 'SPONSOR': 'University of California, Irvine',\n",
       " 'DETAILED_ELIGIBILITY': 'Inclusion Criteria:\\n\\n* Subjects who provide written informed consent.\\n* Age 18 years old or older (no upper age limit for inclusion)\\n* Gender: male or female.\\n* Surgery: Posterior spinal fusions\\n\\nExclusion Criteria:\\n\\n* Allergy to opiates\\n* Chronic pain other than the primary indication for surgery\\n* Psychiatric illness\\n* History of substance abuse problem including alcohol \\\\&/or cannabis\\n* BMI \\\\> 35\\n* Subjects under 18 years of age.\\n* Subject without the capacity to give written informed consent. 8. Female subjects who are pregnant',\n",
       " 'DESCRIPTION': 'Purpose:\\n\\nOpioid antagonists at ultra-low doses have been used with opioid agonists to prevent or limit opioid tolerance. Remifentanil, a rapid onset/offset opioid that is often used as an anesthesia adjunct intraoperatively, has been associated with the development of hyperalgesia and opioid tolerance postoperatively. Opioid-induced hyperalgesia (OIH) induced by remifentanil intraoperatively may be a factor contributing to an increase in postoperative pain as well as difficulty in controlling such pain. The purpose of this study will be to evaluate whether an ultra-low dose of naloxone, an opioid antagonist, could block remifentanil-induced hyperalgesia and tolerance following surgery.\\n\\nThis research will help elucidate the degree of OIH after surgeries involving remifentanil and determine if a new technique can be employed to decrease remifentanil-induced OIH. By mitigating OIH, patients should have a decrease in postoperative pain and an increase in patient satisfaction at UCI and other hospitals where such a technique is employed.\\n\\nThere are 3 study groups: (1) low dose remifentanil (LO, 0.1 micrograms/kg/mL), (2) high dose remifentanil (0.4 mg) combined with placebo (HI, 0.4 micrograms/kg/mL), or (3) high dose remifentanil (0.4 mg) combined with ultra-low dose naloxone (HN, 0.004 micrograms/kg/mL naloxone).\\n\\nBackground:\\n\\nOpioid-induced hyperalgesia is a paradoxical increase in pain sensitivity following opioid exposure. The mechanism for this is likely due to an alteration in opioid receptor signaling with disruption of G-protein coupling and opioid-induced activation and hypertrophy of spinal glial cells (gliosis). Opioid-induced hyperalgesia has been noted with many different opioids, and the most well documented hyperalgesic effect is with remifentanil.\\n\\nVarious agents have been used in an attempt to reduce the development hyperalgesia following remifentanil. While there are few reports on the effect of ultra-low dose naloxone on opioid-induced hyperalgesia, recent evidence is emerging regarding its use in pain management. Ultra-low dose naloxone has been shown to prevent remifentanil-induced pain hypersensitivities (allodynia and hyperalgesia) in rats. However, there are little to no studies on reducing the adverse effects of remifentanil with naloxone in human subjects.\\n\\nExisting knowledge and previous research:\\n\\nAttempts have been made with various agents to reduce the development of tolerance and hyperalgesia following remifentanil. Postoperative hyperalgesia and its prevention has been studied with ketamine , Magnesium , Gabapentin, Clonidine, Lornoxicam , Dextromethorphan , Paracetamol , Morphine , Dexmedetomidine , Adenosine, COX inhibitors , Amantadine , Nitrous oxide, Fentanyl, Pregabalin , Buprenorphine, Midazolam, Dexamethasone. Relevant to our current hypothesis is the report that concomitant administration of ultra-low dose naloxone and naltrexone with remifentanil prevented OIH. However, there are no studies on reducing the adverse effects of remifentanil with ultra-low dose naloxone in human subjects.\\n\\nWhile the traditional role of opiate antagonists have been in cases of opioid overmedication, recent evidence is emerging regarding their use in pain management. Gan et al. 1997 used an ultra-low dose naloxone infusion (0.00025 mg/kg/h or 0.001 mg/kg/h) in postoperative patients receiving IV morphine via a patient-controlled analgesia (PCA) device. Good pain relief was experienced in all groups, however consumption of PCA morphine was significantly reduced in patients that received the lowest infusion of naloxone and opioid-induced side effects (nausea, vomiting, pruritus) were reduced by naloxone at both dose.\\n\\nNaloxone and/or naltrexone at ultra-low doses may enhance the analgesic effects of opioids, enhance the antinociceptive effects of methadone, and decrease or block the development of opioid tolerance in rodents. The combination of oxycodone with an ultra-low dose of the antagonist naltrexone as a singular oral medication, Oxytrex, has been developed to prevent the development of tolerance in the treatment of moderate to severe chronic pain.\\n\\nAguado et. al. 2013 recently evaluated the effects of the opioid antagonist, naloxone, on remifentanil-induced tolerance or hyperalgesia in rats. Hyperalgesia was considered to be a decrease in mechanical nociceptive thresholds (von Frey), while opioid tolerance was considered to be a decrease in sevoflurane MAC reduction by remifentanil. An ultra-low dose of naloxone was able to block remifentanil-induced hyperalgesia and the MAC increase associated with hyperalgesia, but did not change opioid tolerance under inhaled anesthesia.',\n",
       " 'SUMMARY': 'The purpose of this study is to evaluate whether using ultra-low dose naloxone, an opioid antagonist, has the potential to block remifentanil-induced hyperalgesia and tolerance following surgery.\\n\\nThere are 3 study groups: (1) low dose remifentanil (LO, 0.1 micrograms/kg/mL), (2) high dose remifentanil (0.4 mg) combined with placebo (HI, 0.4 micrograms/kg/mL), or (3) high dose remifentanil (0.4 mg) combined with ultra-low dose naloxone (HN, 0.004 micrograms/kg/mL naloxone).\\n\\nThe hypothesis of the study is that occurrence of remifentanil-induced hyperalgesia (low score in mechanical pain threshold) in the HN group will be lower than in the HI group.',\n",
       " 'STATUS': 'RECRUITING',\n",
       " 'OUTCOME_DESCRIPTION': 'Mechanical Pain Threshold-determined by von Frey filaments around the incision site',\n",
       " 'OUTCOME_MEASURE': 'Occurrence of Opioid-induced hyperalgesia (OIH)',\n",
       " 'OUTCOME_TIMEFRAME': '24 hr Post-surgery',\n",
       " 'AGE_DESCRIPTION': 'ADULT, OLDER_ADULT'}"
      ]
     },
     "execution_count": 51,
     "metadata": {},
     "output_type": "execute_result"
    }
   ],
   "source": [
    "protocol"
   ]
  },
  {
   "cell_type": "code",
   "execution_count": 54,
   "metadata": {},
   "outputs": [],
   "source": [
    "with open(\"study_data.json\", \"w\") as json_file:\n",
    "        json.dump(trials_info, json_file)"
   ]
  },
  {
   "cell_type": "code",
   "execution_count": 90,
   "metadata": {},
   "outputs": [
    {
     "name": "stdout",
     "output_type": "stream",
     "text": [
      "['NCT05645744', 'NCT12345678']\n"
     ]
    }
   ],
   "source": [
    "import re\n",
    "\n",
    "text = \"The trial identifier is NCT05645744 and NCT12345678 is another trial.\"\n",
    "\n",
    "pattern = r'\\bNCT\\d{8}\\b'\n",
    "\n",
    "matches = re.findall(pattern, text)\n",
    "\n",
    "print(matches) "
   ]
  },
  {
   "cell_type": "code",
   "execution_count": null,
   "metadata": {},
   "outputs": [],
   "source": [
    "if len(matches)>0:\n",
    "\n",
    "    matches_text = \", \".join(matches)\n",
    "    results = db.similarity_search(matches_text, k=3)\n",
    "    \n",
    "else:\n",
    "    results = db.similarity_search(question, k=3)\n"
   ]
  },
  {
   "cell_type": "markdown",
   "metadata": {},
   "source": [
    "#### History Aware Retriever Trial:"
   ]
  },
  {
   "cell_type": "code",
   "execution_count": 16,
   "metadata": {},
   "outputs": [
    {
     "name": "stdout",
     "output_type": "stream",
     "text": [
      "Requirement already satisfied: matplotlib in /Library/Frameworks/Python.framework/Versions/3.10/lib/python3.10/site-packages (3.9.0)\n",
      "Requirement already satisfied: packaging>=20.0 in /Library/Frameworks/Python.framework/Versions/3.10/lib/python3.10/site-packages (from matplotlib) (23.2)\n",
      "Requirement already satisfied: python-dateutil>=2.7 in /Library/Frameworks/Python.framework/Versions/3.10/lib/python3.10/site-packages (from matplotlib) (2.9.0.post0)\n",
      "Requirement already satisfied: fonttools>=4.22.0 in /Library/Frameworks/Python.framework/Versions/3.10/lib/python3.10/site-packages (from matplotlib) (4.53.0)\n",
      "Requirement already satisfied: contourpy>=1.0.1 in /Library/Frameworks/Python.framework/Versions/3.10/lib/python3.10/site-packages (from matplotlib) (1.2.1)\n",
      "Requirement already satisfied: kiwisolver>=1.3.1 in /Library/Frameworks/Python.framework/Versions/3.10/lib/python3.10/site-packages (from matplotlib) (1.4.5)\n",
      "Requirement already satisfied: pillow>=8 in /Library/Frameworks/Python.framework/Versions/3.10/lib/python3.10/site-packages (from matplotlib) (10.3.0)\n",
      "Requirement already satisfied: pyparsing>=2.3.1 in /Library/Frameworks/Python.framework/Versions/3.10/lib/python3.10/site-packages (from matplotlib) (3.1.2)\n",
      "Requirement already satisfied: numpy>=1.23 in /Library/Frameworks/Python.framework/Versions/3.10/lib/python3.10/site-packages (from matplotlib) (1.26.4)\n",
      "Requirement already satisfied: cycler>=0.10 in /Library/Frameworks/Python.framework/Versions/3.10/lib/python3.10/site-packages (from matplotlib) (0.12.1)\n",
      "Requirement already satisfied: six>=1.5 in /Library/Frameworks/Python.framework/Versions/3.10/lib/python3.10/site-packages (from python-dateutil>=2.7->matplotlib) (1.16.0)\n",
      "\u001b[33mWARNING: You are using pip version 21.2.3; however, version 24.0 is available.\n",
      "You should consider upgrading via the '/Library/Frameworks/Python.framework/Versions/3.10/bin/python3.10 -m pip install --upgrade pip' command.\u001b[0m\n",
      "Requirement already satisfied: scipy in /Library/Frameworks/Python.framework/Versions/3.10/lib/python3.10/site-packages (1.13.1)\n",
      "Requirement already satisfied: numpy<2.3,>=1.22.4 in /Library/Frameworks/Python.framework/Versions/3.10/lib/python3.10/site-packages (from scipy) (1.26.4)\n",
      "\u001b[33mWARNING: You are using pip version 21.2.3; however, version 24.0 is available.\n",
      "You should consider upgrading via the '/Library/Frameworks/Python.framework/Versions/3.10/bin/python3.10 -m pip install --upgrade pip' command.\u001b[0m\n",
      "Requirement already satisfied: plotly in /Library/Frameworks/Python.framework/Versions/3.10/lib/python3.10/site-packages (5.22.0)\n",
      "Requirement already satisfied: packaging in /Library/Frameworks/Python.framework/Versions/3.10/lib/python3.10/site-packages (from plotly) (23.2)\n",
      "Requirement already satisfied: tenacity>=6.2.0 in /Library/Frameworks/Python.framework/Versions/3.10/lib/python3.10/site-packages (from plotly) (8.3.0)\n",
      "\u001b[33mWARNING: You are using pip version 21.2.3; however, version 24.0 is available.\n",
      "You should consider upgrading via the '/Library/Frameworks/Python.framework/Versions/3.10/bin/python3.10 -m pip install --upgrade pip' command.\u001b[0m\n",
      "Requirement already satisfied: scikit-learn in /Library/Frameworks/Python.framework/Versions/3.10/lib/python3.10/site-packages (1.5.0)\n",
      "Requirement already satisfied: joblib>=1.2.0 in /Library/Frameworks/Python.framework/Versions/3.10/lib/python3.10/site-packages (from scikit-learn) (1.4.2)\n",
      "Requirement already satisfied: scipy>=1.6.0 in /Library/Frameworks/Python.framework/Versions/3.10/lib/python3.10/site-packages (from scikit-learn) (1.13.1)\n",
      "Requirement already satisfied: numpy>=1.19.5 in /Library/Frameworks/Python.framework/Versions/3.10/lib/python3.10/site-packages (from scikit-learn) (1.26.4)\n",
      "Requirement already satisfied: threadpoolctl>=3.1.0 in /Library/Frameworks/Python.framework/Versions/3.10/lib/python3.10/site-packages (from scikit-learn) (3.5.0)\n",
      "\u001b[33mWARNING: You are using pip version 21.2.3; however, version 24.0 is available.\n",
      "You should consider upgrading via the '/Library/Frameworks/Python.framework/Versions/3.10/bin/python3.10 -m pip install --upgrade pip' command.\u001b[0m\n",
      "Collecting langchain-openai\n",
      "  Downloading langchain_openai-0.1.8-py3-none-any.whl (38 kB)\n",
      "Collecting openai<2.0.0,>=1.26.0\n",
      "  Downloading openai-1.31.0-py3-none-any.whl (324 kB)\n",
      "\u001b[K     |████████████████████████████████| 324 kB 2.7 MB/s eta 0:00:01\n",
      "\u001b[?25hCollecting langchain-core<0.3,>=0.2.2\n",
      "  Using cached langchain_core-0.2.3-py3-none-any.whl (310 kB)\n",
      "Collecting tiktoken<1,>=0.7\n",
      "  Using cached tiktoken-0.7.0-cp310-cp310-macosx_11_0_arm64.whl (906 kB)\n",
      "Requirement already satisfied: jsonpatch<2.0,>=1.33 in /Library/Frameworks/Python.framework/Versions/3.10/lib/python3.10/site-packages (from langchain-core<0.3,>=0.2.2->langchain-openai) (1.33)\n",
      "Requirement already satisfied: packaging<24.0,>=23.2 in /Library/Frameworks/Python.framework/Versions/3.10/lib/python3.10/site-packages (from langchain-core<0.3,>=0.2.2->langchain-openai) (23.2)\n",
      "Requirement already satisfied: tenacity<9.0.0,>=8.1.0 in /Library/Frameworks/Python.framework/Versions/3.10/lib/python3.10/site-packages (from langchain-core<0.3,>=0.2.2->langchain-openai) (8.3.0)\n",
      "Requirement already satisfied: langsmith<0.2.0,>=0.1.65 in /Library/Frameworks/Python.framework/Versions/3.10/lib/python3.10/site-packages (from langchain-core<0.3,>=0.2.2->langchain-openai) (0.1.69)\n",
      "Requirement already satisfied: PyYAML>=5.3 in /Library/Frameworks/Python.framework/Versions/3.10/lib/python3.10/site-packages (from langchain-core<0.3,>=0.2.2->langchain-openai) (6.0.1)\n",
      "Requirement already satisfied: pydantic<3,>=1 in /Library/Frameworks/Python.framework/Versions/3.10/lib/python3.10/site-packages (from langchain-core<0.3,>=0.2.2->langchain-openai) (1.10.15)\n",
      "Requirement already satisfied: jsonpointer>=1.9 in /Library/Frameworks/Python.framework/Versions/3.10/lib/python3.10/site-packages (from jsonpatch<2.0,>=1.33->langchain-core<0.3,>=0.2.2->langchain-openai) (2.4)\n",
      "Requirement already satisfied: orjson<4.0.0,>=3.9.14 in /Library/Frameworks/Python.framework/Versions/3.10/lib/python3.10/site-packages (from langsmith<0.2.0,>=0.1.65->langchain-core<0.3,>=0.2.2->langchain-openai) (3.10.3)\n",
      "Requirement already satisfied: requests<3,>=2 in /Library/Frameworks/Python.framework/Versions/3.10/lib/python3.10/site-packages (from langsmith<0.2.0,>=0.1.65->langchain-core<0.3,>=0.2.2->langchain-openai) (2.32.2)\n",
      "Requirement already satisfied: anyio<5,>=3.5.0 in /Library/Frameworks/Python.framework/Versions/3.10/lib/python3.10/site-packages (from openai<2.0.0,>=1.26.0->langchain-openai) (3.7.1)\n",
      "Requirement already satisfied: typing-extensions<5,>=4.7 in /Library/Frameworks/Python.framework/Versions/3.10/lib/python3.10/site-packages (from openai<2.0.0,>=1.26.0->langchain-openai) (4.12.0)\n",
      "Requirement already satisfied: httpx<1,>=0.23.0 in /Library/Frameworks/Python.framework/Versions/3.10/lib/python3.10/site-packages (from openai<2.0.0,>=1.26.0->langchain-openai) (0.23.3)\n",
      "Requirement already satisfied: sniffio in /Library/Frameworks/Python.framework/Versions/3.10/lib/python3.10/site-packages (from openai<2.0.0,>=1.26.0->langchain-openai) (1.3.1)\n",
      "Collecting distro<2,>=1.7.0\n",
      "  Downloading distro-1.9.0-py3-none-any.whl (20 kB)\n",
      "Requirement already satisfied: tqdm>4 in /Library/Frameworks/Python.framework/Versions/3.10/lib/python3.10/site-packages (from openai<2.0.0,>=1.26.0->langchain-openai) (4.66.4)\n",
      "Requirement already satisfied: idna>=2.8 in /Library/Frameworks/Python.framework/Versions/3.10/lib/python3.10/site-packages (from anyio<5,>=3.5.0->openai<2.0.0,>=1.26.0->langchain-openai) (3.7)\n",
      "Requirement already satisfied: exceptiongroup in /Library/Frameworks/Python.framework/Versions/3.10/lib/python3.10/site-packages (from anyio<5,>=3.5.0->openai<2.0.0,>=1.26.0->langchain-openai) (1.2.1)\n",
      "Requirement already satisfied: rfc3986[idna2008]<2,>=1.3 in /Library/Frameworks/Python.framework/Versions/3.10/lib/python3.10/site-packages (from httpx<1,>=0.23.0->openai<2.0.0,>=1.26.0->langchain-openai) (1.5.0)\n",
      "Requirement already satisfied: httpcore<0.17.0,>=0.15.0 in /Library/Frameworks/Python.framework/Versions/3.10/lib/python3.10/site-packages (from httpx<1,>=0.23.0->openai<2.0.0,>=1.26.0->langchain-openai) (0.16.3)\n",
      "Requirement already satisfied: certifi in /Library/Frameworks/Python.framework/Versions/3.10/lib/python3.10/site-packages (from httpx<1,>=0.23.0->openai<2.0.0,>=1.26.0->langchain-openai) (2024.2.2)\n",
      "Requirement already satisfied: h11<0.15,>=0.13 in /Library/Frameworks/Python.framework/Versions/3.10/lib/python3.10/site-packages (from httpcore<0.17.0,>=0.15.0->httpx<1,>=0.23.0->openai<2.0.0,>=1.26.0->langchain-openai) (0.14.0)\n",
      "Requirement already satisfied: charset-normalizer<4,>=2 in /Library/Frameworks/Python.framework/Versions/3.10/lib/python3.10/site-packages (from requests<3,>=2->langsmith<0.2.0,>=0.1.65->langchain-core<0.3,>=0.2.2->langchain-openai) (3.3.2)\n",
      "Requirement already satisfied: urllib3<3,>=1.21.1 in /Library/Frameworks/Python.framework/Versions/3.10/lib/python3.10/site-packages (from requests<3,>=2->langsmith<0.2.0,>=0.1.65->langchain-core<0.3,>=0.2.2->langchain-openai) (2.2.1)\n",
      "Requirement already satisfied: regex>=2022.1.18 in /Library/Frameworks/Python.framework/Versions/3.10/lib/python3.10/site-packages (from tiktoken<1,>=0.7->langchain-openai) (2024.5.15)\n",
      "Installing collected packages: distro, tiktoken, openai, langchain-core, langchain-openai\n",
      "  Attempting uninstall: openai\n",
      "    Found existing installation: openai 0.28.1\n",
      "    Uninstalling openai-0.28.1:\n",
      "      Successfully uninstalled openai-0.28.1\n",
      "  Attempting uninstall: langchain-core\n",
      "    Found existing installation: langchain-core 0.2.1\n",
      "    Uninstalling langchain-core-0.2.1:\n",
      "      Successfully uninstalled langchain-core-0.2.1\n",
      "Successfully installed distro-1.9.0 langchain-core-0.2.3 langchain-openai-0.1.8 openai-1.31.0 tiktoken-0.7.0\n",
      "\u001b[33mWARNING: You are using pip version 21.2.3; however, version 24.0 is available.\n",
      "You should consider upgrading via the '/Library/Frameworks/Python.framework/Versions/3.10/bin/python3.10 -m pip install --upgrade pip' command.\u001b[0m\n"
     ]
    }
   ],
   "source": [
    "!pip3 install matplotlib\n",
    "!pip3 install scipy \n",
    "!pip3 install plotly\n",
    "!pip3 install scikit-learn\n",
    "!pip3 install -U langchain-openai"
   ]
  },
  {
   "cell_type": "code",
   "execution_count": 4,
   "metadata": {},
   "outputs": [],
   "source": [
    "import databutton as db\n",
    "import streamlit as st\n",
    "import time \n",
    "import openai\n",
    "from langchain.chains import RetrievalQA\n",
    "from langchain.chat_models import ChatOpenAI\n",
    "from langchain.embeddings.openai import OpenAIEmbeddings\n",
    "from langchain.vectorstores.faiss import FAISS\n",
    "from brain import custom_search\n",
    "import os\n",
    "import re "
   ]
  },
  {
   "cell_type": "code",
   "execution_count": 5,
   "metadata": {},
   "outputs": [],
   "source": [
    "with open(r\"openai_key.txt\", 'r') as file:\n",
    "    api_key = file.read().strip()\n",
    "    \n",
    "os.environ[\"OPENAI_API_KEY\"] = api_key\n",
    "openai.api_key = api_key\n"
   ]
  },
  {
   "cell_type": "code",
   "execution_count": 8,
   "metadata": {},
   "outputs": [
    {
     "name": "stdout",
     "output_type": "stream",
     "text": [
      "/Users/gshipurk/Documents/Clinical Trials/Clinical-Trials\n"
     ]
    }
   ],
   "source": [
    "!pwd"
   ]
  },
  {
   "cell_type": "code",
   "execution_count": 9,
   "metadata": {},
   "outputs": [],
   "source": [
    "faiss_path = r\"new_db\"\n",
    "embeddings = OpenAIEmbeddings(openai_api_key=api_key)\n",
    "db = FAISS.load_local(faiss_path, embeddings, allow_dangerous_deserialization=\"True\")"
   ]
  },
  {
   "cell_type": "code",
   "execution_count": 3,
   "metadata": {},
   "outputs": [
    {
     "name": "stdout",
     "output_type": "stream",
     "text": [
      "Requirement already satisfied: langchain in /Library/Frameworks/Python.framework/Versions/3.10/lib/python3.10/site-packages (0.0.316)\n",
      "Collecting langchain\n",
      "  Using cached langchain-0.2.1-py3-none-any.whl (973 kB)\n",
      "Collecting langchain-community\n",
      "  Using cached langchain_community-0.2.1-py3-none-any.whl (2.1 MB)\n",
      "Requirement already satisfied: numpy<2,>=1 in /Library/Frameworks/Python.framework/Versions/3.10/lib/python3.10/site-packages (from langchain) (1.26.4)\n",
      "Requirement already satisfied: requests<3,>=2 in /Library/Frameworks/Python.framework/Versions/3.10/lib/python3.10/site-packages (from langchain) (2.32.2)\n",
      "Requirement already satisfied: langchain-core<0.3.0,>=0.2.0 in /Library/Frameworks/Python.framework/Versions/3.10/lib/python3.10/site-packages (from langchain) (0.2.1)\n",
      "Requirement already satisfied: async-timeout<5.0.0,>=4.0.0 in /Library/Frameworks/Python.framework/Versions/3.10/lib/python3.10/site-packages (from langchain) (4.0.3)\n",
      "Requirement already satisfied: pydantic<3,>=1 in /Library/Frameworks/Python.framework/Versions/3.10/lib/python3.10/site-packages (from langchain) (1.10.15)\n",
      "Requirement already satisfied: SQLAlchemy<3,>=1.4 in /Library/Frameworks/Python.framework/Versions/3.10/lib/python3.10/site-packages (from langchain) (2.0.30)\n",
      "Requirement already satisfied: tenacity<9.0.0,>=8.1.0 in /Library/Frameworks/Python.framework/Versions/3.10/lib/python3.10/site-packages (from langchain) (8.3.0)\n",
      "Collecting langsmith<0.2.0,>=0.1.17\n",
      "  Using cached langsmith-0.1.69-py3-none-any.whl (124 kB)\n",
      "Requirement already satisfied: aiohttp<4.0.0,>=3.8.3 in /Library/Frameworks/Python.framework/Versions/3.10/lib/python3.10/site-packages (from langchain) (3.9.5)\n",
      "Requirement already satisfied: PyYAML>=5.3 in /Library/Frameworks/Python.framework/Versions/3.10/lib/python3.10/site-packages (from langchain) (6.0.1)\n",
      "Requirement already satisfied: langchain-text-splitters<0.3.0,>=0.2.0 in /Library/Frameworks/Python.framework/Versions/3.10/lib/python3.10/site-packages (from langchain) (0.2.0)\n",
      "Requirement already satisfied: dataclasses-json<0.7,>=0.5.7 in /Library/Frameworks/Python.framework/Versions/3.10/lib/python3.10/site-packages (from langchain-community) (0.5.12)\n",
      "Requirement already satisfied: aiosignal>=1.1.2 in /Library/Frameworks/Python.framework/Versions/3.10/lib/python3.10/site-packages (from aiohttp<4.0.0,>=3.8.3->langchain) (1.3.1)\n",
      "Requirement already satisfied: yarl<2.0,>=1.0 in /Library/Frameworks/Python.framework/Versions/3.10/lib/python3.10/site-packages (from aiohttp<4.0.0,>=3.8.3->langchain) (1.9.4)\n",
      "Requirement already satisfied: frozenlist>=1.1.1 in /Library/Frameworks/Python.framework/Versions/3.10/lib/python3.10/site-packages (from aiohttp<4.0.0,>=3.8.3->langchain) (1.4.1)\n",
      "Requirement already satisfied: multidict<7.0,>=4.5 in /Library/Frameworks/Python.framework/Versions/3.10/lib/python3.10/site-packages (from aiohttp<4.0.0,>=3.8.3->langchain) (6.0.5)\n",
      "Requirement already satisfied: attrs>=17.3.0 in /Library/Frameworks/Python.framework/Versions/3.10/lib/python3.10/site-packages (from aiohttp<4.0.0,>=3.8.3->langchain) (23.2.0)\n",
      "Requirement already satisfied: marshmallow<4.0.0,>=3.18.0 in /Library/Frameworks/Python.framework/Versions/3.10/lib/python3.10/site-packages (from dataclasses-json<0.7,>=0.5.7->langchain-community) (3.21.2)\n",
      "Requirement already satisfied: typing-inspect<1,>=0.4.0 in /Library/Frameworks/Python.framework/Versions/3.10/lib/python3.10/site-packages (from dataclasses-json<0.7,>=0.5.7->langchain-community) (0.9.0)\n",
      "Requirement already satisfied: packaging<24.0,>=23.2 in /Library/Frameworks/Python.framework/Versions/3.10/lib/python3.10/site-packages (from langchain-core<0.3.0,>=0.2.0->langchain) (23.2)\n",
      "Requirement already satisfied: jsonpatch<2.0,>=1.33 in /Library/Frameworks/Python.framework/Versions/3.10/lib/python3.10/site-packages (from langchain-core<0.3.0,>=0.2.0->langchain) (1.33)\n",
      "Requirement already satisfied: jsonpointer>=1.9 in /Library/Frameworks/Python.framework/Versions/3.10/lib/python3.10/site-packages (from jsonpatch<2.0,>=1.33->langchain-core<0.3.0,>=0.2.0->langchain) (2.4)\n",
      "Requirement already satisfied: orjson<4.0.0,>=3.9.14 in /Library/Frameworks/Python.framework/Versions/3.10/lib/python3.10/site-packages (from langsmith<0.2.0,>=0.1.17->langchain) (3.10.3)\n",
      "Requirement already satisfied: typing-extensions>=4.2.0 in /Library/Frameworks/Python.framework/Versions/3.10/lib/python3.10/site-packages (from pydantic<3,>=1->langchain) (4.12.0)\n",
      "Requirement already satisfied: urllib3<3,>=1.21.1 in /Library/Frameworks/Python.framework/Versions/3.10/lib/python3.10/site-packages (from requests<3,>=2->langchain) (2.2.1)\n",
      "Requirement already satisfied: idna<4,>=2.5 in /Library/Frameworks/Python.framework/Versions/3.10/lib/python3.10/site-packages (from requests<3,>=2->langchain) (3.7)\n",
      "Requirement already satisfied: charset-normalizer<4,>=2 in /Library/Frameworks/Python.framework/Versions/3.10/lib/python3.10/site-packages (from requests<3,>=2->langchain) (3.3.2)\n",
      "Requirement already satisfied: certifi>=2017.4.17 in /Library/Frameworks/Python.framework/Versions/3.10/lib/python3.10/site-packages (from requests<3,>=2->langchain) (2024.2.2)\n",
      "Requirement already satisfied: mypy-extensions>=0.3.0 in /Library/Frameworks/Python.framework/Versions/3.10/lib/python3.10/site-packages (from typing-inspect<1,>=0.4.0->dataclasses-json<0.7,>=0.5.7->langchain-community) (1.0.0)\n",
      "Installing collected packages: langsmith, langchain, langchain-community\n",
      "  Attempting uninstall: langsmith\n",
      "    Found existing installation: langsmith 0.0.86\n",
      "    Uninstalling langsmith-0.0.86:\n",
      "      Successfully uninstalled langsmith-0.0.86\n",
      "  Attempting uninstall: langchain\n",
      "    Found existing installation: langchain 0.0.316\n",
      "    Uninstalling langchain-0.0.316:\n",
      "      Successfully uninstalled langchain-0.0.316\n",
      "Successfully installed langchain-0.2.1 langchain-community-0.2.1 langsmith-0.1.69\n",
      "\u001b[33mWARNING: You are using pip version 21.2.3; however, version 24.0 is available.\n",
      "You should consider upgrading via the '/Library/Frameworks/Python.framework/Versions/3.10/bin/python3.10 -m pip install --upgrade pip' command.\u001b[0m\n",
      "Collecting langchainhub\n",
      "  Using cached langchainhub-0.1.17-py3-none-any.whl (4.8 kB)\n",
      "Requirement already satisfied: requests<3,>=2 in /Library/Frameworks/Python.framework/Versions/3.10/lib/python3.10/site-packages (from langchainhub) (2.32.2)\n",
      "Collecting types-requests<3.0.0.0,>=2.31.0.2\n",
      "  Using cached types_requests-2.32.0.20240602-py3-none-any.whl (15 kB)\n",
      "Requirement already satisfied: idna<4,>=2.5 in /Library/Frameworks/Python.framework/Versions/3.10/lib/python3.10/site-packages (from requests<3,>=2->langchainhub) (3.7)\n",
      "Requirement already satisfied: charset-normalizer<4,>=2 in /Library/Frameworks/Python.framework/Versions/3.10/lib/python3.10/site-packages (from requests<3,>=2->langchainhub) (3.3.2)\n",
      "Requirement already satisfied: urllib3<3,>=1.21.1 in /Library/Frameworks/Python.framework/Versions/3.10/lib/python3.10/site-packages (from requests<3,>=2->langchainhub) (2.2.1)\n",
      "Requirement already satisfied: certifi>=2017.4.17 in /Library/Frameworks/Python.framework/Versions/3.10/lib/python3.10/site-packages (from requests<3,>=2->langchainhub) (2024.2.2)\n",
      "Installing collected packages: types-requests, langchainhub\n",
      "Successfully installed langchainhub-0.1.17 types-requests-2.32.0.20240602\n",
      "\u001b[33mWARNING: You are using pip version 21.2.3; however, version 24.0 is available.\n",
      "You should consider upgrading via the '/Library/Frameworks/Python.framework/Versions/3.10/bin/python3.10 -m pip install --upgrade pip' command.\u001b[0m\n"
     ]
    }
   ],
   "source": [
    "!pip3 install -U langchain langchain-community \n",
    "!pip3 install langchainhub"
   ]
  },
  {
   "cell_type": "code",
   "execution_count": 18,
   "metadata": {},
   "outputs": [],
   "source": [
    "retriever = db.as_retriever()"
   ]
  },
  {
   "cell_type": "code",
   "execution_count": 15,
   "metadata": {},
   "outputs": [],
   "source": [
    "from langchain_community.chat_models import ChatOpenAI\n",
    "from langchain.chains import create_history_aware_retriever\n",
    "from langchain.chains import create_retrieval_chain\n",
    "from langchain.chains.combine_documents import create_stuff_documents_chain\n",
    "from langchain import hub"
   ]
  },
  {
   "cell_type": "code",
   "execution_count": 19,
   "metadata": {},
   "outputs": [],
   "source": [
    "from langchain.chains import create_history_aware_retriever\n",
    "from langchain_core.prompts import ChatPromptTemplate, MessagesPlaceholder\n",
    "\n",
    "contextualize_q_system_prompt = \"\"\"Given a chat history and the latest user question \\\n",
    "which might reference context in the chat history, formulate a standalone question \\\n",
    "which can be understood without the chat history. Do NOT answer the question, \\\n",
    "just reformulate it if needed and otherwise return it as is.\"\"\"\n",
    "contextualize_q_prompt = ChatPromptTemplate.from_messages(\n",
    "    [\n",
    "        (\"system\", contextualize_q_system_prompt),\n",
    "        MessagesPlaceholder(\"chat_history\"),\n",
    "        (\"human\", \"{input}\"),\n",
    "    ]\n",
    ")\n",
    "history_aware_retriever = create_history_aware_retriever(\n",
    "    llm, retriever, contextualize_q_prompt\n",
    ")"
   ]
  },
  {
   "cell_type": "code",
   "execution_count": 20,
   "metadata": {},
   "outputs": [],
   "source": [
    "from langchain.chains import create_retrieval_chain\n",
    "from langchain.chains.combine_documents import create_stuff_documents_chain\n",
    "\n",
    "qa_system_prompt = \"\"\"You are an assistant for question-answering tasks. \\\n",
    "Use the following pieces of retrieved context to answer the question. \\\n",
    "If you don't know the answer, just say that you don't know. \\\n",
    "Use three sentences maximum and keep the answer concise.\\\n",
    "\n",
    "{context}\"\"\"\n",
    "qa_prompt = ChatPromptTemplate.from_messages(\n",
    "    [\n",
    "        (\"system\", qa_system_prompt),\n",
    "        MessagesPlaceholder(\"chat_history\"),\n",
    "        (\"human\", \"{input}\"),\n",
    "    ]\n",
    ")\n",
    "\n",
    "\n",
    "question_answer_chain = create_stuff_documents_chain(llm, qa_prompt)\n",
    "\n",
    "rag_chain = create_retrieval_chain(history_aware_retriever, question_answer_chain)"
   ]
  },
  {
   "cell_type": "code",
   "execution_count": 43,
   "metadata": {},
   "outputs": [],
   "source": [
    "chat_history = [{'role': 'system', 'content': '\\n\\n        You are a helpful Assistant who answers to users questions based on multiple contexts given to you.\\n\\n        Keep your answer creative.\\n        \\n        Please take into account the previous messages as well.\\n        \\n        Make sure to citation for the answer from metadata.\\n            \\n        Reply to greetings messages.\\n    '}, {'role': 'user', 'content': 'Hi! How are you?'}, {'role': 'assistant', 'content': 'Hello, How can I help you?'}, {'role': 'user', 'content': 'Could you tell me few trials related to brain tumor?'}, {'role': 'assistant', 'content': 'Based on the contexts provided, here are a few clinical trials related to brain tumors:\\n\\n1. **Trial Title:** Phase II Trial of the Immune Checkpoint Inhibitor Nivolumab in Patients With Recurrent Select Rare CNS Cancers\\n   - **NCT ID:** NCT03173950\\n   - **Sponsor:** National Cancer Institute (NCI)\\n   - **Objective:** Evaluate the efficacy of the immune checkpoint inhibitor Nivolumab in patients with recurrent rare central nervous system neoplasms.\\n   - **Eligibility:** Patients with various rare CNS cancers, aged 18 or above, with progressive tumor growth, and specific laboratory parameters within normal range.\\n   - **Status:** Recruiting\\n\\n2. **Trial Title:** A Randomized Phase III Trial of Pre-Operative Compared to Post-Operative Stereotactic Radiosurgery in Patients With Resectable Brain Metastases\\n   - **NCT ID:** NCT05438212\\n   - **Sponsor:** NRG Oncology\\n   - **Objective:** Compare the addition of stereotactic radiosurgery before or after surgery in patients with brain metastases to assess the impact on overall survival and progression-free survival.\\n   - **Eligibility:** Patients with resectable brain metastases, who meet specific criteria related to tumor size and location.\\n   - **Status:** Recruiting\\n\\n3. **Trial Title:** ONC201 for the Treatment of Newly Diagnosed H3 K27M-mutant Diffuse Glioma Following Completion of Radiotherapy: A Randomized, Double-Blind, Placebo-Controlled, Multicenter Study\\n   - **NCT ID:** NCT05580562\\n   - **Sponsor:** Chimerix\\n   - **Objective:** Assess whether treatment with ONC201 following radiotherapy extends overall survival and progression-free survival in patients with newly diagnosed H3 K27M-mutant diffuse glioma.\\n   - **Eligibility:** Patients diagnosed with H3 K27M-mutant diffuse glioma who have completed frontline radiotherapy.\\n   - **Status:** Recruiting\\n\\n4. **Trial Title:** Phase II Trial of BRAF/MEK Inhibitors in Papillary Craniopharyngiomas\\n   - **NCT ID:** NCT03224767\\n   - **Sponsor:** Alliance for Clinical Trials in Oncology\\n   - **Objective:** Evaluate the activity of BRAF and MEK inhibitor combination in untreated and previously treated papillary craniopharyngiomas.\\n   - **Eligibility:** Patients with histologically proven papillary craniopharyngioma with a positive BRAF V600E mutation.\\n   - **Status:** Recruiting\\n\\nThese trials aim to contribute to the understanding and treatment of various brain tumors, offering new insights and potential therapeutic options for patients.'}]"
   ]
  },
  {
   "cell_type": "code",
   "execution_count": 30,
   "metadata": {},
   "outputs": [],
   "source": [
    "from langchain_core.messages import HumanMessage\n",
    "\n",
    "question = \"Can you give me information about the first trial you mentioned?\"\n",
    "ai_msg_1 = rag_chain.invoke({\"input\": question, \"chat_history\": chat_history})\n",
    "chat_history.extend([HumanMessage(content=question), ai_msg_1[\"answer\"]])\n",
    "\n"
   ]
  },
  {
   "cell_type": "code",
   "execution_count": 31,
   "metadata": {},
   "outputs": [
    {
     "name": "stdout",
     "output_type": "stream",
     "text": [
      "The first trial mentioned is a Phase II Trial of the Immune Checkpoint Inhibitor Nivolumab in Patients With Recurrent Select Rare CNS Cancers. The trial has the NCT ID NCT03173950 and is sponsored by the National Cancer Institute (NCI). It aims to evaluate the efficacy of Nivolumab in patients with recurrent rare central nervous system neoplasms. Eligible participants include individuals with various rare CNS cancers, aged 18 or above, with progressive tumor growth and specific laboratory parameters within normal range. The trial is currently recruiting participants.\n"
     ]
    }
   ],
   "source": [
    "print(ai_msg_1[\"answer\"])"
   ]
  },
  {
   "cell_type": "code",
   "execution_count": 32,
   "metadata": {},
   "outputs": [],
   "source": [
    "from langchain_community.chat_models import ChatOpenAI\n",
    "from langchain_core.documents import Document\n",
    "from langchain_core.prompts import ChatPromptTemplate\n",
    "from langchain.chains.combine_documents import create_stuff_documents_chain\n",
    "\n",
    "qa_system_prompt = \"\"\"You are an assistant for question-answering tasks. \\\n",
    "Use the following pieces of retrieved context to answer the question. \\\n",
    "If you don't know the answer, just say that you don't know. \\\n",
    "Use three sentences maximum and keep the answer concise.\\\n",
    "\n",
    "{context}\"\"\"\n",
    "qa_prompt = ChatPromptTemplate.from_messages(\n",
    "    [\n",
    "        (\"system\", qa_system_prompt),\n",
    "        MessagesPlaceholder(\"chat_history\"),\n",
    "        (\"human\", \"{input}\"),\n",
    "    ]\n",
    ")\n",
    "\n",
    "\n",
    "question_answer_chain = create_stuff_documents_chain(llm, qa_prompt)"
   ]
  },
  {
   "cell_type": "code",
   "execution_count": 34,
   "metadata": {},
   "outputs": [
    {
     "data": {
      "text/plain": [
       "\"Jesse's favorite color is red and Jamal's favorite color is orange.\""
      ]
     },
     "execution_count": 34,
     "metadata": {},
     "output_type": "execute_result"
    }
   ],
   "source": [
    "prompt = ChatPromptTemplate.from_messages(\n",
    "    [(\"system\", \"What are everyone's favorite colors:\\n\\n{context}\")]\n",
    ")\n",
    "llm = ChatOpenAI(model=\"gpt-3.5-turbo\")\n",
    "chain = create_stuff_documents_chain(llm, prompt)\n",
    "\n",
    "docs = [\n",
    "    Document(page_content=\"Jesse loves red but not yellow\"),\n",
    "    Document(page_content = \"Jamal loves green but not as much as he loves orange\")\n",
    "]\n",
    "\n",
    "chain.invoke({\"context\": docs})"
   ]
  },
  {
   "cell_type": "code",
   "execution_count": 126,
   "metadata": {},
   "outputs": [
    {
     "data": {
      "text/plain": [
       "'The first trial mentioned is titled \"Phase II Trial of the Immune Checkpoint Inhibitor Nivolumab in Patients With Recurrent Select Rare CNS Cancers\" with the NCT ID: NCT03173950. This trial sponsored by the National Cancer Institute (NCI) aims to evaluate the efficacy of nivolumab, an immune checkpoint inhibitor, in patients with recurrent rare central nervous system neoplasms. Eligibility criteria include specific CNS tumor types, age requirements, and adequate organ function. The trial is currently recruiting participants.'"
      ]
     },
     "execution_count": 126,
     "metadata": {},
     "output_type": "execute_result"
    }
   ],
   "source": [
    "results = history_aware_retriever.invoke({\"input\":\"Can you give me information about the first trial you mentioned?\",\"chat_history\":chat_history})\n",
    "question_answer_chain.invoke({\"input\":\"Can you give me information about the first trial you mentioned?\",\"chat_history\":chat_history, \"context\":results})"
   ]
  },
  {
   "cell_type": "code",
   "execution_count": 127,
   "metadata": {},
   "outputs": [
    {
     "data": {
      "text/plain": [
       "[Document(page_content=\"NCT ID: NCT04297683 Title: HEALEY ALS Platform Trial Short Title: HEALEY ALS Platform Trial - Master Protocol Sponsor: Merit E. Cudkowicz, MD Detailed Eligibility: Inclusion Criteria:\\n\\n1. Sporadic or familial ALS diagnosed as clinically possible, probable, lab-supported probable, or definite ALS defined by revised El Escorial criteria.\\n2. Age 18 years or older.\\n3. Capable of providing informed consent and complying with study procedures, in the SI's opinion.\\n4. Time since onset of weakness due to ALS ≤ 36 months at the time of the Master Protocol Screening Visit.\\n5. Vital Capacity ≥ 50% of predicted capacity at the time of the Master Protocol Screening Visit measured by Slow Vital Capacity (SVC), or, if required due to pandemic-related restrictions, Forced Vital Capacity (FVC) measured in person.\\n6. Participants must either not take riluzole or be on a stable dose of riluzole for ≥ 30 days prior to the Master Protocol Screening Visit.\\n7. Participants must either not take edaravone or have completed at least one cycle (typically 14 days) of edaravone prior to the Master Protocol Screening Visit.\\n8. Participants must have the ability to swallow pills and liquids at the time of the Master Protocol Screening Visit and, in the SI's opinion, have the ability to swallow for the duration of the study.\\n9. Geographically accessible to the site.\\n10. Participants must either not take Relyvrio/ Albrioza or have started Relyvrio/ Albrioza ≥ 30 days prior to the Master Protocol Screening Visit.\\n\\nExclusion Criteria:\\n\\n1. Clinically significant unstable medical condition (other than ALS) that would pose a risk to the participant, according to SI's judgment (e.g., cardiovascular instability, systemic infection, untreated thyroid dysfunction), or clinically significant laboratory abnormality or EKG changes. Clinically significant abnormal liver or kidney function is exclusionary. The following values \\\\[alanine aminotransferase (ALT) or aspartate aminotransferase (AST) \\\\> 3 times the upper limit of normal (ULN) or estimated Glomerular Filtration Rate (eGFR) \\\\< 30 mL/min/1.73m2\\\\] are exclusionary regardless of clinical symptoms.\\n2. Presence of unstable psychiatric disease, cognitive impairment, dementia or substance abuse that would impair ability of the participant to provide informed consent, in the SI's opinion.\\n3. Active cancer or history of cancer, except for the following: basal cell carcinoma or successfully treated squamous cell carcinoma of the skin, cervical carcinoma in situ, prostatic carcinoma in situ, or other malignancies curatively treated and with no evidence of disease recurrence for at least 3 years.\\n4. Use of investigational treatments for ALS (off-label use or active participation in a clinical trial) within 5 half-lives (if known) or 30 days (whichever is longer) prior to the Master Protocol Screening Visit.\\n5. Exposure at any time to any gene therapies under investigation for the treatment of ALS (off-label use or investigational).\\n6. If female, breastfeeding, known to be pregnant, planning to become pregnant during the study, or of child-bearing potential and unwilling to use effective contraception, for the duration of the trial and for 3 months, or as specified in each RSA, after discontinuing study treatment.\\n7. If male of reproductive capacity, unwilling to use effective contraception for the duration of the trial and for 3 months, or as specified in each RSA, after discontinuing study treatment.\\n8. Anything that would place the participant at increased risk or preclude the participant's full compliance with or completion of the study, in the SI's opinion.\\n9. If a participant is being re-screened, the disqualifying condition has not been resolved, or the mandatory wash-out duration has not occurred. Description: The HEALEY ALS Platform Trial is a perpetual multi-center, multi-regimen clinical trial evaluating the safety and efficacy of investigational products for the treatment of ALS. This trial is designed as a perpetual platform trial. This means that there is a single Master Protocol dictating the conduct of the trial.\\n\\nIn this trial, multiple investigational products for ALS will be tested simultaneously or sequentially. Each investigational product will be tested in a regimen. Each regimen consists of a placebo-controlled trial, meaning that the active investigational product and matching placebo will be tested in each regimen.\\n\\nThe additional details that govern the testing of each investigational product will be summarized in separate regimen-specific appendices (RSAs). Each regimen will have a separate ClinicalTrials.gov posting, which will include specific information about the regimen. All regimen-specific outcome measures will be detailed in each regimen posting.\\n\\nParticipants will have an equal chance to be randomized to all regimens that are active at the time of screening. Once randomized to a regimen, participants will be randomized in a 3:1 ratio to either study drug or placebo.\\n\\nThe following regimens are active in the trial:\\n\\nRegimen A - Zilucoplan Regimen B - Verdiperstat Regimen C - CNM-Au8 Regimen D - Priodopidine Regimen E - SLS-005 Trehalose Regimen F - ABBV-CLS-7262 Regimen G - DNL343\\n\\nNew regimens will be continuously added as new investigational products become available. The HEALEY ALS Platform Trial will enroll additional participants as each new regimen is available. Summary: The HEALEY ALS Platform Trial is a perpetual multi-center, multi-regimen clinical trial evaluating the safety and efficacy of investigational products for the treatment of ALS. Status: RECRUITING Outcome Description: Change in disease severity over time as measured by the ALS Functional Rating Scale-Revised (ALSFRS-R). Each type of function is scored from 4 (normal) to 0 (no ability), with a maximum total score of 48 and a minimum total score of 0. Patients with higher scores have more physical function. Outcome Measure: Disease Progression Outcome Timeframe: 24 Weeks Age Description: ADULT, OLDER_ADULT \", metadata={'source': 'NCT04297683'}, _lc_kwargs={'page_content': \"NCT ID: NCT04297683 Title: HEALEY ALS Platform Trial Short Title: HEALEY ALS Platform Trial - Master Protocol Sponsor: Merit E. Cudkowicz, MD Detailed Eligibility: Inclusion Criteria:\\n\\n1. Sporadic or familial ALS diagnosed as clinically possible, probable, lab-supported probable, or definite ALS defined by revised El Escorial criteria.\\n2. Age 18 years or older.\\n3. Capable of providing informed consent and complying with study procedures, in the SI's opinion.\\n4. Time since onset of weakness due to ALS ≤ 36 months at the time of the Master Protocol Screening Visit.\\n5. Vital Capacity ≥ 50% of predicted capacity at the time of the Master Protocol Screening Visit measured by Slow Vital Capacity (SVC), or, if required due to pandemic-related restrictions, Forced Vital Capacity (FVC) measured in person.\\n6. Participants must either not take riluzole or be on a stable dose of riluzole for ≥ 30 days prior to the Master Protocol Screening Visit.\\n7. Participants must either not take edaravone or have completed at least one cycle (typically 14 days) of edaravone prior to the Master Protocol Screening Visit.\\n8. Participants must have the ability to swallow pills and liquids at the time of the Master Protocol Screening Visit and, in the SI's opinion, have the ability to swallow for the duration of the study.\\n9. Geographically accessible to the site.\\n10. Participants must either not take Relyvrio/ Albrioza or have started Relyvrio/ Albrioza ≥ 30 days prior to the Master Protocol Screening Visit.\\n\\nExclusion Criteria:\\n\\n1. Clinically significant unstable medical condition (other than ALS) that would pose a risk to the participant, according to SI's judgment (e.g., cardiovascular instability, systemic infection, untreated thyroid dysfunction), or clinically significant laboratory abnormality or EKG changes. Clinically significant abnormal liver or kidney function is exclusionary. The following values \\\\[alanine aminotransferase (ALT) or aspartate aminotransferase (AST) \\\\> 3 times the upper limit of normal (ULN) or estimated Glomerular Filtration Rate (eGFR) \\\\< 30 mL/min/1.73m2\\\\] are exclusionary regardless of clinical symptoms.\\n2. Presence of unstable psychiatric disease, cognitive impairment, dementia or substance abuse that would impair ability of the participant to provide informed consent, in the SI's opinion.\\n3. Active cancer or history of cancer, except for the following: basal cell carcinoma or successfully treated squamous cell carcinoma of the skin, cervical carcinoma in situ, prostatic carcinoma in situ, or other malignancies curatively treated and with no evidence of disease recurrence for at least 3 years.\\n4. Use of investigational treatments for ALS (off-label use or active participation in a clinical trial) within 5 half-lives (if known) or 30 days (whichever is longer) prior to the Master Protocol Screening Visit.\\n5. Exposure at any time to any gene therapies under investigation for the treatment of ALS (off-label use or investigational).\\n6. If female, breastfeeding, known to be pregnant, planning to become pregnant during the study, or of child-bearing potential and unwilling to use effective contraception, for the duration of the trial and for 3 months, or as specified in each RSA, after discontinuing study treatment.\\n7. If male of reproductive capacity, unwilling to use effective contraception for the duration of the trial and for 3 months, or as specified in each RSA, after discontinuing study treatment.\\n8. Anything that would place the participant at increased risk or preclude the participant's full compliance with or completion of the study, in the SI's opinion.\\n9. If a participant is being re-screened, the disqualifying condition has not been resolved, or the mandatory wash-out duration has not occurred. Description: The HEALEY ALS Platform Trial is a perpetual multi-center, multi-regimen clinical trial evaluating the safety and efficacy of investigational products for the treatment of ALS. This trial is designed as a perpetual platform trial. This means that there is a single Master Protocol dictating the conduct of the trial.\\n\\nIn this trial, multiple investigational products for ALS will be tested simultaneously or sequentially. Each investigational product will be tested in a regimen. Each regimen consists of a placebo-controlled trial, meaning that the active investigational product and matching placebo will be tested in each regimen.\\n\\nThe additional details that govern the testing of each investigational product will be summarized in separate regimen-specific appendices (RSAs). Each regimen will have a separate ClinicalTrials.gov posting, which will include specific information about the regimen. All regimen-specific outcome measures will be detailed in each regimen posting.\\n\\nParticipants will have an equal chance to be randomized to all regimens that are active at the time of screening. Once randomized to a regimen, participants will be randomized in a 3:1 ratio to either study drug or placebo.\\n\\nThe following regimens are active in the trial:\\n\\nRegimen A - Zilucoplan Regimen B - Verdiperstat Regimen C - CNM-Au8 Regimen D - Priodopidine Regimen E - SLS-005 Trehalose Regimen F - ABBV-CLS-7262 Regimen G - DNL343\\n\\nNew regimens will be continuously added as new investigational products become available. The HEALEY ALS Platform Trial will enroll additional participants as each new regimen is available. Summary: The HEALEY ALS Platform Trial is a perpetual multi-center, multi-regimen clinical trial evaluating the safety and efficacy of investigational products for the treatment of ALS. Status: RECRUITING Outcome Description: Change in disease severity over time as measured by the ALS Functional Rating Scale-Revised (ALSFRS-R). Each type of function is scored from 4 (normal) to 0 (no ability), with a maximum total score of 48 and a minimum total score of 0. Patients with higher scores have more physical function. Outcome Measure: Disease Progression Outcome Timeframe: 24 Weeks Age Description: ADULT, OLDER_ADULT \", 'metadata': {'source': 'NCT04297683'}}),\n",
       " Document(page_content=\"NCT ID: NCT03173950 Title: Phase II Trial of the Immune Checkpoint Inhibitor Nivolumab in Patients With Recurrent Select Rare CNS Cancers Short Title: Immune Checkpoint Inhibitor Nivolumab in People With Recurrent Select Rare CNS Cancers Sponsor: National Cancer Institute (NCI) Detailed Eligibility: * INCLUSION CRITERIA:\\n* Histopathologically proven diagnosis of Ependymoma, Medulloblastoma, Parenchymal Pineal Region Tumors (Pineoblastoma, Pineocytoma, Pineal Tumor of Intermediate Differentiation, Papillary Tumor of the Pineal Region), Choroid Plexus Tumors (Carcinoma, Papilloma, Atypical Papilloma), Histone Mutated Gliomas, Gliomatosis Cerebri, ATRT, Malignant/Atypical Meningioma\\\\*, Gliosarcoma or Primary CNS Sarcoma, Pleomorphic Xanthoastrocytoma (PXA) and Anaplastic Pleomorphic Xanthoastrocytoma (APXA), and tumors formerly known as Primitive Neuro-Ectodermal Tumors (Embryonal Tumor with Multilayered Rosettes, Medulloepithelioma, CNS Neuroblastoma, CNS Ganglioneuroblastoma, CNS Embryonal Tumor NOS; and tumor entities emerging from methylation profiling of CNS-PNETs: CNS neuroblastoma with FOXR2 activation, CNS Ewing sarcoma family tumor with CIC alteration, CNS high-grade neuroepithelial tumor with MN1 alterations, and CNS high-grade neuroepithelial tumor with BCOR alteration) prior to registration.\\n\\n  \\\\*Patients with extra CNS metastases from meningioma will be eligible even if pathology review fails to demonstrate high grade features on available tumor samples.\\n* The tumor tissue (e.g., block or 20 unstained slides) must be available to be sent for immunophenotyping by NCI Laboratory of Pathology.\\n* Participants must have progressive tumor growth after having received established standard of care and/or other experimental treatments for their newly diagnosed or recurrent disease. Participants will be enrolled into 2 different cohorts (cohort 1 or heavily pretreated; cohort 2 or not heavily pretreated).\\n* Age \\\\>= 18\\n* Karnofsky performance status \\\\>= 70 within 14 days prior to Step 2 registration; Participants with severe paraparesis/paraplegia who need minimal assistance for selfcare due to their motor deficit but are otherwise functionally independent will be considered eligible.\\n* Adequate hematologic function based on CBC/differential within 14 days prior to Step 2 registration defined as follows:\\n\\n  * Absolute neutrophil count \\\\>= 1,500 cells/mm3;\\n  * Platelet count \\\\>= 100,000 cells/mm3\\n  * Hemoglobin \\\\> 9.0 g/dl (may be transfused to achieve this level)\\n* Adequate renal function within 14 days prior to Step 2 registration defined as follows:\\n\\n  * BUN \\\\<= 30 mg/dl and\\n  * Serum creatinine \\\\<= 1.7 mg/dl\\n\\nNote: If the serum creatinine is greater than 1.7 mg/dl, a 24-hour urine creatinine clearance will be obtained and if the result of this study is within normal limits\\\\*, the patient would be eligible to enroll onto study. (\\\\*Normal Creatinine Clearance Range: Male: 90 - 130 ml/min; Female: 80 - 125 ml/min)\\n\\n* Adequate hepatic function within 14 days prior to Step 2 registration defined as follows:\\n\\n  * Total bilirubin (except patients with Gilbert s Syndrome, who are eligible for the study but exempt from the total bilirubin eligibility criterion) \\\\<= 2.0 mg/dl and\\n  * ALT and AST \\\\<= 2.5x ULN\\n* No active or chronic hepatitis infection. HCV antibody (for Hepatitis C) and Hepatitis B Surface antigen and Hepatitis B core antibody must be negative. This has been routinely incorporated into immunotherapy trials with checkpoint inhibitors because of concerns that the risk of treatment-induced hepatic injury is increased in the setting of active viral hepatitis.\\n* The participant must not be on a corticosteroid dose greater than physiologic replacement dosing defined as 30 mg of cortisone per day or its equivalent.\\n* The participant must provide study-specific informed consent prior to study entry. No Durable Power of Attorney or Next of Kin can provide initial consent.\\n* The effects of nivolumab on the developing human fetus are unknown. For this reason, women of childbearing potential (WOCBP) must use appropriate method(s) of contraception. WOCBP should use an adequate method to avoid pregnancy for 5 months (30 days plus the time required for nivolumab to undergo five half-lives) after the last dose of investigational drug.\\n\\nNOTE: Based on the evidence cited in Nivolumab IB ver. 20, given that nivolumab is not a genotoxic agent, and that relevant systemic concentrations sufficient to produce a risk of fetal toxicity are not expected in WOCBP partners from exposure to a male participant s seminal fluid, male study participants will not be required to use contraceptive measures and/or a latex or other synthetic condom during sexual activity with a WOCBP partner.\\n\\nEXCLUSION CRITERIA:\\n\\n* Participants who are receiving any other investigational agents.\\n* Prior use of an immunotherapy such as (but not limited to) a vaccine therapy, dendritic cell vaccine, other checkpoint inhibitors, or intracavitary or convectional enhanced delivery of chemotherapy.\\n* Prior or concurrent malignancy unless its natural history or treatment does not have the potential to interfere with the safety or efficacy assessment of the investigational regimen.\\n* Severe, active co-morbidity defined as follows:\\n\\n  * Unstable angina within the last 6 months prior to Step 2 registration.\\n  * Transmural myocardial infarction within the last 6 months prior to Step 2 registration.\\n  * Evidence of recent myocardial infarction or ischemia by the findings of S-T elevations of \\\\>= 2 mm using the analysis of an EKG performed within 14 days prior to Step 2 registration.\\n  * New York Heart Association grade II or greater congestive heart failure requiring hospitalization within 12 months prior to Step 2 registration.\\n  * History of stroke, cerebral vascular accident (CVA) or transient ischemic attack within 6 months prior to Step 2 registration, with the exception of pericavitary ischemia due to tumor resection.\\n  * Serious and inadequately controlled cardiac arrhythmia.\\n  * Significant vascular disease (e.g., aortic aneurysm, history of aortic dissection) or clinically significant peripheral vascular disease.\\n  * Evidence of bleeding diathesis or coagulopathy.\\n  * Serious or non-healing wound, ulcer, or bone fracture or history of abdominal fistula, gastrointestinal perforation, intra-abdominal abscess, major surgical procedure, open biopsy, or significant traumatic injury within 28 days prior to Step 2 registration, with the exception of the craniotomy for tumor resection.\\n  * Acute bacterial or fungal infection requiring intravenous antibiotics at the time of registration.\\n  * Chronic obstructive pulmonary disease exacerbation or other respiratory illness requiring hospitalization or precluding study therapy at the time of registration.\\n  * Hepatic insufficiency resulting in clinical jaundice and/or coagulation defects.\\n  * Known acquired immune deficiency syndrome (AIDS) based upon current CDC definition; note, however, that HIV testing is not required for entry into this protocol. The need to exclude participants with AIDS is based on the lack of information regarding the safety of nivolumab in patients with active HIV infection.\\n  * Active connective tissue disorders, such as lupus or scleroderma, which in the opinion of the treating physician may put the patient at high risk for immunologic toxicity.\\n* Participants with active autoimmune disease or history of autoimmune disease that might recur, which may affect vital organ function or require immune suppressive treatment including systemic corticosteroids, should be excluded. These include but are not limited to participants with a history of immune related neurologic disease, multiple sclerosis, autoimmune (demyelinating) neuropathy, Guillain-Barre syndrome or CIDP, myasthenia gravis; systemic autoimmune disease such as SLE, connective tissue diseases, scleroderma, inflammatory bowel disease (IBD), Crohn s, ulcerative colitis, hepatitis; and participants with a history of toxic epidermal necrolysis (TEN), Stevens-Johnson syndrome, or phospholipid syndrome should be excluded because of the risk of recurrence or exacerbation of disease.\\n\\nOf note, participants with vitiligo, endocrine deficiencies including thyroiditis managed with replacement hormones including physiologic corticosteroids are eligible. Participants with rheumatoid arthritis and other arthropathies, Sj(SqrRoot)(Delta)gren s syndrome and psoriasis controlled with topical medication and patients with positive serology, such as antinuclear antibodies (ANA), anti-thyroid antibodies should be evaluated for the presence of target organ involvement and potential need for systemic treatment but should otherwise be eligible. However, patients with vitiligo, diabetes mellitus, and Hashimoto thyroiditis on appropriate replacement therapy may be enrolled.\\n\\n* Any other major medical illnesses or psychiatric impairments that in the investigator's opinion will prevent administration or completion of protocol therapy.\\n* Allergies and Adverse Drug Reaction: History of allergy to study drug components.\\n* Pregnancy or lactating females due to possible adverse effects on the developing fetus or infant due to study drug. Women of childbearing potential must have a negative serum pregnancy test (minimum sensitivity 25 IU/L or equivalent units of HCG) within 24 hours prior to Step 2 registration.\\n* History of severe hypersensitivity reaction to any monoclonal antibody.\\n* Participants unable to have MRIs. Description: Background:\\n\\n* There are more than 130 identified primary tumors of the central nervous system (CNS). Most have an annual incidence of less than 1000 in the United States.\\n* Given the rarity of each of the tumors listed above, there is a paucity of proven therapies. Most of these neoplasms are treated with maximum surgical resection followed by treatment with external beam radiotherapy. With few exceptions (medulloblastoma, adult ependymoma), there are no effective systemic regimens and even in chemotherapy sensitive disease, most patients with recurrence eventually have no remaining salvage treatments available.\\n* In the setting of this unmet need, we propose to create a basket protocol that will evaluate the efficacy of the PD-1 inhibitor, nivolumab, in patients with refractory rare central nervous system neoplasms.\\n* This study seeks to establish effective therapies at recurrence in patients with rare CNS tumors. We hypothesize that this therapy will improve progression free survival and/or objective responses.\\n* It will be important to determine whether any determined survival benefit is associated with improvements in symptoms or does a worsening of symptoms offset the increase in survival. Precedence exists for measuring non-therapeutic endpoints in oncology research, and specifically in studies evaluating therapeutic benefit in patients with CNS tumors. There have been efforts in neuro-oncology to evaluate secondary endpoints using validated instruments as an additional indicator of benefit. The M.D. Anderson Symptom Inventory-Brain Tumor Module (MDASI-BT) and Spine Tumor Module (MDASI-SP) allow for the self-reporting of symptom severity and interference with daily activities for patients with either brain or spinal cord tumors. The availability of validated instruments provides an opportunity to prospectively assess the impact of treatment, both positive and negative, on patients.\\n\\nObjective:\\n\\nDetermine the efficacy of nivolumab in a variety of recurrent, refractory primary central nervous system tumors as measured by disease control rate (confirmed CR/PR or durable SD for at least 6 months).\\n\\nEligibility:\\n\\n* Documented recurrent or progressive disease that corresponds to one of the tumors eligible for testing.\\n* Age greater than or equal to 18 years of age.\\n* Karnofsky Performance greater than or equal to 70%.\\n* Tumor tissue available for central review to confirm morphologic diagnosis\\n* Tumor tissue or slides must be available for central molecular and immune profiling.\\n\\nDesign:\\n\\n* This is an open label phase II clinical trial. Patients will be treated with the immune checkpoint inhibitor, nivolumab, at a standard dose of 240 mg intravenously every 2 weeks (+/- 3 days) for cycles 1 through 2, then doses of 480 mg every 4 weeks (+/- 3 days) for a total of 14 additional doses (cycles). A maximum of 18 treatments will be given (64 weeks).\\n* A cycle will be defined as 4 weeks and patients will undergo efficacy assessments using MR imaging (and/or other imaging tests if applicable) every 2 cycles. Toxicity assessments will occur before the initiation of each cycle and patient outcomes measures (PROs) will be completed at the time of each imaging study (every 2 cycles) but prior to the patient being informed of the imaging results.\\n* After completion of the planned treatment course or if treatment was stopped because of toxicity, patients will undergo imaging evaluations and PRO measurements every 8 weeks (or 2 months) for one year, then every 3 months for the next year, then every 4\\n\\nmonths for the next year and then every 6 months while the patient remains on the protocol. Patients off treatment because of disease progression will not undergo future imaging or PRO assessments on this protocol.\\n\\n* Bayesian Optimal Phase 2 design (BOP2), will be used to conduct this phase II trial in patients with a variety of recurrent, refractory primary central nervous system tumors.\\n* The study will be comprised of 2 disease cohorts: heavily pretreated (defined as having received 3 or more prior therapies) and non-heavily pretreated (defined as having received up to 2 prior therapies). Each cohort will be evaluated\\n\\nindependently for efficacy. Summary: Background:\\n\\nMore than 130 primary tumors of the central nervous system (CNS) have been identified. Most affect less than 1,000 people in the United States each year. Because these tumors are so rare, there are few proven therapies. This study will test whether the immunotherapy drug nivolumab is an effective treatment for people with rare CNS tumors.\\n\\nObjectives:\\n\\nTo learn if stimulating the immune system using the drug nivolumab can shrink tumors in people with rare CNS (brain or spine) tumors or increase the time it takes for these tumors to grow or spread.\\n\\nEligibility:\\n\\nAdults whose rare CNS tumor has returned.\\n\\nDesign:\\n\\nParticipants will be screened:\\n\\n* Heart and blood tests\\n* Physical and neurological exam\\n* Hepatitis tests\\n* Pregnancy test\\n* MRI. They will lay in a machine that takes pictures.\\n* Tumor tissue sample. This can be from a previous procedure.\\n\\nAt the start of the study, participants will have blood tests. They will answer questions about their symptoms and their quality of life.\\n\\nParticipants will get nivolumab in a vein every 2 weeks for up to 64 weeks.\\n\\nParticipants will have monthly blood tests. Every other month they will have an MRI and a neurologic function test. They will also answer questions about their quality of life.\\n\\nGenetic tests will be done on participants' tumor tissue. Participants will be contacted if any clinically important results are found.\\n\\nAfter treatment ends, participants will be monitored for up to 5 years. They will have a series of MRIs and neurological function tests. They will be asked to report any symptoms they experience.... Status: RECRUITING Outcome Description: Rate of achieving a confirmed Complete Response/Partial Response (confirmed by imaging one month later) Outcome Measure: objective response Outcome Timeframe: end of treatment Age Description: ADULT, OLDER_ADULT \", metadata={'source': 'NCT03173950'}, _lc_kwargs={'page_content': \"NCT ID: NCT03173950 Title: Phase II Trial of the Immune Checkpoint Inhibitor Nivolumab in Patients With Recurrent Select Rare CNS Cancers Short Title: Immune Checkpoint Inhibitor Nivolumab in People With Recurrent Select Rare CNS Cancers Sponsor: National Cancer Institute (NCI) Detailed Eligibility: * INCLUSION CRITERIA:\\n* Histopathologically proven diagnosis of Ependymoma, Medulloblastoma, Parenchymal Pineal Region Tumors (Pineoblastoma, Pineocytoma, Pineal Tumor of Intermediate Differentiation, Papillary Tumor of the Pineal Region), Choroid Plexus Tumors (Carcinoma, Papilloma, Atypical Papilloma), Histone Mutated Gliomas, Gliomatosis Cerebri, ATRT, Malignant/Atypical Meningioma\\\\*, Gliosarcoma or Primary CNS Sarcoma, Pleomorphic Xanthoastrocytoma (PXA) and Anaplastic Pleomorphic Xanthoastrocytoma (APXA), and tumors formerly known as Primitive Neuro-Ectodermal Tumors (Embryonal Tumor with Multilayered Rosettes, Medulloepithelioma, CNS Neuroblastoma, CNS Ganglioneuroblastoma, CNS Embryonal Tumor NOS; and tumor entities emerging from methylation profiling of CNS-PNETs: CNS neuroblastoma with FOXR2 activation, CNS Ewing sarcoma family tumor with CIC alteration, CNS high-grade neuroepithelial tumor with MN1 alterations, and CNS high-grade neuroepithelial tumor with BCOR alteration) prior to registration.\\n\\n  \\\\*Patients with extra CNS metastases from meningioma will be eligible even if pathology review fails to demonstrate high grade features on available tumor samples.\\n* The tumor tissue (e.g., block or 20 unstained slides) must be available to be sent for immunophenotyping by NCI Laboratory of Pathology.\\n* Participants must have progressive tumor growth after having received established standard of care and/or other experimental treatments for their newly diagnosed or recurrent disease. Participants will be enrolled into 2 different cohorts (cohort 1 or heavily pretreated; cohort 2 or not heavily pretreated).\\n* Age \\\\>= 18\\n* Karnofsky performance status \\\\>= 70 within 14 days prior to Step 2 registration; Participants with severe paraparesis/paraplegia who need minimal assistance for selfcare due to their motor deficit but are otherwise functionally independent will be considered eligible.\\n* Adequate hematologic function based on CBC/differential within 14 days prior to Step 2 registration defined as follows:\\n\\n  * Absolute neutrophil count \\\\>= 1,500 cells/mm3;\\n  * Platelet count \\\\>= 100,000 cells/mm3\\n  * Hemoglobin \\\\> 9.0 g/dl (may be transfused to achieve this level)\\n* Adequate renal function within 14 days prior to Step 2 registration defined as follows:\\n\\n  * BUN \\\\<= 30 mg/dl and\\n  * Serum creatinine \\\\<= 1.7 mg/dl\\n\\nNote: If the serum creatinine is greater than 1.7 mg/dl, a 24-hour urine creatinine clearance will be obtained and if the result of this study is within normal limits\\\\*, the patient would be eligible to enroll onto study. (\\\\*Normal Creatinine Clearance Range: Male: 90 - 130 ml/min; Female: 80 - 125 ml/min)\\n\\n* Adequate hepatic function within 14 days prior to Step 2 registration defined as follows:\\n\\n  * Total bilirubin (except patients with Gilbert s Syndrome, who are eligible for the study but exempt from the total bilirubin eligibility criterion) \\\\<= 2.0 mg/dl and\\n  * ALT and AST \\\\<= 2.5x ULN\\n* No active or chronic hepatitis infection. HCV antibody (for Hepatitis C) and Hepatitis B Surface antigen and Hepatitis B core antibody must be negative. This has been routinely incorporated into immunotherapy trials with checkpoint inhibitors because of concerns that the risk of treatment-induced hepatic injury is increased in the setting of active viral hepatitis.\\n* The participant must not be on a corticosteroid dose greater than physiologic replacement dosing defined as 30 mg of cortisone per day or its equivalent.\\n* The participant must provide study-specific informed consent prior to study entry. No Durable Power of Attorney or Next of Kin can provide initial consent.\\n* The effects of nivolumab on the developing human fetus are unknown. For this reason, women of childbearing potential (WOCBP) must use appropriate method(s) of contraception. WOCBP should use an adequate method to avoid pregnancy for 5 months (30 days plus the time required for nivolumab to undergo five half-lives) after the last dose of investigational drug.\\n\\nNOTE: Based on the evidence cited in Nivolumab IB ver. 20, given that nivolumab is not a genotoxic agent, and that relevant systemic concentrations sufficient to produce a risk of fetal toxicity are not expected in WOCBP partners from exposure to a male participant s seminal fluid, male study participants will not be required to use contraceptive measures and/or a latex or other synthetic condom during sexual activity with a WOCBP partner.\\n\\nEXCLUSION CRITERIA:\\n\\n* Participants who are receiving any other investigational agents.\\n* Prior use of an immunotherapy such as (but not limited to) a vaccine therapy, dendritic cell vaccine, other checkpoint inhibitors, or intracavitary or convectional enhanced delivery of chemotherapy.\\n* Prior or concurrent malignancy unless its natural history or treatment does not have the potential to interfere with the safety or efficacy assessment of the investigational regimen.\\n* Severe, active co-morbidity defined as follows:\\n\\n  * Unstable angina within the last 6 months prior to Step 2 registration.\\n  * Transmural myocardial infarction within the last 6 months prior to Step 2 registration.\\n  * Evidence of recent myocardial infarction or ischemia by the findings of S-T elevations of \\\\>= 2 mm using the analysis of an EKG performed within 14 days prior to Step 2 registration.\\n  * New York Heart Association grade II or greater congestive heart failure requiring hospitalization within 12 months prior to Step 2 registration.\\n  * History of stroke, cerebral vascular accident (CVA) or transient ischemic attack within 6 months prior to Step 2 registration, with the exception of pericavitary ischemia due to tumor resection.\\n  * Serious and inadequately controlled cardiac arrhythmia.\\n  * Significant vascular disease (e.g., aortic aneurysm, history of aortic dissection) or clinically significant peripheral vascular disease.\\n  * Evidence of bleeding diathesis or coagulopathy.\\n  * Serious or non-healing wound, ulcer, or bone fracture or history of abdominal fistula, gastrointestinal perforation, intra-abdominal abscess, major surgical procedure, open biopsy, or significant traumatic injury within 28 days prior to Step 2 registration, with the exception of the craniotomy for tumor resection.\\n  * Acute bacterial or fungal infection requiring intravenous antibiotics at the time of registration.\\n  * Chronic obstructive pulmonary disease exacerbation or other respiratory illness requiring hospitalization or precluding study therapy at the time of registration.\\n  * Hepatic insufficiency resulting in clinical jaundice and/or coagulation defects.\\n  * Known acquired immune deficiency syndrome (AIDS) based upon current CDC definition; note, however, that HIV testing is not required for entry into this protocol. The need to exclude participants with AIDS is based on the lack of information regarding the safety of nivolumab in patients with active HIV infection.\\n  * Active connective tissue disorders, such as lupus or scleroderma, which in the opinion of the treating physician may put the patient at high risk for immunologic toxicity.\\n* Participants with active autoimmune disease or history of autoimmune disease that might recur, which may affect vital organ function or require immune suppressive treatment including systemic corticosteroids, should be excluded. These include but are not limited to participants with a history of immune related neurologic disease, multiple sclerosis, autoimmune (demyelinating) neuropathy, Guillain-Barre syndrome or CIDP, myasthenia gravis; systemic autoimmune disease such as SLE, connective tissue diseases, scleroderma, inflammatory bowel disease (IBD), Crohn s, ulcerative colitis, hepatitis; and participants with a history of toxic epidermal necrolysis (TEN), Stevens-Johnson syndrome, or phospholipid syndrome should be excluded because of the risk of recurrence or exacerbation of disease.\\n\\nOf note, participants with vitiligo, endocrine deficiencies including thyroiditis managed with replacement hormones including physiologic corticosteroids are eligible. Participants with rheumatoid arthritis and other arthropathies, Sj(SqrRoot)(Delta)gren s syndrome and psoriasis controlled with topical medication and patients with positive serology, such as antinuclear antibodies (ANA), anti-thyroid antibodies should be evaluated for the presence of target organ involvement and potential need for systemic treatment but should otherwise be eligible. However, patients with vitiligo, diabetes mellitus, and Hashimoto thyroiditis on appropriate replacement therapy may be enrolled.\\n\\n* Any other major medical illnesses or psychiatric impairments that in the investigator's opinion will prevent administration or completion of protocol therapy.\\n* Allergies and Adverse Drug Reaction: History of allergy to study drug components.\\n* Pregnancy or lactating females due to possible adverse effects on the developing fetus or infant due to study drug. Women of childbearing potential must have a negative serum pregnancy test (minimum sensitivity 25 IU/L or equivalent units of HCG) within 24 hours prior to Step 2 registration.\\n* History of severe hypersensitivity reaction to any monoclonal antibody.\\n* Participants unable to have MRIs. Description: Background:\\n\\n* There are more than 130 identified primary tumors of the central nervous system (CNS). Most have an annual incidence of less than 1000 in the United States.\\n* Given the rarity of each of the tumors listed above, there is a paucity of proven therapies. Most of these neoplasms are treated with maximum surgical resection followed by treatment with external beam radiotherapy. With few exceptions (medulloblastoma, adult ependymoma), there are no effective systemic regimens and even in chemotherapy sensitive disease, most patients with recurrence eventually have no remaining salvage treatments available.\\n* In the setting of this unmet need, we propose to create a basket protocol that will evaluate the efficacy of the PD-1 inhibitor, nivolumab, in patients with refractory rare central nervous system neoplasms.\\n* This study seeks to establish effective therapies at recurrence in patients with rare CNS tumors. We hypothesize that this therapy will improve progression free survival and/or objective responses.\\n* It will be important to determine whether any determined survival benefit is associated with improvements in symptoms or does a worsening of symptoms offset the increase in survival. Precedence exists for measuring non-therapeutic endpoints in oncology research, and specifically in studies evaluating therapeutic benefit in patients with CNS tumors. There have been efforts in neuro-oncology to evaluate secondary endpoints using validated instruments as an additional indicator of benefit. The M.D. Anderson Symptom Inventory-Brain Tumor Module (MDASI-BT) and Spine Tumor Module (MDASI-SP) allow for the self-reporting of symptom severity and interference with daily activities for patients with either brain or spinal cord tumors. The availability of validated instruments provides an opportunity to prospectively assess the impact of treatment, both positive and negative, on patients.\\n\\nObjective:\\n\\nDetermine the efficacy of nivolumab in a variety of recurrent, refractory primary central nervous system tumors as measured by disease control rate (confirmed CR/PR or durable SD for at least 6 months).\\n\\nEligibility:\\n\\n* Documented recurrent or progressive disease that corresponds to one of the tumors eligible for testing.\\n* Age greater than or equal to 18 years of age.\\n* Karnofsky Performance greater than or equal to 70%.\\n* Tumor tissue available for central review to confirm morphologic diagnosis\\n* Tumor tissue or slides must be available for central molecular and immune profiling.\\n\\nDesign:\\n\\n* This is an open label phase II clinical trial. Patients will be treated with the immune checkpoint inhibitor, nivolumab, at a standard dose of 240 mg intravenously every 2 weeks (+/- 3 days) for cycles 1 through 2, then doses of 480 mg every 4 weeks (+/- 3 days) for a total of 14 additional doses (cycles). A maximum of 18 treatments will be given (64 weeks).\\n* A cycle will be defined as 4 weeks and patients will undergo efficacy assessments using MR imaging (and/or other imaging tests if applicable) every 2 cycles. Toxicity assessments will occur before the initiation of each cycle and patient outcomes measures (PROs) will be completed at the time of each imaging study (every 2 cycles) but prior to the patient being informed of the imaging results.\\n* After completion of the planned treatment course or if treatment was stopped because of toxicity, patients will undergo imaging evaluations and PRO measurements every 8 weeks (or 2 months) for one year, then every 3 months for the next year, then every 4\\n\\nmonths for the next year and then every 6 months while the patient remains on the protocol. Patients off treatment because of disease progression will not undergo future imaging or PRO assessments on this protocol.\\n\\n* Bayesian Optimal Phase 2 design (BOP2), will be used to conduct this phase II trial in patients with a variety of recurrent, refractory primary central nervous system tumors.\\n* The study will be comprised of 2 disease cohorts: heavily pretreated (defined as having received 3 or more prior therapies) and non-heavily pretreated (defined as having received up to 2 prior therapies). Each cohort will be evaluated\\n\\nindependently for efficacy. Summary: Background:\\n\\nMore than 130 primary tumors of the central nervous system (CNS) have been identified. Most affect less than 1,000 people in the United States each year. Because these tumors are so rare, there are few proven therapies. This study will test whether the immunotherapy drug nivolumab is an effective treatment for people with rare CNS tumors.\\n\\nObjectives:\\n\\nTo learn if stimulating the immune system using the drug nivolumab can shrink tumors in people with rare CNS (brain or spine) tumors or increase the time it takes for these tumors to grow or spread.\\n\\nEligibility:\\n\\nAdults whose rare CNS tumor has returned.\\n\\nDesign:\\n\\nParticipants will be screened:\\n\\n* Heart and blood tests\\n* Physical and neurological exam\\n* Hepatitis tests\\n* Pregnancy test\\n* MRI. They will lay in a machine that takes pictures.\\n* Tumor tissue sample. This can be from a previous procedure.\\n\\nAt the start of the study, participants will have blood tests. They will answer questions about their symptoms and their quality of life.\\n\\nParticipants will get nivolumab in a vein every 2 weeks for up to 64 weeks.\\n\\nParticipants will have monthly blood tests. Every other month they will have an MRI and a neurologic function test. They will also answer questions about their quality of life.\\n\\nGenetic tests will be done on participants' tumor tissue. Participants will be contacted if any clinically important results are found.\\n\\nAfter treatment ends, participants will be monitored for up to 5 years. They will have a series of MRIs and neurological function tests. They will be asked to report any symptoms they experience.... Status: RECRUITING Outcome Description: Rate of achieving a confirmed Complete Response/Partial Response (confirmed by imaging one month later) Outcome Measure: objective response Outcome Timeframe: end of treatment Age Description: ADULT, OLDER_ADULT \", 'metadata': {'source': 'NCT03173950'}}),\n",
       " Document(page_content=\"NCT ID: NCT04994717 Title: Phase 3 Randomized, Controlled Study of Blinatumomab Alternating With Low-intensity Chemotherapy Versus Standard of Care for Older Adults With Newly Diagnosed Philadelphia-negative B-cell Precursor Acute Lymphoblastic Leukemia With Safety Run-in (Golden Gate Study) Short Title: Study Comparing Blinatumomab Alternating With Low-intensity Chemotherapy Versus Standard of Care Chemotherapy for Older Adults With Newly Diagnosed Philadelphia-negative B-cell Precursor Acute Lymphoblastic Leukemia Sponsor: Amgen Detailed Eligibility: Inclusion Criteria:\\n\\n- Age ≥ 55 years at the time of informed consent. OR\\n\\nAge 40 to \\\\< 55 years of age if at least 1 of the following comorbidities at the time of informed consent:\\n\\n* history of grades 3 and 4 pancreatitis\\n* diabetes mellitus with end-organ damage\\n* severe liver disease such as cirrhosis stage 2 with portal hypertension or history of esophageal variceal bleeding and aspartate transaminase (AST)/alanine aminotransferase (ALT) \\\\> 10 x upper limit of normal (ULN) (liver cirrhosis must be confirmed by biopsy)\\n* body mass index (BMI) ≥ 40 combined with relevant comorbidities such as metabolic syndrome\\n* Any further combination of documented severe comorbidities that the investigator judges to be incompatible with administering an intensive pediatric based, adult adapted standard chemotherapy regimen but still compatible with the suggested protocol for older participants in both the experimental and the SOC arm. The participant history will be reviewed by the medical monitor during screening to determine enrollment acceptability based on a standard list with types of comorbidities allowed. A medical advisory board is available to the investigators for questions/advice and includes experts in the field of adult leukemia with experience with the use of blinatumomab, the global development lead for blinatumomab and the medical monitor of the study.\\n\\n  * Participants with newly diagnosed Philadelphia (Ph)-negative B-cell precursor acute lymphoblastic leukemia (ALL)\\n  * Eastern Cooperative Oncology Group (ECOG) performance status ≤ 2, higher ECOG score allowed if due to underlying leukemia\\n  * All participants must have adequate organ function as defined below:\\n* renal: estimated glomerular filtration rate based on MDRD calculation ≥ 50 mL/min/1.73 m\\\\^2\\n* liver function: total bilirubin ≤ 2x upper limit of normal (ULN; unless Gilbert's Disease or if liver involvement with leukemia); exception for participants 40 to \\\\< 55 years of age if they have a comorbidity listed above: severe liver disease such as cirrhosis stage 2 with portal hypertension or history of esophageal variceal bleeding and AST/ALT \\\\> 10 x ULN (liver cirrhosis must be confirmed by biopsy)\\n* cardiac: left ventricular ejection fraction (LVEF) ≥ 50%\\n\\nExclusion Criteria:\\n\\n* Active central nervous system (CNS) leukemia not resolved with IT chemotherapy during screening.\\n* Clinically relevant CNS pathology requiring treatment (eg, unstable epilepsy).\\n* Current autoimmune disease or history of autoimmune disease with potential CNS involvement\\n* Known infection with human immunodeficiency virus (HIV)\\n* Known infection with chronic or active infection with hepatitis B (eg, hepatitis b surface \\\\[HBs\\\\] antigen reactive or quantifiable hepatitis b virus \\\\[HBV\\\\] viral load) or hepatitis C virus (HCV) (eg, HCV RNA \\\\[qualitative\\\\] is detected).\\n\\nActive hepatitis B and C based on the following results:\\n\\n* positive for hepatitis B surface antigen (HepBsAg) (indicative of chronic hepatitis B or recent acute hepatitis B)\\n* negative HepBsAg and positive for hepatitis B core antibody: negative HBV DNA by PCR result is necessary to enroll.\\n* positive Hepatitis C virus antibody (HepCAb): negative hepatitis C virus RNA by PCR result is necessary to enroll.\\n\\n  * Participant with symptoms and/or clinical signs and/or radiographic and/or sonographic signs that indicate an acute or uncontrolled chronic infection.\\n  * Cancer chemotherapy for this newly diagnosed B cell ALL before the start of protocol-required therapy with the exception of IT chemotherapy or pre-phase chemotherapy. Radiation to a spot lesion such as chloroma or lytic lesion of bone or vertebrae for pain or vertebral stabilization is allowed. Summary: The safety run-in part of the study aims to evaluate the safety and tolerability of blinatumomab alternating with low-intensity chemotherapy. The phase 3 part of the study aims to compare event-free survival (EFS) and overall survival (OS) of participants receiving blinatumomab alternating with low-intensity chemotherapy to EFS and (OS) of participants receiving standard of care (SOC) chemotherapy. Status: RECRUITING Outcome Description: Number and percentage of participants who experience one or more TEAE, serious TEAE, treatment-related adverse events, and adverse events of interest. Outcome Measure: Safety run-in: Number of Participants who Experience Treatment-emergent Adverse Events (TEAEs) Outcome Timeframe: Up to approximately 5 years Age Description: ADULT, OLDER_ADULT \", metadata={'source': 'NCT04994717'}, _lc_kwargs={'page_content': \"NCT ID: NCT04994717 Title: Phase 3 Randomized, Controlled Study of Blinatumomab Alternating With Low-intensity Chemotherapy Versus Standard of Care for Older Adults With Newly Diagnosed Philadelphia-negative B-cell Precursor Acute Lymphoblastic Leukemia With Safety Run-in (Golden Gate Study) Short Title: Study Comparing Blinatumomab Alternating With Low-intensity Chemotherapy Versus Standard of Care Chemotherapy for Older Adults With Newly Diagnosed Philadelphia-negative B-cell Precursor Acute Lymphoblastic Leukemia Sponsor: Amgen Detailed Eligibility: Inclusion Criteria:\\n\\n- Age ≥ 55 years at the time of informed consent. OR\\n\\nAge 40 to \\\\< 55 years of age if at least 1 of the following comorbidities at the time of informed consent:\\n\\n* history of grades 3 and 4 pancreatitis\\n* diabetes mellitus with end-organ damage\\n* severe liver disease such as cirrhosis stage 2 with portal hypertension or history of esophageal variceal bleeding and aspartate transaminase (AST)/alanine aminotransferase (ALT) \\\\> 10 x upper limit of normal (ULN) (liver cirrhosis must be confirmed by biopsy)\\n* body mass index (BMI) ≥ 40 combined with relevant comorbidities such as metabolic syndrome\\n* Any further combination of documented severe comorbidities that the investigator judges to be incompatible with administering an intensive pediatric based, adult adapted standard chemotherapy regimen but still compatible with the suggested protocol for older participants in both the experimental and the SOC arm. The participant history will be reviewed by the medical monitor during screening to determine enrollment acceptability based on a standard list with types of comorbidities allowed. A medical advisory board is available to the investigators for questions/advice and includes experts in the field of adult leukemia with experience with the use of blinatumomab, the global development lead for blinatumomab and the medical monitor of the study.\\n\\n  * Participants with newly diagnosed Philadelphia (Ph)-negative B-cell precursor acute lymphoblastic leukemia (ALL)\\n  * Eastern Cooperative Oncology Group (ECOG) performance status ≤ 2, higher ECOG score allowed if due to underlying leukemia\\n  * All participants must have adequate organ function as defined below:\\n* renal: estimated glomerular filtration rate based on MDRD calculation ≥ 50 mL/min/1.73 m\\\\^2\\n* liver function: total bilirubin ≤ 2x upper limit of normal (ULN; unless Gilbert's Disease or if liver involvement with leukemia); exception for participants 40 to \\\\< 55 years of age if they have a comorbidity listed above: severe liver disease such as cirrhosis stage 2 with portal hypertension or history of esophageal variceal bleeding and AST/ALT \\\\> 10 x ULN (liver cirrhosis must be confirmed by biopsy)\\n* cardiac: left ventricular ejection fraction (LVEF) ≥ 50%\\n\\nExclusion Criteria:\\n\\n* Active central nervous system (CNS) leukemia not resolved with IT chemotherapy during screening.\\n* Clinically relevant CNS pathology requiring treatment (eg, unstable epilepsy).\\n* Current autoimmune disease or history of autoimmune disease with potential CNS involvement\\n* Known infection with human immunodeficiency virus (HIV)\\n* Known infection with chronic or active infection with hepatitis B (eg, hepatitis b surface \\\\[HBs\\\\] antigen reactive or quantifiable hepatitis b virus \\\\[HBV\\\\] viral load) or hepatitis C virus (HCV) (eg, HCV RNA \\\\[qualitative\\\\] is detected).\\n\\nActive hepatitis B and C based on the following results:\\n\\n* positive for hepatitis B surface antigen (HepBsAg) (indicative of chronic hepatitis B or recent acute hepatitis B)\\n* negative HepBsAg and positive for hepatitis B core antibody: negative HBV DNA by PCR result is necessary to enroll.\\n* positive Hepatitis C virus antibody (HepCAb): negative hepatitis C virus RNA by PCR result is necessary to enroll.\\n\\n  * Participant with symptoms and/or clinical signs and/or radiographic and/or sonographic signs that indicate an acute or uncontrolled chronic infection.\\n  * Cancer chemotherapy for this newly diagnosed B cell ALL before the start of protocol-required therapy with the exception of IT chemotherapy or pre-phase chemotherapy. Radiation to a spot lesion such as chloroma or lytic lesion of bone or vertebrae for pain or vertebral stabilization is allowed. Summary: The safety run-in part of the study aims to evaluate the safety and tolerability of blinatumomab alternating with low-intensity chemotherapy. The phase 3 part of the study aims to compare event-free survival (EFS) and overall survival (OS) of participants receiving blinatumomab alternating with low-intensity chemotherapy to EFS and (OS) of participants receiving standard of care (SOC) chemotherapy. Status: RECRUITING Outcome Description: Number and percentage of participants who experience one or more TEAE, serious TEAE, treatment-related adverse events, and adverse events of interest. Outcome Measure: Safety run-in: Number of Participants who Experience Treatment-emergent Adverse Events (TEAEs) Outcome Timeframe: Up to approximately 5 years Age Description: ADULT, OLDER_ADULT \", 'metadata': {'source': 'NCT04994717'}}),\n",
       " Document(page_content='NCT ID: NCT05095376 Title: A Phase III Trial of Gleostine® (Lomustine)-Temozolomide Combination Therapy Versus Standard Temozolomide in Patients With Methylated MGMT Promoter Glioblastoma Short Title: Testing the Addition of the Chemotherapy Drug Lomustine (Gleostine®) to the Usual Treatment (Temozolomide and Radiation Therapy) for Newly Diagnosed MGMT Methylated Glioblastoma Sponsor: NRG Oncology Detailed Eligibility: Inclusion Criteria:\\n\\n* STEP 1 REGISTRATION: No known IDH mutation. (If tested before step 1 registration, patients known to have IDH mutation in the tumor on local or other testing are ineligible and should not be registered)\\n* STEP 1 REGISTRATION: Availability of formalin-fixed paraffin-embedded (FFPE) tumor tissue block and hematoxylin and eosin (H\\\\&E) stained slide to be sent for central pathology review for confirmation of histology and MGMT promoter methylation status. Note that tissue for central pathology review and central MGMT assessment must be received by the NYU Center for Biospecimen Research and Development (CBRD) on or before postoperative calendar day 30. If tissue cannot be received by postoperative calendar day 30, then patients may NOT enroll on this trial as central pathology review will not be complete in time for the patient to start treatment no later than 8 weeks following surgery. Results of central pathology review and central MGMT analysis will generally be conveyed to NRG Oncology within 10 business days of receipt of tissue. Note: In the event of an additional tumor resection(s), tissue must be received within 30 days of the most recent resection and the latest resection must have been performed within 30 days after the initial resection. Surgical resection is required; stereotactic biopsy alone is not allowed because it will not provide sufficient tissue for MGMT analysis\\n* STEP 1 REGISTRATION: Contrast-enhanced brain MRI after surgery\\n* STEP 1 REGISTRATION: Willing to use highly effective method of contraception for participants of childbearing potential (participants who may become pregnant or who may impregnate a partner) during therapy and for 6 months after completing treatment; this inclusion is necessary because the treatment in this study may be significantly teratogenic\\n* STEP 1 REGISTRATION: The patient or a legally authorized representative must provide study-specific informed consent prior to study entry and, for patients treated in the United States (U.S.), authorization permitting release of personal health information\\n* STEP 2 REGISTRATION: Histopathologically proven diagnosis of glioblastoma (or gliosarcoma as a subtype of glioblastoma) confirmed by central pathology review\\n* STEP 2 REGISTRATION: MGMT promoter with methylation confirmed by central pathology review (See Section 10 for details). Note: Patients with tissue that is insufficient or inadequate for analysis, fails MGMT testing, or has indeterminate or unmethylated MGMT promoter are excluded.\\n* STEP 2 REGISTRATION: IDH mutation testing by at least one method (such as immunohistochemistry for IDH1 R132H) must be performed as part of standard of care and no mutation must be found (i.e IDH wildtype). (If a mutation is identified then the patient will be ineligible and must be registered as ineligible at Step 2.)\\n* STEP 2 REGISTRATION: History/physical examination within 28 days prior to Step 2 registration\\n* STEP 2 REGISTRATION: Karnofsky performance status (KPS) \\\\>= 70 within 28 days prior to Step 2 registration\\n* STEP 2 REGISTRATION: Neurologic function assessment within 28 days prior to Step 2 registration\\n* STEP 2 REGISTRATION: Age 18-70 years\\n\\nAdequate hematologic, renal, and hepatic function within 14 days prior to STEP 2 REGISTRATION defined as follows:\\n\\n* STEP 2 REGISTRATION: Hemoglobin \\\\>= 10 g/dl (Note: the use of transfusion or other intervention to achieve hemoglobin (Hgb) \\\\>= 10.0 g/dl is acceptable)\\n* STEP 2 REGISTRATION: Leukocytes \\\\>= 2,000/mm\\\\^3\\n* STEP 2 REGISTRATION: Absolute neutrophil count \\\\>= 1,500/mm\\\\^3\\n* STEP 2 REGISTRATION: Platelets \\\\>= 100,000/mm\\\\^3\\n* STEP 2 REGISTRATION: Total bilirubin =\\\\< 1.5 x institutional/lab upper limit of normal (ULN)\\n* STEP 2 REGISTRATION: Aspartate aminotransferase (AST) (serum glutamic-oxaloacetic transaminase \\\\[SGOT\\\\]) =\\\\< 2.5 x ULN\\n* STEP 2 REGISTRATION: Alanine aminotransferase (ALT) (serum glutamate pyruvate transaminase \\\\[SGPT\\\\]) =\\\\< 2.5 x ULN\\n* STEP 2 REGISTRATION: Serum creatinine =\\\\< 1.5 x ULN OR creatinine clearance (CrCl) \\\\>= 50 mL/min (if using the Cockcroft-Gault formula\\n* STEP 2 REGISTRATION: For patients with evidence of chronic hepatitis B virus (HBV) infection, the HBV viral load must be undetectable on suppressive therapy, if indicated\\n\\n  * Note: Known positive test for hepatitis B virus surface antigen (HBV sAg) indicating acute or chronic infection would make the patient ineligible unless the viral load becomes undetectable on suppressive therapy. Patients who are immune to hepatitis B (anti-hepatitis B surface antibody positive) are eligible (e.g. patients immunized against hepatitis B)\\n* STEP 2 REGISTRATION: For patients with a history of hepatitis C virus (HCV) infection must have been treated and cured. For patients with HCV infection who are currently on treatment, they are eligible if they have an undetectable HCV viral load\\n\\n  * Note: Known positive test for hepatitis C virus ribonucleic acid (HCV ribonucleic acid \\\\[RNA\\\\]) indicating acute or chronic infection would make the patient ineligible unless the viral load becomes undetectable on suppressive therapy\\n* STEP 2 REGISTRATION: Known human immunodeficiency virus (HIV) infected patients on effective anti-retroviral therapy with undetectable viral load within 6 months prior to step 2 registration are eligible for this trial. Testing is not required for entry into protocol\\n* STEP 2 REGISTRATION: Negative serum or urine pregnancy test (in persons of childbearing potential) within 14 days prior to Step 2 registration\\n\\n  * Childbearing potential is defined as any person who has experienced menarche and who has not undergone surgical sterilization (hysterectomy or bilateral oophorectomy) or who is not postmenopausal\\n\\nExclusion Criteria:\\n\\n* STEP 2 REGISTRATION: Prior therapy for tumor, except for resection or prior laser interstitial thermal therapy (LITT). For example, prior chemotherapy, immunotherapy, or targeted therapy for GBM or lower grade glioma is disallowed (including but not limited to temozolomide, lomustine, bevacizumab, any viral therapy, ipilimumab or other CTLA-4 antibody, PD-1 antibody, CD-137 agonist, CD40 antibody, PDL-1 or 2 antibody, vaccine therapy, polio or similar viral injection as treatment for the tumor, and/or any other antibody or drug specifically targeting T-cell co-stimulation or immune checkpoint pathways) as is Gliadel wafer, radiotherapy, radiosurgery, vaccine or other immunotherapy, brachytherapy, or convection enhanced delivery\\n\\n  * Note: 5-aminolevulinic acid (ALA)-mediated fluorescent guided resection (FGR) photodynamic therapy (PDT) or fluorescein administered prior to/during surgery to aid resection is not exclusionary and is not considered a chemotherapy or intracerebral agent. Prior laser interstitial thermal therapy (LITT) is allowed.\\n* STEP 2 REGISTRATION: Current or planned treatment with any other investigational agents for the study cancer\\n* STEP 2 REGISTRATION: Definitive clinical or radiologic evidence of metastatic disease outside the brain\\n* STEP 2 REGISTRATION: Prior invasive malignancy (except non-melanomatous skin cancer, cervical cancer in situ and melanoma in situ) unless disease free for a minimum of 2 years\\n* STEP 2 REGISTRATION: Prior radiotherapy to the head or neck that would result in overlap of radiation therapy fields\\n* STEP 2 REGISTRATION: Pregnancy and individuals unwilling to discontinue nursing due to the potential teratogenic effects and potential risk for adverse events in nursing infants\\n* STEP 2 REGISTRATION: History of allergic reactions attributed to compounds of similar chemical or biologic composition to temozolomide or lomustine\\n* STEP 2 REGISTRATION: History of pulmonary fibrosis\\n* STEP 2 REGISTRATION: Uncontrolled intercurrent illness including, but not limited to:\\n\\n  * Ongoing or active infection requiring IV antibiotics, IV antiviral, or IV antifungal treatment\\n  * Symptomatic congestive heart failure, defined as New York Heart Association Functional Classification III/IV (Note: Patients with known history or current symptoms of cardiac disease, or history of treatment with cardiotoxic agents, should have a clinical risk assessment of cardiac function using the New York Heart Association Functional Classification)\\n  * Unstable angina pectoris within 6 months prior to Step 2 registration\\n  * Uncontrolled cardiac arrhythmia\\n  * Psychiatric illness/social situations that would limit compliance with study requirements\\n* STEP 2 REGISTRATION: No evidence of diffuse leptomeningeal disease that requires whole brain irradiation. Description: PRIMARY OBJECTIVE:\\n\\nI. To determine if the regimen with the two alkylating agents temozolomide and lomustine with radiotherapy (RT) significantly prolongs overall survival (OS) versus (vs.) standard chemoradiotherapy with temozolomide in patients with newly diagnosed glioblastoma (GBM) with MGMT promoter methylation.\\n\\nSECONDARY OBJECTIVES:\\n\\nI. To determine if the regimen with the two alkylating agents temozolomide and lomustine with radiotherapy (RT) significantly prolongs progression-free survival (PFS) vs. standard chemoradiotherapy with temozolomide in patients with newly diagnosed GBM with MGMT promoter methylation.\\n\\nII. To compare the two different chemotherapy regimens on patient-reported outcomes (PROs), as measured by the MD Anderson Symptom Inventory - Brain Tumor (MDASI-BT) in patients with newly diagnosed GBM with MGMT promoter methylation.\\n\\nIII. To determine if the regimen with the two alkylating agents temozolomide and lomustine with radiotherapy (RT) is associated with inferior short-term change in patient reported outcomes (PROs) as measured by MDASI-BT vs. standard chemoradiotherapy with temozolomide in patients with newly diagnosed GBM with MGMT promoter methylation.\\n\\nIV. To assess toxicity in the two different chemotherapy regimens.\\n\\nEXPLORATORY OBJECTIVES:\\n\\nI. To assess the association between absolute lymphocyte counts and outcomes. II. To assess the association between CD4+ lymphocyte counts and outcomes. III. To compare the two different chemotherapy regimens in terms of long-term PROs as measured by MDASI-BT at years 1 and 2.\\n\\nOUTLINE: Patients are randomized to 1 of 2 arms.\\n\\nARM I: Patients undergo radiation therapy 5 days per week and receive temozolomide orally (PO) once daily (QD) for 6 weeks in the absence of disease progression or unacceptable toxicity. Patients then receive temozolomide PO QD on days 1-5. Treatment repeats every 28 days for 6 cycles in the absence of disease progression or unacceptable toxicity.\\n\\nARM II: Patients undergo radiation therapy 5 days per week for 6 weeks in the absence of disease progression or unacceptable toxicity. Patients also receive lomustine PO on day 1 and temozolomide PO QD on days 2-6. Treatment repeats every 42 days for 6 cycles in the absence of disease progression or unacceptable toxicity.\\n\\nAfter completion of study treatment, patients are followed up every 3 months for year 1, every 4 months for year 2, and then every 6 months thereafter. Summary: This phase III trial compares the effect of adding lomustine to temozolomide and radiation therapy versus temozolomide and radiation therapy alone in shrinking or stabilizing newly diagnosed MGMT methylated glioblastoma. Chemotherapy drugs, such as lomustine and temozolomide, work in different ways to stop the growth of tumor cells, either by killing the cells, by stopping them from dividing, or by stopping them from spreading. Radiation therapy uses high energy photons to kill tumor cells and shrink tumors. Adding lomustine to usual treatment of temozolomide and radiation therapy may help shrink and stabilize glioblastoma. Status: RECRUITING Outcome Description: The Kaplan-Meier method will be used to estimate survival distribution for each treatment arm. Outcome Measure: Overall Survival Outcome Timeframe: From randomization to death due to any cause, assessed up to 4 years Age Description: ADULT, OLDER_ADULT ', metadata={'source': 'NCT05095376'}, _lc_kwargs={'page_content': 'NCT ID: NCT05095376 Title: A Phase III Trial of Gleostine® (Lomustine)-Temozolomide Combination Therapy Versus Standard Temozolomide in Patients With Methylated MGMT Promoter Glioblastoma Short Title: Testing the Addition of the Chemotherapy Drug Lomustine (Gleostine®) to the Usual Treatment (Temozolomide and Radiation Therapy) for Newly Diagnosed MGMT Methylated Glioblastoma Sponsor: NRG Oncology Detailed Eligibility: Inclusion Criteria:\\n\\n* STEP 1 REGISTRATION: No known IDH mutation. (If tested before step 1 registration, patients known to have IDH mutation in the tumor on local or other testing are ineligible and should not be registered)\\n* STEP 1 REGISTRATION: Availability of formalin-fixed paraffin-embedded (FFPE) tumor tissue block and hematoxylin and eosin (H\\\\&E) stained slide to be sent for central pathology review for confirmation of histology and MGMT promoter methylation status. Note that tissue for central pathology review and central MGMT assessment must be received by the NYU Center for Biospecimen Research and Development (CBRD) on or before postoperative calendar day 30. If tissue cannot be received by postoperative calendar day 30, then patients may NOT enroll on this trial as central pathology review will not be complete in time for the patient to start treatment no later than 8 weeks following surgery. Results of central pathology review and central MGMT analysis will generally be conveyed to NRG Oncology within 10 business days of receipt of tissue. Note: In the event of an additional tumor resection(s), tissue must be received within 30 days of the most recent resection and the latest resection must have been performed within 30 days after the initial resection. Surgical resection is required; stereotactic biopsy alone is not allowed because it will not provide sufficient tissue for MGMT analysis\\n* STEP 1 REGISTRATION: Contrast-enhanced brain MRI after surgery\\n* STEP 1 REGISTRATION: Willing to use highly effective method of contraception for participants of childbearing potential (participants who may become pregnant or who may impregnate a partner) during therapy and for 6 months after completing treatment; this inclusion is necessary because the treatment in this study may be significantly teratogenic\\n* STEP 1 REGISTRATION: The patient or a legally authorized representative must provide study-specific informed consent prior to study entry and, for patients treated in the United States (U.S.), authorization permitting release of personal health information\\n* STEP 2 REGISTRATION: Histopathologically proven diagnosis of glioblastoma (or gliosarcoma as a subtype of glioblastoma) confirmed by central pathology review\\n* STEP 2 REGISTRATION: MGMT promoter with methylation confirmed by central pathology review (See Section 10 for details). Note: Patients with tissue that is insufficient or inadequate for analysis, fails MGMT testing, or has indeterminate or unmethylated MGMT promoter are excluded.\\n* STEP 2 REGISTRATION: IDH mutation testing by at least one method (such as immunohistochemistry for IDH1 R132H) must be performed as part of standard of care and no mutation must be found (i.e IDH wildtype). (If a mutation is identified then the patient will be ineligible and must be registered as ineligible at Step 2.)\\n* STEP 2 REGISTRATION: History/physical examination within 28 days prior to Step 2 registration\\n* STEP 2 REGISTRATION: Karnofsky performance status (KPS) \\\\>= 70 within 28 days prior to Step 2 registration\\n* STEP 2 REGISTRATION: Neurologic function assessment within 28 days prior to Step 2 registration\\n* STEP 2 REGISTRATION: Age 18-70 years\\n\\nAdequate hematologic, renal, and hepatic function within 14 days prior to STEP 2 REGISTRATION defined as follows:\\n\\n* STEP 2 REGISTRATION: Hemoglobin \\\\>= 10 g/dl (Note: the use of transfusion or other intervention to achieve hemoglobin (Hgb) \\\\>= 10.0 g/dl is acceptable)\\n* STEP 2 REGISTRATION: Leukocytes \\\\>= 2,000/mm\\\\^3\\n* STEP 2 REGISTRATION: Absolute neutrophil count \\\\>= 1,500/mm\\\\^3\\n* STEP 2 REGISTRATION: Platelets \\\\>= 100,000/mm\\\\^3\\n* STEP 2 REGISTRATION: Total bilirubin =\\\\< 1.5 x institutional/lab upper limit of normal (ULN)\\n* STEP 2 REGISTRATION: Aspartate aminotransferase (AST) (serum glutamic-oxaloacetic transaminase \\\\[SGOT\\\\]) =\\\\< 2.5 x ULN\\n* STEP 2 REGISTRATION: Alanine aminotransferase (ALT) (serum glutamate pyruvate transaminase \\\\[SGPT\\\\]) =\\\\< 2.5 x ULN\\n* STEP 2 REGISTRATION: Serum creatinine =\\\\< 1.5 x ULN OR creatinine clearance (CrCl) \\\\>= 50 mL/min (if using the Cockcroft-Gault formula\\n* STEP 2 REGISTRATION: For patients with evidence of chronic hepatitis B virus (HBV) infection, the HBV viral load must be undetectable on suppressive therapy, if indicated\\n\\n  * Note: Known positive test for hepatitis B virus surface antigen (HBV sAg) indicating acute or chronic infection would make the patient ineligible unless the viral load becomes undetectable on suppressive therapy. Patients who are immune to hepatitis B (anti-hepatitis B surface antibody positive) are eligible (e.g. patients immunized against hepatitis B)\\n* STEP 2 REGISTRATION: For patients with a history of hepatitis C virus (HCV) infection must have been treated and cured. For patients with HCV infection who are currently on treatment, they are eligible if they have an undetectable HCV viral load\\n\\n  * Note: Known positive test for hepatitis C virus ribonucleic acid (HCV ribonucleic acid \\\\[RNA\\\\]) indicating acute or chronic infection would make the patient ineligible unless the viral load becomes undetectable on suppressive therapy\\n* STEP 2 REGISTRATION: Known human immunodeficiency virus (HIV) infected patients on effective anti-retroviral therapy with undetectable viral load within 6 months prior to step 2 registration are eligible for this trial. Testing is not required for entry into protocol\\n* STEP 2 REGISTRATION: Negative serum or urine pregnancy test (in persons of childbearing potential) within 14 days prior to Step 2 registration\\n\\n  * Childbearing potential is defined as any person who has experienced menarche and who has not undergone surgical sterilization (hysterectomy or bilateral oophorectomy) or who is not postmenopausal\\n\\nExclusion Criteria:\\n\\n* STEP 2 REGISTRATION: Prior therapy for tumor, except for resection or prior laser interstitial thermal therapy (LITT). For example, prior chemotherapy, immunotherapy, or targeted therapy for GBM or lower grade glioma is disallowed (including but not limited to temozolomide, lomustine, bevacizumab, any viral therapy, ipilimumab or other CTLA-4 antibody, PD-1 antibody, CD-137 agonist, CD40 antibody, PDL-1 or 2 antibody, vaccine therapy, polio or similar viral injection as treatment for the tumor, and/or any other antibody or drug specifically targeting T-cell co-stimulation or immune checkpoint pathways) as is Gliadel wafer, radiotherapy, radiosurgery, vaccine or other immunotherapy, brachytherapy, or convection enhanced delivery\\n\\n  * Note: 5-aminolevulinic acid (ALA)-mediated fluorescent guided resection (FGR) photodynamic therapy (PDT) or fluorescein administered prior to/during surgery to aid resection is not exclusionary and is not considered a chemotherapy or intracerebral agent. Prior laser interstitial thermal therapy (LITT) is allowed.\\n* STEP 2 REGISTRATION: Current or planned treatment with any other investigational agents for the study cancer\\n* STEP 2 REGISTRATION: Definitive clinical or radiologic evidence of metastatic disease outside the brain\\n* STEP 2 REGISTRATION: Prior invasive malignancy (except non-melanomatous skin cancer, cervical cancer in situ and melanoma in situ) unless disease free for a minimum of 2 years\\n* STEP 2 REGISTRATION: Prior radiotherapy to the head or neck that would result in overlap of radiation therapy fields\\n* STEP 2 REGISTRATION: Pregnancy and individuals unwilling to discontinue nursing due to the potential teratogenic effects and potential risk for adverse events in nursing infants\\n* STEP 2 REGISTRATION: History of allergic reactions attributed to compounds of similar chemical or biologic composition to temozolomide or lomustine\\n* STEP 2 REGISTRATION: History of pulmonary fibrosis\\n* STEP 2 REGISTRATION: Uncontrolled intercurrent illness including, but not limited to:\\n\\n  * Ongoing or active infection requiring IV antibiotics, IV antiviral, or IV antifungal treatment\\n  * Symptomatic congestive heart failure, defined as New York Heart Association Functional Classification III/IV (Note: Patients with known history or current symptoms of cardiac disease, or history of treatment with cardiotoxic agents, should have a clinical risk assessment of cardiac function using the New York Heart Association Functional Classification)\\n  * Unstable angina pectoris within 6 months prior to Step 2 registration\\n  * Uncontrolled cardiac arrhythmia\\n  * Psychiatric illness/social situations that would limit compliance with study requirements\\n* STEP 2 REGISTRATION: No evidence of diffuse leptomeningeal disease that requires whole brain irradiation. Description: PRIMARY OBJECTIVE:\\n\\nI. To determine if the regimen with the two alkylating agents temozolomide and lomustine with radiotherapy (RT) significantly prolongs overall survival (OS) versus (vs.) standard chemoradiotherapy with temozolomide in patients with newly diagnosed glioblastoma (GBM) with MGMT promoter methylation.\\n\\nSECONDARY OBJECTIVES:\\n\\nI. To determine if the regimen with the two alkylating agents temozolomide and lomustine with radiotherapy (RT) significantly prolongs progression-free survival (PFS) vs. standard chemoradiotherapy with temozolomide in patients with newly diagnosed GBM with MGMT promoter methylation.\\n\\nII. To compare the two different chemotherapy regimens on patient-reported outcomes (PROs), as measured by the MD Anderson Symptom Inventory - Brain Tumor (MDASI-BT) in patients with newly diagnosed GBM with MGMT promoter methylation.\\n\\nIII. To determine if the regimen with the two alkylating agents temozolomide and lomustine with radiotherapy (RT) is associated with inferior short-term change in patient reported outcomes (PROs) as measured by MDASI-BT vs. standard chemoradiotherapy with temozolomide in patients with newly diagnosed GBM with MGMT promoter methylation.\\n\\nIV. To assess toxicity in the two different chemotherapy regimens.\\n\\nEXPLORATORY OBJECTIVES:\\n\\nI. To assess the association between absolute lymphocyte counts and outcomes. II. To assess the association between CD4+ lymphocyte counts and outcomes. III. To compare the two different chemotherapy regimens in terms of long-term PROs as measured by MDASI-BT at years 1 and 2.\\n\\nOUTLINE: Patients are randomized to 1 of 2 arms.\\n\\nARM I: Patients undergo radiation therapy 5 days per week and receive temozolomide orally (PO) once daily (QD) for 6 weeks in the absence of disease progression or unacceptable toxicity. Patients then receive temozolomide PO QD on days 1-5. Treatment repeats every 28 days for 6 cycles in the absence of disease progression or unacceptable toxicity.\\n\\nARM II: Patients undergo radiation therapy 5 days per week for 6 weeks in the absence of disease progression or unacceptable toxicity. Patients also receive lomustine PO on day 1 and temozolomide PO QD on days 2-6. Treatment repeats every 42 days for 6 cycles in the absence of disease progression or unacceptable toxicity.\\n\\nAfter completion of study treatment, patients are followed up every 3 months for year 1, every 4 months for year 2, and then every 6 months thereafter. Summary: This phase III trial compares the effect of adding lomustine to temozolomide and radiation therapy versus temozolomide and radiation therapy alone in shrinking or stabilizing newly diagnosed MGMT methylated glioblastoma. Chemotherapy drugs, such as lomustine and temozolomide, work in different ways to stop the growth of tumor cells, either by killing the cells, by stopping them from dividing, or by stopping them from spreading. Radiation therapy uses high energy photons to kill tumor cells and shrink tumors. Adding lomustine to usual treatment of temozolomide and radiation therapy may help shrink and stabilize glioblastoma. Status: RECRUITING Outcome Description: The Kaplan-Meier method will be used to estimate survival distribution for each treatment arm. Outcome Measure: Overall Survival Outcome Timeframe: From randomization to death due to any cause, assessed up to 4 years Age Description: ADULT, OLDER_ADULT ', 'metadata': {'source': 'NCT05095376'}})]"
      ]
     },
     "execution_count": 127,
     "metadata": {},
     "output_type": "execute_result"
    }
   ],
   "source": [
    "results"
   ]
  },
  {
   "cell_type": "code",
   "execution_count": 99,
   "metadata": {},
   "outputs": [],
   "source": [
    "from langchain_core.prompts import ChatPromptTemplate\n",
    "from langchain_core.output_parsers import StrOutputParser\n",
    "parser = StrOutputParser()"
   ]
  },
  {
   "cell_type": "code",
   "execution_count": 131,
   "metadata": {},
   "outputs": [],
   "source": [
    "contextualize_q_system_prompt = \"\"\"Given a chat history and the latest user question \\\n",
    "which might reference context in the chat history, formulate a standalone question \\\n",
    "which can be understood without the chat history. Do NOT answer the question, \\\n",
    "just reformulate it if needed and otherwise return it as is.\"\"\"\n",
    "\n",
    "contextualize_q_prompt = ChatPromptTemplate.from_messages([(\"system\", contextualize_q_system_prompt),MessagesPlaceholder(\"chat_history\"),(\"human\", \"{input}\")])\n",
    "\n",
    "chain= contextualize_q_prompt | llm | StrOutputParser()"
   ]
  },
  {
   "cell_type": "code",
   "execution_count": 132,
   "metadata": {},
   "outputs": [
    {
     "data": {
      "text/plain": [
       "ChatPromptTemplate(input_variables=['chat_history', 'input'], input_types={'chat_history': typing.List[typing.Union[langchain_core.messages.ai.AIMessage, langchain_core.messages.human.HumanMessage, langchain_core.messages.chat.ChatMessage, langchain_core.messages.system.SystemMessage, langchain_core.messages.function.FunctionMessage, langchain_core.messages.tool.ToolMessage]]}, messages=[SystemMessagePromptTemplate(prompt=PromptTemplate(input_variables=[], template='Given a chat history and the latest user question which might reference context in the chat history, formulate a standalone question which can be understood without the chat history. Do NOT answer the question, just reformulate it if needed and otherwise return it as is.')), MessagesPlaceholder(variable_name='chat_history'), HumanMessagePromptTemplate(prompt=PromptTemplate(input_variables=['input'], template='{input}'))])\n",
       "| ChatOpenAI(client=<class 'openai.api_resources.chat_completion.ChatCompletion'>, openai_api_key='sk-proj-75yGrvAScEG7potBK9J2T3BlbkFJHF4lXcbPK9FBkuQPR23W', openai_proxy='')\n",
       "| StrOutputParser()"
      ]
     },
     "execution_count": 132,
     "metadata": {},
     "output_type": "execute_result"
    }
   ],
   "source": [
    "chain"
   ]
  },
  {
   "cell_type": "code",
   "execution_count": 133,
   "metadata": {},
   "outputs": [
    {
     "data": {
      "text/plain": [
       "'Could you provide me with more details to better assist you?'"
      ]
     },
     "execution_count": 133,
     "metadata": {},
     "output_type": "execute_result"
    }
   ],
   "source": [
    "chain.invoke({\"input\":\"Could you give me information about the first trial mentioned?\", \"chat_history\":chat_history})"
   ]
  },
  {
   "cell_type": "code",
   "execution_count": 135,
   "metadata": {},
   "outputs": [
    {
     "data": {
      "text/plain": [
       "ChatPromptValue(messages=[SystemMessage(content='Given a chat history and the latest user question which might reference context in the chat history, formulate a standalone question which can be understood without the chat history. Do NOT answer the question, just reformulate it if needed and otherwise return it as is.'), SystemMessage(content='\\n\\n        You are a helpful Assistant who answers to users questions based on multiple contexts given to you.\\n\\n        Keep your answer creative.\\n        \\n        Please take into account the previous messages as well.\\n        \\n        Make sure to citation for the answer from metadata.\\n            \\n        Reply to greetings messages.\\n    '), HumanMessage(content='Hi! How are you?'), AIMessage(content='Hello, How can I help you?'), HumanMessage(content='Could you tell me few trials related to brain tumor?'), AIMessage(content='Based on the contexts provided, here are a few clinical trials related to brain tumors:\\n\\n1. **Trial Title:** Phase II Trial of the Immune Checkpoint Inhibitor Nivolumab in Patients With Recurrent Select Rare CNS Cancers\\n   - **NCT ID:** NCT03173950\\n   - **Sponsor:** National Cancer Institute (NCI)\\n   - **Objective:** Evaluate the efficacy of the immune checkpoint inhibitor Nivolumab in patients with recurrent rare central nervous system neoplasms.\\n   - **Eligibility:** Patients with various rare CNS cancers, aged 18 or above, with progressive tumor growth, and specific laboratory parameters within normal range.\\n   - **Status:** Recruiting\\n\\n2. **Trial Title:** A Randomized Phase III Trial of Pre-Operative Compared to Post-Operative Stereotactic Radiosurgery in Patients With Resectable Brain Metastases\\n   - **NCT ID:** NCT05438212\\n   - **Sponsor:** NRG Oncology\\n   - **Objective:** Compare the addition of stereotactic radiosurgery before or after surgery in patients with brain metastases to assess the impact on overall survival and progression-free survival.\\n   - **Eligibility:** Patients with resectable brain metastases, who meet specific criteria related to tumor size and location.\\n   - **Status:** Recruiting\\n\\n3. **Trial Title:** ONC201 for the Treatment of Newly Diagnosed H3 K27M-mutant Diffuse Glioma Following Completion of Radiotherapy: A Randomized, Double-Blind, Placebo-Controlled, Multicenter Study\\n   - **NCT ID:** NCT05580562\\n   - **Sponsor:** Chimerix\\n   - **Objective:** Assess whether treatment with ONC201 following radiotherapy extends overall survival and progression-free survival in patients with newly diagnosed H3 K27M-mutant diffuse glioma.\\n   - **Eligibility:** Patients diagnosed with H3 K27M-mutant diffuse glioma who have completed frontline radiotherapy.\\n   - **Status:** Recruiting\\n\\n4. **Trial Title:** Phase II Trial of BRAF/MEK Inhibitors in Papillary Craniopharyngiomas\\n   - **NCT ID:** NCT03224767\\n   - **Sponsor:** Alliance for Clinical Trials in Oncology\\n   - **Objective:** Evaluate the activity of BRAF and MEK inhibitor combination in untreated and previously treated papillary craniopharyngiomas.\\n   - **Eligibility:** Patients with histologically proven papillary craniopharyngioma with a positive BRAF V600E mutation.\\n   - **Status:** Recruiting\\n\\nThese trials aim to contribute to the understanding and treatment of various brain tumors, offering new insights and potential therapeutic options for patients.'), HumanMessage(content='Can you give me information about the Nivolumab trial you mentioned?')])"
      ]
     },
     "execution_count": 135,
     "metadata": {},
     "output_type": "execute_result"
    }
   ],
   "source": [
    "result = contextualize_q_prompt.invoke({\"input\":\"Can you give me information about the Nivolumab trial you mentioned?\", \"chat_history\":chat_history})\n",
    "result"
   ]
  },
  {
   "cell_type": "markdown",
   "metadata": {},
   "source": [
    "ChatPromptValue(messages=[SystemMessage(content='Given a chat history and the latest user question which might reference context in the chat history, formulate a standalone question which can be understood without the chat history. Do NOT answer the question, just reformulate it if needed and otherwise return it as is.'), \n",
    "\n",
    "SystemMessage(content='\\n\\n        You are a helpful Assistant who answers to users questions based on multiple contexts given to you.\\n\\n        Keep your answer creative.\\n        \\n        Please take into account the previous messages as well.\\n        \\n        Make sure to citation for the answer from metadata.\\n            \\n        Reply to greetings messages.\\n    '), \n",
    "HumanMessage(content='Hi! How are you?'), AIMessage(content='Hello, How can I help you?'), HumanMessage(content='Could you tell me few trials related to brain tumor?'), AIMessage(content='Based on the contexts provided, here are a few clinical trials related to brain tumors:\\n\\n1. **Trial Title:** Phase II Trial of the Immune Checkpoint Inhibitor Nivolumab in Patients With Recurrent Select Rare CNS Cancers\\n   - **NCT ID:** NCT03173950\\n   - **Sponsor:** National Cancer Institute (NCI)\\n   - **Objective:** Evaluate the efficacy of the immune checkpoint inhibitor Nivolumab in patients with recurrent rare central nervous system neoplasms.\\n   - **Eligibility:** Patients with various rare CNS cancers, aged 18 or above, with progressive tumor growth, and specific laboratory parameters within normal range.\\n   - **Status:** Recruiting\\n\\n2. **Trial Title:** A Randomized Phase III Trial of Pre-Operative Compared to Post-Operative Stereotactic Radiosurgery in Patients With Resectable Brain Metastases\\n   - **NCT ID:** NCT05438212\\n   - **Sponsor:** NRG Oncology\\n   - **Objective:** Compare the addition of stereotactic radiosurgery before or after surgery in patients with brain metastases to assess the impact on overall survival and progression-free survival.\\n   - **Eligibility:** Patients with resectable brain metastases, who meet specific criteria related to tumor size and location.\\n   - **Status:** Recruiting\\n\\n3. **Trial Title:** ONC201 for the Treatment of Newly Diagnosed H3 K27M-mutant Diffuse Glioma Following Completion of Radiotherapy: A Randomized, Double-Blind, Placebo-Controlled, Multicenter Study\\n   - **NCT ID:** NCT05580562\\n   - **Sponsor:** Chimerix\\n   - **Objective:** Assess whether treatment with ONC201 following radiotherapy extends overall survival and progression-free survival in patients with newly diagnosed H3 K27M-mutant diffuse glioma.\\n   - **Eligibility:** Patients diagnosed with H3 K27M-mutant diffuse glioma who have completed frontline radiotherapy.\\n   - **Status:** Recruiting\\n\\n4. **Trial Title:** Phase II Trial of BRAF/MEK Inhibitors in Papillary Craniopharyngiomas\\n   - **NCT ID:** NCT03224767\\n   - **Sponsor:** Alliance for Clinical Trials in Oncology\\n   - **Objective:** Evaluate the activity of BRAF and MEK inhibitor combination in untreated and previously treated papillary craniopharyngiomas.\\n   - **Eligibility:** Patients with histologically proven papillary craniopharyngioma with a positive BRAF V600E mutation.\\n   - **Status:** Recruiting\\n\\nThese trials aim to contribute to the understanding and treatment of various brain tumors, offering new insights and potential therapeutic options for patients.'), HumanMessage(content='Can you give me information about the Nivolumab trial you mentioned?')])\n"
   ]
  },
  {
   "cell_type": "code",
   "execution_count": null,
   "metadata": {},
   "outputs": [],
   "source": [
    "ChatPromptValue(messages=[SystemMessage(content='Given a chat history and the latest user question which might reference context in the chat history, formulate a standalone question which can be understood without the chat history. Do NOT answer the question, just reformulate it if needed and otherwise return it as is.'), SystemMessage(content='\\n\\n        You are a helpful Assistant who answers to users questions based on multiple contexts given to you.\\n\\n        Keep your answer creative.\\n        \\n        Please take into account the previous messages as well.\\n        \\n        Make sure to citation for the answer from metadata.\\n            \\n        Reply to greetings messages.\\n    '), HumanMessage(content='Hi! How are you?'), AIMessage(content='Hello, How can I help you?'), HumanMessage(content='Could you tell me few trials related to brain tumor?'), AIMessage(content='Based on the contexts provided, here are a few clinical trials related to brain tumors:\\n\\n1. **Trial Title:** Phase II Trial of the Immune Checkpoint Inhibitor Nivolumab in Patients With Recurrent Select Rare CNS Cancers\\n   - **NCT ID:** NCT03173950\\n   - **Sponsor:** National Cancer Institute (NCI)\\n   - **Objective:** Evaluate the efficacy of the immune checkpoint inhibitor Nivolumab in patients with recurrent rare central nervous system neoplasms.\\n   - **Eligibility:** Patients with various rare CNS cancers, aged 18 or above, with progressive tumor growth, and specific laboratory parameters within normal range.\\n   - **Status:** Recruiting\\n\\n2. **Trial Title:** A Randomized Phase III Trial of Pre-Operative Compared to Post-Operative Stereotactic Radiosurgery in Patients With Resectable Brain Metastases\\n   - **NCT ID:** NCT05438212\\n   - **Sponsor:** NRG Oncology\\n   - **Objective:** Compare the addition of stereotactic radiosurgery before or after surgery in patients with brain metastases to assess the impact on overall survival and progression-free survival.\\n   - **Eligibility:** Patients with resectable brain metastases, who meet specific criteria related to tumor size and location.\\n   - **Status:** Recruiting\\n\\n3. **Trial Title:** ONC201 for the Treatment of Newly Diagnosed H3 K27M-mutant Diffuse Glioma Following Completion of Radiotherapy: A Randomized, Double-Blind, Placebo-Controlled, Multicenter Study\\n   - **NCT ID:** NCT05580562\\n   - **Sponsor:** Chimerix\\n   - **Objective:** Assess whether treatment with ONC201 following radiotherapy extends overall survival and progression-free survival in patients with newly diagnosed H3 K27M-mutant diffuse glioma.\\n   - **Eligibility:** Patients diagnosed with H3 K27M-mutant diffuse glioma who have completed frontline radiotherapy.\\n   - **Status:** Recruiting\\n\\n4. **Trial Title:** Phase II Trial of BRAF/MEK Inhibitors in Papillary Craniopharyngiomas\\n   - **NCT ID:** NCT03224767\\n   - **Sponsor:** Alliance for Clinical Trials in Oncology\\n   - **Objective:** Evaluate the activity of BRAF and MEK inhibitor combination in untreated and previously treated papillary craniopharyngiomas.\\n   - **Eligibility:** Patients with histologically proven papillary craniopharyngioma with a positive BRAF V600E mutation.\\n   - **Status:** Recruiting\\n\\nThese trials aim to contribute to the understanding and treatment of various brain tumors, offering new insights and potential therapeutic options for patients.'), HumanMessage(content='Can you give me information about the Nivolumab trial you mentioned?')])\n"
   ]
  }
 ],
 "metadata": {
  "kernelspec": {
   "display_name": "Python 3",
   "language": "python",
   "name": "python3"
  },
  "language_info": {
   "codemirror_mode": {
    "name": "ipython",
    "version": 3
   },
   "file_extension": ".py",
   "mimetype": "text/x-python",
   "name": "python",
   "nbconvert_exporter": "python",
   "pygments_lexer": "ipython3",
   "version": "3.10.0"
  }
 },
 "nbformat": 4,
 "nbformat_minor": 2
}
